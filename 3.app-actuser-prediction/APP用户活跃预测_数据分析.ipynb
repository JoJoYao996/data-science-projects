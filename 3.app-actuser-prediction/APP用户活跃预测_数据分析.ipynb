{
  "cells": [
    {
      "cell_type": "code",
      "execution_count": 43,
      "metadata": {
        "id": "93ooND7iyAvH"
      },
      "outputs": [],
      "source": [
        "## 数据工具包\n",
        "import numpy as np\n",
        "import pandas as pd\n",
        "from tqdm import tqdm\n",
        "\n",
        "import warnings\n",
        "warnings.filterwarnings('ignore')\n",
        "\n",
        "import os \n",
        "import gc\n",
        "import time\n",
        "import datetime\n",
        "\n",
        "import multiprocessing as mp\n",
        "import seaborn as sns\n",
        "import matplotlib.pyplot as plt\n",
        "import matplotlib\n",
        "plt.rcParams['font.sans-serif']=['SimHei']   # 用来正常显示中文标签\n",
        "plt.rcParams['axes.unicode_minus']=False     # 用来正常显示负号\n",
        "matplotlib.rc(\"font\",family='Heiti TC')\n",
        "%matplotlib inline"
      ]
    },
    {
      "cell_type": "code",
      "execution_count": 44,
      "metadata": {
        "colab": {
          "base_uri": "https://localhost:8080/"
        },
        "id": "DiDjVkvryILZ",
        "outputId": "17a59365-b48f-4720-cfad-c7a0855c500d"
      },
      "outputs": [
        {
          "output_type": "stream",
          "name": "stdout",
          "text": [
            "Drive already mounted at /content/drive; to attempt to forcibly remount, call drive.mount(\"/content/drive\", force_remount=True).\n"
          ]
        }
      ],
      "source": [
        "from google.colab import drive\n",
        "drive.mount('/content/drive')\n",
        "from google.colab import drive\n",
        "import os\n",
        "path = \"/content/drive/MyDrive/数据科学项目/DAU-predict\"\n",
        "os.chdir(path)"
      ]
    },
    {
      "cell_type": "markdown",
      "metadata": {
        "id": "0UHp8lbAyAvJ"
      },
      "source": [
        "### 数据获取和预处理"
      ]
    },
    {
      "cell_type": "code",
      "execution_count": 45,
      "metadata": {
        "id": "s_CXNd_JyAvL"
      },
      "outputs": [],
      "source": [
        "register = pd.read_csv('user_register_log.txt',sep='\\t',names=['user_id','register_day','register_type','device_type'])#注册表\n",
        "launch = pd.read_csv('app_launch_log.txt',sep='\\t',names=['user_id','launch_day'])#启动日志\n",
        "create = pd.read_csv('video_create_log.txt',sep='\\t',names=['user_id','create_day'])#拍摄日志\n",
        "activity = pd.read_csv('user_activity_log.txt',sep='\\t',names=['user_id','act_day','page','video_id','author_id','act_type'])#行为日志"
      ]
    },
    {
      "cell_type": "markdown",
      "metadata": {
        "id": "TmRrpC3N0QeH"
      },
      "source": [
        "**注册信息**"
      ]
    },
    {
      "cell_type": "code",
      "execution_count": 46,
      "metadata": {
        "colab": {
          "base_uri": "https://localhost:8080/",
          "height": 206
        },
        "id": "iENeT6EyyAvL",
        "outputId": "dce5a277-b106-4df5-fb0c-c68aa0fd7e44"
      },
      "outputs": [
        {
          "output_type": "execute_result",
          "data": {
            "text/plain": [
              "   user_id  register_day  register_type  device_type\n",
              "0   744025             1              1          283\n",
              "1  1270299             1              1          259\n",
              "2   571220             1              1            2\n",
              "3  1308501             1              0           23\n",
              "4   745554             1              2            0"
            ],
            "text/html": [
              "\n",
              "  <div id=\"df-fec6fd33-95ae-4462-832c-a5805568db31\">\n",
              "    <div class=\"colab-df-container\">\n",
              "      <div>\n",
              "<style scoped>\n",
              "    .dataframe tbody tr th:only-of-type {\n",
              "        vertical-align: middle;\n",
              "    }\n",
              "\n",
              "    .dataframe tbody tr th {\n",
              "        vertical-align: top;\n",
              "    }\n",
              "\n",
              "    .dataframe thead th {\n",
              "        text-align: right;\n",
              "    }\n",
              "</style>\n",
              "<table border=\"1\" class=\"dataframe\">\n",
              "  <thead>\n",
              "    <tr style=\"text-align: right;\">\n",
              "      <th></th>\n",
              "      <th>user_id</th>\n",
              "      <th>register_day</th>\n",
              "      <th>register_type</th>\n",
              "      <th>device_type</th>\n",
              "    </tr>\n",
              "  </thead>\n",
              "  <tbody>\n",
              "    <tr>\n",
              "      <th>0</th>\n",
              "      <td>744025</td>\n",
              "      <td>1</td>\n",
              "      <td>1</td>\n",
              "      <td>283</td>\n",
              "    </tr>\n",
              "    <tr>\n",
              "      <th>1</th>\n",
              "      <td>1270299</td>\n",
              "      <td>1</td>\n",
              "      <td>1</td>\n",
              "      <td>259</td>\n",
              "    </tr>\n",
              "    <tr>\n",
              "      <th>2</th>\n",
              "      <td>571220</td>\n",
              "      <td>1</td>\n",
              "      <td>1</td>\n",
              "      <td>2</td>\n",
              "    </tr>\n",
              "    <tr>\n",
              "      <th>3</th>\n",
              "      <td>1308501</td>\n",
              "      <td>1</td>\n",
              "      <td>0</td>\n",
              "      <td>23</td>\n",
              "    </tr>\n",
              "    <tr>\n",
              "      <th>4</th>\n",
              "      <td>745554</td>\n",
              "      <td>1</td>\n",
              "      <td>2</td>\n",
              "      <td>0</td>\n",
              "    </tr>\n",
              "  </tbody>\n",
              "</table>\n",
              "</div>\n",
              "      <button class=\"colab-df-convert\" onclick=\"convertToInteractive('df-fec6fd33-95ae-4462-832c-a5805568db31')\"\n",
              "              title=\"Convert this dataframe to an interactive table.\"\n",
              "              style=\"display:none;\">\n",
              "        \n",
              "  <svg xmlns=\"http://www.w3.org/2000/svg\" height=\"24px\"viewBox=\"0 0 24 24\"\n",
              "       width=\"24px\">\n",
              "    <path d=\"M0 0h24v24H0V0z\" fill=\"none\"/>\n",
              "    <path d=\"M18.56 5.44l.94 2.06.94-2.06 2.06-.94-2.06-.94-.94-2.06-.94 2.06-2.06.94zm-11 1L8.5 8.5l.94-2.06 2.06-.94-2.06-.94L8.5 2.5l-.94 2.06-2.06.94zm10 10l.94 2.06.94-2.06 2.06-.94-2.06-.94-.94-2.06-.94 2.06-2.06.94z\"/><path d=\"M17.41 7.96l-1.37-1.37c-.4-.4-.92-.59-1.43-.59-.52 0-1.04.2-1.43.59L10.3 9.45l-7.72 7.72c-.78.78-.78 2.05 0 2.83L4 21.41c.39.39.9.59 1.41.59.51 0 1.02-.2 1.41-.59l7.78-7.78 2.81-2.81c.8-.78.8-2.07 0-2.86zM5.41 20L4 18.59l7.72-7.72 1.47 1.35L5.41 20z\"/>\n",
              "  </svg>\n",
              "      </button>\n",
              "      \n",
              "  <style>\n",
              "    .colab-df-container {\n",
              "      display:flex;\n",
              "      flex-wrap:wrap;\n",
              "      gap: 12px;\n",
              "    }\n",
              "\n",
              "    .colab-df-convert {\n",
              "      background-color: #E8F0FE;\n",
              "      border: none;\n",
              "      border-radius: 50%;\n",
              "      cursor: pointer;\n",
              "      display: none;\n",
              "      fill: #1967D2;\n",
              "      height: 32px;\n",
              "      padding: 0 0 0 0;\n",
              "      width: 32px;\n",
              "    }\n",
              "\n",
              "    .colab-df-convert:hover {\n",
              "      background-color: #E2EBFA;\n",
              "      box-shadow: 0px 1px 2px rgba(60, 64, 67, 0.3), 0px 1px 3px 1px rgba(60, 64, 67, 0.15);\n",
              "      fill: #174EA6;\n",
              "    }\n",
              "\n",
              "    [theme=dark] .colab-df-convert {\n",
              "      background-color: #3B4455;\n",
              "      fill: #D2E3FC;\n",
              "    }\n",
              "\n",
              "    [theme=dark] .colab-df-convert:hover {\n",
              "      background-color: #434B5C;\n",
              "      box-shadow: 0px 1px 3px 1px rgba(0, 0, 0, 0.15);\n",
              "      filter: drop-shadow(0px 1px 2px rgba(0, 0, 0, 0.3));\n",
              "      fill: #FFFFFF;\n",
              "    }\n",
              "  </style>\n",
              "\n",
              "      <script>\n",
              "        const buttonEl =\n",
              "          document.querySelector('#df-fec6fd33-95ae-4462-832c-a5805568db31 button.colab-df-convert');\n",
              "        buttonEl.style.display =\n",
              "          google.colab.kernel.accessAllowed ? 'block' : 'none';\n",
              "\n",
              "        async function convertToInteractive(key) {\n",
              "          const element = document.querySelector('#df-fec6fd33-95ae-4462-832c-a5805568db31');\n",
              "          const dataTable =\n",
              "            await google.colab.kernel.invokeFunction('convertToInteractive',\n",
              "                                                     [key], {});\n",
              "          if (!dataTable) return;\n",
              "\n",
              "          const docLinkHtml = 'Like what you see? Visit the ' +\n",
              "            '<a target=\"_blank\" href=https://colab.research.google.com/notebooks/data_table.ipynb>data table notebook</a>'\n",
              "            + ' to learn more about interactive tables.';\n",
              "          element.innerHTML = '';\n",
              "          dataTable['output_type'] = 'display_data';\n",
              "          await google.colab.output.renderOutput(dataTable, element);\n",
              "          const docLink = document.createElement('div');\n",
              "          docLink.innerHTML = docLinkHtml;\n",
              "          element.appendChild(docLink);\n",
              "        }\n",
              "      </script>\n",
              "    </div>\n",
              "  </div>\n",
              "  "
            ]
          },
          "metadata": {},
          "execution_count": 46
        }
      ],
      "source": [
        "register.head()"
      ]
    },
    {
      "cell_type": "markdown",
      "metadata": {
        "id": "8LWDdtsp0Zam"
      },
      "source": [
        "启动日志"
      ]
    },
    {
      "cell_type": "code",
      "execution_count": 47,
      "metadata": {
        "colab": {
          "base_uri": "https://localhost:8080/",
          "height": 206
        },
        "id": "eG7neZhoyAvN",
        "outputId": "a0457a15-428c-4481-f5af-9081a122f6ad"
      },
      "outputs": [
        {
          "output_type": "execute_result",
          "data": {
            "text/plain": [
              "   user_id  launch_day\n",
              "0   383135           1\n",
              "1   330986           4\n",
              "2   330986           9\n",
              "3   330986          11\n",
              "4   330986          12"
            ],
            "text/html": [
              "\n",
              "  <div id=\"df-1ee2befa-fcfa-4631-8ecd-89d3bcdc1cf9\">\n",
              "    <div class=\"colab-df-container\">\n",
              "      <div>\n",
              "<style scoped>\n",
              "    .dataframe tbody tr th:only-of-type {\n",
              "        vertical-align: middle;\n",
              "    }\n",
              "\n",
              "    .dataframe tbody tr th {\n",
              "        vertical-align: top;\n",
              "    }\n",
              "\n",
              "    .dataframe thead th {\n",
              "        text-align: right;\n",
              "    }\n",
              "</style>\n",
              "<table border=\"1\" class=\"dataframe\">\n",
              "  <thead>\n",
              "    <tr style=\"text-align: right;\">\n",
              "      <th></th>\n",
              "      <th>user_id</th>\n",
              "      <th>launch_day</th>\n",
              "    </tr>\n",
              "  </thead>\n",
              "  <tbody>\n",
              "    <tr>\n",
              "      <th>0</th>\n",
              "      <td>383135</td>\n",
              "      <td>1</td>\n",
              "    </tr>\n",
              "    <tr>\n",
              "      <th>1</th>\n",
              "      <td>330986</td>\n",
              "      <td>4</td>\n",
              "    </tr>\n",
              "    <tr>\n",
              "      <th>2</th>\n",
              "      <td>330986</td>\n",
              "      <td>9</td>\n",
              "    </tr>\n",
              "    <tr>\n",
              "      <th>3</th>\n",
              "      <td>330986</td>\n",
              "      <td>11</td>\n",
              "    </tr>\n",
              "    <tr>\n",
              "      <th>4</th>\n",
              "      <td>330986</td>\n",
              "      <td>12</td>\n",
              "    </tr>\n",
              "  </tbody>\n",
              "</table>\n",
              "</div>\n",
              "      <button class=\"colab-df-convert\" onclick=\"convertToInteractive('df-1ee2befa-fcfa-4631-8ecd-89d3bcdc1cf9')\"\n",
              "              title=\"Convert this dataframe to an interactive table.\"\n",
              "              style=\"display:none;\">\n",
              "        \n",
              "  <svg xmlns=\"http://www.w3.org/2000/svg\" height=\"24px\"viewBox=\"0 0 24 24\"\n",
              "       width=\"24px\">\n",
              "    <path d=\"M0 0h24v24H0V0z\" fill=\"none\"/>\n",
              "    <path d=\"M18.56 5.44l.94 2.06.94-2.06 2.06-.94-2.06-.94-.94-2.06-.94 2.06-2.06.94zm-11 1L8.5 8.5l.94-2.06 2.06-.94-2.06-.94L8.5 2.5l-.94 2.06-2.06.94zm10 10l.94 2.06.94-2.06 2.06-.94-2.06-.94-.94-2.06-.94 2.06-2.06.94z\"/><path d=\"M17.41 7.96l-1.37-1.37c-.4-.4-.92-.59-1.43-.59-.52 0-1.04.2-1.43.59L10.3 9.45l-7.72 7.72c-.78.78-.78 2.05 0 2.83L4 21.41c.39.39.9.59 1.41.59.51 0 1.02-.2 1.41-.59l7.78-7.78 2.81-2.81c.8-.78.8-2.07 0-2.86zM5.41 20L4 18.59l7.72-7.72 1.47 1.35L5.41 20z\"/>\n",
              "  </svg>\n",
              "      </button>\n",
              "      \n",
              "  <style>\n",
              "    .colab-df-container {\n",
              "      display:flex;\n",
              "      flex-wrap:wrap;\n",
              "      gap: 12px;\n",
              "    }\n",
              "\n",
              "    .colab-df-convert {\n",
              "      background-color: #E8F0FE;\n",
              "      border: none;\n",
              "      border-radius: 50%;\n",
              "      cursor: pointer;\n",
              "      display: none;\n",
              "      fill: #1967D2;\n",
              "      height: 32px;\n",
              "      padding: 0 0 0 0;\n",
              "      width: 32px;\n",
              "    }\n",
              "\n",
              "    .colab-df-convert:hover {\n",
              "      background-color: #E2EBFA;\n",
              "      box-shadow: 0px 1px 2px rgba(60, 64, 67, 0.3), 0px 1px 3px 1px rgba(60, 64, 67, 0.15);\n",
              "      fill: #174EA6;\n",
              "    }\n",
              "\n",
              "    [theme=dark] .colab-df-convert {\n",
              "      background-color: #3B4455;\n",
              "      fill: #D2E3FC;\n",
              "    }\n",
              "\n",
              "    [theme=dark] .colab-df-convert:hover {\n",
              "      background-color: #434B5C;\n",
              "      box-shadow: 0px 1px 3px 1px rgba(0, 0, 0, 0.15);\n",
              "      filter: drop-shadow(0px 1px 2px rgba(0, 0, 0, 0.3));\n",
              "      fill: #FFFFFF;\n",
              "    }\n",
              "  </style>\n",
              "\n",
              "      <script>\n",
              "        const buttonEl =\n",
              "          document.querySelector('#df-1ee2befa-fcfa-4631-8ecd-89d3bcdc1cf9 button.colab-df-convert');\n",
              "        buttonEl.style.display =\n",
              "          google.colab.kernel.accessAllowed ? 'block' : 'none';\n",
              "\n",
              "        async function convertToInteractive(key) {\n",
              "          const element = document.querySelector('#df-1ee2befa-fcfa-4631-8ecd-89d3bcdc1cf9');\n",
              "          const dataTable =\n",
              "            await google.colab.kernel.invokeFunction('convertToInteractive',\n",
              "                                                     [key], {});\n",
              "          if (!dataTable) return;\n",
              "\n",
              "          const docLinkHtml = 'Like what you see? Visit the ' +\n",
              "            '<a target=\"_blank\" href=https://colab.research.google.com/notebooks/data_table.ipynb>data table notebook</a>'\n",
              "            + ' to learn more about interactive tables.';\n",
              "          element.innerHTML = '';\n",
              "          dataTable['output_type'] = 'display_data';\n",
              "          await google.colab.output.renderOutput(dataTable, element);\n",
              "          const docLink = document.createElement('div');\n",
              "          docLink.innerHTML = docLinkHtml;\n",
              "          element.appendChild(docLink);\n",
              "        }\n",
              "      </script>\n",
              "    </div>\n",
              "  </div>\n",
              "  "
            ]
          },
          "metadata": {},
          "execution_count": 47
        }
      ],
      "source": [
        "launch.head()"
      ]
    },
    {
      "cell_type": "code",
      "execution_count": 48,
      "metadata": {
        "colab": {
          "base_uri": "https://localhost:8080/",
          "height": 206
        },
        "id": "HJRPK4qEyAvN",
        "outputId": "f998da14-511e-498b-9332-119c5e60dd54"
      },
      "outputs": [
        {
          "output_type": "execute_result",
          "data": {
            "text/plain": [
              "   user_id  create_day\n",
              "0   720497           1\n",
              "1   720497           1\n",
              "2   720497           1\n",
              "3  1075211           6\n",
              "4  1075211          12"
            ],
            "text/html": [
              "\n",
              "  <div id=\"df-4130b293-fdb8-4e2c-976e-b8a1c922b62e\">\n",
              "    <div class=\"colab-df-container\">\n",
              "      <div>\n",
              "<style scoped>\n",
              "    .dataframe tbody tr th:only-of-type {\n",
              "        vertical-align: middle;\n",
              "    }\n",
              "\n",
              "    .dataframe tbody tr th {\n",
              "        vertical-align: top;\n",
              "    }\n",
              "\n",
              "    .dataframe thead th {\n",
              "        text-align: right;\n",
              "    }\n",
              "</style>\n",
              "<table border=\"1\" class=\"dataframe\">\n",
              "  <thead>\n",
              "    <tr style=\"text-align: right;\">\n",
              "      <th></th>\n",
              "      <th>user_id</th>\n",
              "      <th>create_day</th>\n",
              "    </tr>\n",
              "  </thead>\n",
              "  <tbody>\n",
              "    <tr>\n",
              "      <th>0</th>\n",
              "      <td>720497</td>\n",
              "      <td>1</td>\n",
              "    </tr>\n",
              "    <tr>\n",
              "      <th>1</th>\n",
              "      <td>720497</td>\n",
              "      <td>1</td>\n",
              "    </tr>\n",
              "    <tr>\n",
              "      <th>2</th>\n",
              "      <td>720497</td>\n",
              "      <td>1</td>\n",
              "    </tr>\n",
              "    <tr>\n",
              "      <th>3</th>\n",
              "      <td>1075211</td>\n",
              "      <td>6</td>\n",
              "    </tr>\n",
              "    <tr>\n",
              "      <th>4</th>\n",
              "      <td>1075211</td>\n",
              "      <td>12</td>\n",
              "    </tr>\n",
              "  </tbody>\n",
              "</table>\n",
              "</div>\n",
              "      <button class=\"colab-df-convert\" onclick=\"convertToInteractive('df-4130b293-fdb8-4e2c-976e-b8a1c922b62e')\"\n",
              "              title=\"Convert this dataframe to an interactive table.\"\n",
              "              style=\"display:none;\">\n",
              "        \n",
              "  <svg xmlns=\"http://www.w3.org/2000/svg\" height=\"24px\"viewBox=\"0 0 24 24\"\n",
              "       width=\"24px\">\n",
              "    <path d=\"M0 0h24v24H0V0z\" fill=\"none\"/>\n",
              "    <path d=\"M18.56 5.44l.94 2.06.94-2.06 2.06-.94-2.06-.94-.94-2.06-.94 2.06-2.06.94zm-11 1L8.5 8.5l.94-2.06 2.06-.94-2.06-.94L8.5 2.5l-.94 2.06-2.06.94zm10 10l.94 2.06.94-2.06 2.06-.94-2.06-.94-.94-2.06-.94 2.06-2.06.94z\"/><path d=\"M17.41 7.96l-1.37-1.37c-.4-.4-.92-.59-1.43-.59-.52 0-1.04.2-1.43.59L10.3 9.45l-7.72 7.72c-.78.78-.78 2.05 0 2.83L4 21.41c.39.39.9.59 1.41.59.51 0 1.02-.2 1.41-.59l7.78-7.78 2.81-2.81c.8-.78.8-2.07 0-2.86zM5.41 20L4 18.59l7.72-7.72 1.47 1.35L5.41 20z\"/>\n",
              "  </svg>\n",
              "      </button>\n",
              "      \n",
              "  <style>\n",
              "    .colab-df-container {\n",
              "      display:flex;\n",
              "      flex-wrap:wrap;\n",
              "      gap: 12px;\n",
              "    }\n",
              "\n",
              "    .colab-df-convert {\n",
              "      background-color: #E8F0FE;\n",
              "      border: none;\n",
              "      border-radius: 50%;\n",
              "      cursor: pointer;\n",
              "      display: none;\n",
              "      fill: #1967D2;\n",
              "      height: 32px;\n",
              "      padding: 0 0 0 0;\n",
              "      width: 32px;\n",
              "    }\n",
              "\n",
              "    .colab-df-convert:hover {\n",
              "      background-color: #E2EBFA;\n",
              "      box-shadow: 0px 1px 2px rgba(60, 64, 67, 0.3), 0px 1px 3px 1px rgba(60, 64, 67, 0.15);\n",
              "      fill: #174EA6;\n",
              "    }\n",
              "\n",
              "    [theme=dark] .colab-df-convert {\n",
              "      background-color: #3B4455;\n",
              "      fill: #D2E3FC;\n",
              "    }\n",
              "\n",
              "    [theme=dark] .colab-df-convert:hover {\n",
              "      background-color: #434B5C;\n",
              "      box-shadow: 0px 1px 3px 1px rgba(0, 0, 0, 0.15);\n",
              "      filter: drop-shadow(0px 1px 2px rgba(0, 0, 0, 0.3));\n",
              "      fill: #FFFFFF;\n",
              "    }\n",
              "  </style>\n",
              "\n",
              "      <script>\n",
              "        const buttonEl =\n",
              "          document.querySelector('#df-4130b293-fdb8-4e2c-976e-b8a1c922b62e button.colab-df-convert');\n",
              "        buttonEl.style.display =\n",
              "          google.colab.kernel.accessAllowed ? 'block' : 'none';\n",
              "\n",
              "        async function convertToInteractive(key) {\n",
              "          const element = document.querySelector('#df-4130b293-fdb8-4e2c-976e-b8a1c922b62e');\n",
              "          const dataTable =\n",
              "            await google.colab.kernel.invokeFunction('convertToInteractive',\n",
              "                                                     [key], {});\n",
              "          if (!dataTable) return;\n",
              "\n",
              "          const docLinkHtml = 'Like what you see? Visit the ' +\n",
              "            '<a target=\"_blank\" href=https://colab.research.google.com/notebooks/data_table.ipynb>data table notebook</a>'\n",
              "            + ' to learn more about interactive tables.';\n",
              "          element.innerHTML = '';\n",
              "          dataTable['output_type'] = 'display_data';\n",
              "          await google.colab.output.renderOutput(dataTable, element);\n",
              "          const docLink = document.createElement('div');\n",
              "          docLink.innerHTML = docLinkHtml;\n",
              "          element.appendChild(docLink);\n",
              "        }\n",
              "      </script>\n",
              "    </div>\n",
              "  </div>\n",
              "  "
            ]
          },
          "metadata": {},
          "execution_count": 48
        }
      ],
      "source": [
        "create.head()"
      ]
    },
    {
      "cell_type": "code",
      "execution_count": 49,
      "metadata": {
        "colab": {
          "base_uri": "https://localhost:8080/",
          "height": 206
        },
        "id": "0hv00KFfyAvO",
        "outputId": "5d9bdac1-de52-4a97-c899-173492aaa015"
      },
      "outputs": [
        {
          "output_type": "execute_result",
          "data": {
            "text/plain": [
              "   user_id  act_day  page  video_id  author_id  act_type\n",
              "0  1062323       22     3   2877472     880271         0\n",
              "1   639898       17     3    740662     210200         0\n",
              "2  1260200        5     3   3332414     162866         0\n",
              "3   817201       22     3   1129617     530246         0\n",
              "4   817201       23     3   1129617     530246         0"
            ],
            "text/html": [
              "\n",
              "  <div id=\"df-688f5abd-026a-4c4f-a868-849ddf4a5aca\">\n",
              "    <div class=\"colab-df-container\">\n",
              "      <div>\n",
              "<style scoped>\n",
              "    .dataframe tbody tr th:only-of-type {\n",
              "        vertical-align: middle;\n",
              "    }\n",
              "\n",
              "    .dataframe tbody tr th {\n",
              "        vertical-align: top;\n",
              "    }\n",
              "\n",
              "    .dataframe thead th {\n",
              "        text-align: right;\n",
              "    }\n",
              "</style>\n",
              "<table border=\"1\" class=\"dataframe\">\n",
              "  <thead>\n",
              "    <tr style=\"text-align: right;\">\n",
              "      <th></th>\n",
              "      <th>user_id</th>\n",
              "      <th>act_day</th>\n",
              "      <th>page</th>\n",
              "      <th>video_id</th>\n",
              "      <th>author_id</th>\n",
              "      <th>act_type</th>\n",
              "    </tr>\n",
              "  </thead>\n",
              "  <tbody>\n",
              "    <tr>\n",
              "      <th>0</th>\n",
              "      <td>1062323</td>\n",
              "      <td>22</td>\n",
              "      <td>3</td>\n",
              "      <td>2877472</td>\n",
              "      <td>880271</td>\n",
              "      <td>0</td>\n",
              "    </tr>\n",
              "    <tr>\n",
              "      <th>1</th>\n",
              "      <td>639898</td>\n",
              "      <td>17</td>\n",
              "      <td>3</td>\n",
              "      <td>740662</td>\n",
              "      <td>210200</td>\n",
              "      <td>0</td>\n",
              "    </tr>\n",
              "    <tr>\n",
              "      <th>2</th>\n",
              "      <td>1260200</td>\n",
              "      <td>5</td>\n",
              "      <td>3</td>\n",
              "      <td>3332414</td>\n",
              "      <td>162866</td>\n",
              "      <td>0</td>\n",
              "    </tr>\n",
              "    <tr>\n",
              "      <th>3</th>\n",
              "      <td>817201</td>\n",
              "      <td>22</td>\n",
              "      <td>3</td>\n",
              "      <td>1129617</td>\n",
              "      <td>530246</td>\n",
              "      <td>0</td>\n",
              "    </tr>\n",
              "    <tr>\n",
              "      <th>4</th>\n",
              "      <td>817201</td>\n",
              "      <td>23</td>\n",
              "      <td>3</td>\n",
              "      <td>1129617</td>\n",
              "      <td>530246</td>\n",
              "      <td>0</td>\n",
              "    </tr>\n",
              "  </tbody>\n",
              "</table>\n",
              "</div>\n",
              "      <button class=\"colab-df-convert\" onclick=\"convertToInteractive('df-688f5abd-026a-4c4f-a868-849ddf4a5aca')\"\n",
              "              title=\"Convert this dataframe to an interactive table.\"\n",
              "              style=\"display:none;\">\n",
              "        \n",
              "  <svg xmlns=\"http://www.w3.org/2000/svg\" height=\"24px\"viewBox=\"0 0 24 24\"\n",
              "       width=\"24px\">\n",
              "    <path d=\"M0 0h24v24H0V0z\" fill=\"none\"/>\n",
              "    <path d=\"M18.56 5.44l.94 2.06.94-2.06 2.06-.94-2.06-.94-.94-2.06-.94 2.06-2.06.94zm-11 1L8.5 8.5l.94-2.06 2.06-.94-2.06-.94L8.5 2.5l-.94 2.06-2.06.94zm10 10l.94 2.06.94-2.06 2.06-.94-2.06-.94-.94-2.06-.94 2.06-2.06.94z\"/><path d=\"M17.41 7.96l-1.37-1.37c-.4-.4-.92-.59-1.43-.59-.52 0-1.04.2-1.43.59L10.3 9.45l-7.72 7.72c-.78.78-.78 2.05 0 2.83L4 21.41c.39.39.9.59 1.41.59.51 0 1.02-.2 1.41-.59l7.78-7.78 2.81-2.81c.8-.78.8-2.07 0-2.86zM5.41 20L4 18.59l7.72-7.72 1.47 1.35L5.41 20z\"/>\n",
              "  </svg>\n",
              "      </button>\n",
              "      \n",
              "  <style>\n",
              "    .colab-df-container {\n",
              "      display:flex;\n",
              "      flex-wrap:wrap;\n",
              "      gap: 12px;\n",
              "    }\n",
              "\n",
              "    .colab-df-convert {\n",
              "      background-color: #E8F0FE;\n",
              "      border: none;\n",
              "      border-radius: 50%;\n",
              "      cursor: pointer;\n",
              "      display: none;\n",
              "      fill: #1967D2;\n",
              "      height: 32px;\n",
              "      padding: 0 0 0 0;\n",
              "      width: 32px;\n",
              "    }\n",
              "\n",
              "    .colab-df-convert:hover {\n",
              "      background-color: #E2EBFA;\n",
              "      box-shadow: 0px 1px 2px rgba(60, 64, 67, 0.3), 0px 1px 3px 1px rgba(60, 64, 67, 0.15);\n",
              "      fill: #174EA6;\n",
              "    }\n",
              "\n",
              "    [theme=dark] .colab-df-convert {\n",
              "      background-color: #3B4455;\n",
              "      fill: #D2E3FC;\n",
              "    }\n",
              "\n",
              "    [theme=dark] .colab-df-convert:hover {\n",
              "      background-color: #434B5C;\n",
              "      box-shadow: 0px 1px 3px 1px rgba(0, 0, 0, 0.15);\n",
              "      filter: drop-shadow(0px 1px 2px rgba(0, 0, 0, 0.3));\n",
              "      fill: #FFFFFF;\n",
              "    }\n",
              "  </style>\n",
              "\n",
              "      <script>\n",
              "        const buttonEl =\n",
              "          document.querySelector('#df-688f5abd-026a-4c4f-a868-849ddf4a5aca button.colab-df-convert');\n",
              "        buttonEl.style.display =\n",
              "          google.colab.kernel.accessAllowed ? 'block' : 'none';\n",
              "\n",
              "        async function convertToInteractive(key) {\n",
              "          const element = document.querySelector('#df-688f5abd-026a-4c4f-a868-849ddf4a5aca');\n",
              "          const dataTable =\n",
              "            await google.colab.kernel.invokeFunction('convertToInteractive',\n",
              "                                                     [key], {});\n",
              "          if (!dataTable) return;\n",
              "\n",
              "          const docLinkHtml = 'Like what you see? Visit the ' +\n",
              "            '<a target=\"_blank\" href=https://colab.research.google.com/notebooks/data_table.ipynb>data table notebook</a>'\n",
              "            + ' to learn more about interactive tables.';\n",
              "          element.innerHTML = '';\n",
              "          dataTable['output_type'] = 'display_data';\n",
              "          await google.colab.output.renderOutput(dataTable, element);\n",
              "          const docLink = document.createElement('div');\n",
              "          docLink.innerHTML = docLinkHtml;\n",
              "          element.appendChild(docLink);\n",
              "        }\n",
              "      </script>\n",
              "    </div>\n",
              "  </div>\n",
              "  "
            ]
          },
          "metadata": {},
          "execution_count": 49
        }
      ],
      "source": [
        "activity.head()"
      ]
    },
    {
      "cell_type": "markdown",
      "metadata": {
        "id": "YqJnSrCPyAvP"
      },
      "source": [
        "### 用户行为数据分析和可视化"
      ]
    },
    {
      "cell_type": "markdown",
      "metadata": {
        "id": "Elm9EpA-yAvP"
      },
      "source": [
        "#### register表"
      ]
    },
    {
      "cell_type": "code",
      "execution_count": 50,
      "metadata": {
        "colab": {
          "base_uri": "https://localhost:8080/"
        },
        "id": "1rSz4MXpyAvQ",
        "outputId": "9618a31c-efaa-40e9-d565-275549f2699a"
      },
      "outputs": [
        {
          "output_type": "stream",
          "name": "stdout",
          "text": [
            "<class 'pandas.core.frame.DataFrame'>\n",
            "RangeIndex: 51709 entries, 0 to 51708\n",
            "Data columns (total 4 columns):\n",
            " #   Column         Non-Null Count  Dtype\n",
            "---  ------         --------------  -----\n",
            " 0   user_id        51709 non-null  int64\n",
            " 1   register_day   51709 non-null  int64\n",
            " 2   register_type  51709 non-null  int64\n",
            " 3   device_type    51709 non-null  int64\n",
            "dtypes: int64(4)\n",
            "memory usage: 1.6 MB\n"
          ]
        }
      ],
      "source": [
        "register.info()"
      ]
    },
    {
      "cell_type": "code",
      "execution_count": 51,
      "metadata": {
        "colab": {
          "base_uri": "https://localhost:8080/",
          "height": 297
        },
        "id": "HQWPpRoXyAvQ",
        "outputId": "d6920672-e734-4201-bc7d-94d96ef9b6f4"
      },
      "outputs": [
        {
          "output_type": "execute_result",
          "data": {
            "text/plain": [
              "<matplotlib.axes._subplots.AxesSubplot at 0x7f75f48d16a0>"
            ]
          },
          "metadata": {},
          "execution_count": 51
        },
        {
          "output_type": "display_data",
          "data": {
            "text/plain": [
              "<Figure size 432x288 with 1 Axes>"
            ],
            "image/png": "[encoded data removed]"
          },
          "metadata": {
            "needs_background": "light"
          }
        }
      ],
      "source": [
        "sns.countplot(x='register_day',data=register)  #可以看出24号这天的数据显著增多"
      ]
    },
    {
      "cell_type": "code",
      "execution_count": 52,
      "metadata": {
        "colab": {
          "base_uri": "https://localhost:8080/",
          "height": 351
        },
        "id": "ljFkRvXlyAvQ",
        "outputId": "62b7e3f8-4f88-4855-a748-41279e249399"
      },
      "outputs": [
        {
          "output_type": "display_data",
          "data": {
            "text/plain": [
              "<Figure size 864x360 with 1 Axes>"
            ],
            "image/png": "[encoded data removed]"
          },
          "metadata": {
            "needs_background": "light"
          }
        }
      ],
      "source": [
        "plt.figure(figsize=(12,5))\n",
        "plt.title(\"Distribution of register day\")\n",
        "ax = sns.distplot(register[\"register_day\"],bins=30)"
      ]
    },
    {
      "cell_type": "markdown",
      "source": [
        "可以看出24号这天，注册的人数特别多，有一个异常的峰值，因此我们来看看这一天具体的注册情况"
      ],
      "metadata": {
        "id": "KLw8pUgJ8MlW"
      }
    },
    {
      "cell_type": "code",
      "execution_count": 53,
      "metadata": {
        "colab": {
          "base_uri": "https://localhost:8080/",
          "height": 297
        },
        "id": "UGlgwJKByAvR",
        "outputId": "80bad5ff-a9df-4092-d273-6b8133115bc3"
      },
      "outputs": [
        {
          "output_type": "execute_result",
          "data": {
            "text/plain": [
              "<matplotlib.axes._subplots.AxesSubplot at 0x7f75f47af880>"
            ]
          },
          "metadata": {},
          "execution_count": 53
        },
        {
          "output_type": "display_data",
          "data": {
            "text/plain": [
              "<Figure size 432x288 with 1 Axes>"
            ],
            "image/png": "[encoded data removed]"
          },
          "metadata": {
            "needs_background": "light"
          }
        }
      ],
      "source": [
        "sns.countplot(x='register_type',data=register)"
      ]
    },
    {
      "cell_type": "markdown",
      "source": [
        "整体的注册类型是降序的，下面我们看24号这一天的情况。"
      ],
      "metadata": {
        "id": "i70Uy5_M8YVN"
      }
    },
    {
      "cell_type": "code",
      "execution_count": 54,
      "metadata": {
        "colab": {
          "base_uri": "https://localhost:8080/",
          "height": 297
        },
        "id": "4zIO3p1RyAvR",
        "outputId": "64479fab-a4c6-4c0d-9af5-ed4b0ffbdba8"
      },
      "outputs": [
        {
          "output_type": "execute_result",
          "data": {
            "text/plain": [
              "<matplotlib.axes._subplots.AxesSubplot at 0x7f75f47c7a60>"
            ]
          },
          "metadata": {},
          "execution_count": 54
        },
        {
          "output_type": "display_data",
          "data": {
            "text/plain": [
              "<Figure size 432x288 with 1 Axes>"
            ],
            "image/png": "[encoded data removed]"
          },
          "metadata": {
            "needs_background": "light"
          }
        }
      ],
      "source": [
        "sns.countplot(x='register_type',data=register[register['register_day']==24])"
      ]
    },
    {
      "cell_type": "markdown",
      "source": [
        "发现24号这一天，注册类型3特别多。这说明"
      ],
      "metadata": {
        "id": "vrLV1qn9-U1O"
      }
    },
    {
      "cell_type": "code",
      "execution_count": 55,
      "metadata": {
        "colab": {
          "base_uri": "https://localhost:8080/",
          "height": 298
        },
        "id": "X-8ac1skyAvR",
        "outputId": "4542cf65-4ef6-4478-8f2c-ba12c80feca0"
      },
      "outputs": [
        {
          "output_type": "execute_result",
          "data": {
            "text/plain": [
              "<matplotlib.axes._subplots.AxesSubplot at 0x7f75f3f11ee0>"
            ]
          },
          "metadata": {},
          "execution_count": 55
        },
        {
          "output_type": "display_data",
          "data": {
            "text/plain": [
              "<Figure size 432x288 with 1 Axes>"
            ],
            "image/png": "[encoded data removed]"
          },
          "metadata": {
            "needs_background": "light"
          }
        }
      ],
      "source": [
        "sns.countplot(x='register_type',data=register[register['register_day']==23])"
      ]
    },
    {
      "cell_type": "code",
      "execution_count": 56,
      "metadata": {
        "colab": {
          "base_uri": "https://localhost:8080/"
        },
        "id": "F9ARh0k-yAvR",
        "outputId": "ef677c92-a436-4594-f1ca-b6a4e939e4e4"
      },
      "outputs": [
        {
          "output_type": "execute_result",
          "data": {
            "text/plain": [
              "0        2366\n",
              "2        1656\n",
              "4        1435\n",
              "7        1248\n",
              "8        1237\n",
              "         ... \n",
              "22422       1\n",
              "3836        1\n",
              "10566       1\n",
              "7203        1\n",
              "1798        1\n",
              "Name: device_type, Length: 3592, dtype: int64"
            ]
          },
          "metadata": {},
          "execution_count": 56
        }
      ],
      "source": [
        "register['device_type'].value_counts()"
      ]
    },
    {
      "cell_type": "markdown",
      "metadata": {
        "id": "V0R_ea3myAvS"
      },
      "source": [
        "#### launch表"
      ]
    },
    {
      "cell_type": "code",
      "execution_count": 57,
      "metadata": {
        "colab": {
          "base_uri": "https://localhost:8080/"
        },
        "id": "x6QULjn5yAvS",
        "outputId": "32f37dca-197b-4e14-ded1-5023169605db"
      },
      "outputs": [
        {
          "output_type": "stream",
          "name": "stdout",
          "text": [
            "<class 'pandas.core.frame.DataFrame'>\n",
            "RangeIndex: 251943 entries, 0 to 251942\n",
            "Data columns (total 2 columns):\n",
            " #   Column      Non-Null Count   Dtype\n",
            "---  ------      --------------   -----\n",
            " 0   user_id     251943 non-null  int64\n",
            " 1   launch_day  251943 non-null  int64\n",
            "dtypes: int64(2)\n",
            "memory usage: 3.8 MB\n"
          ]
        }
      ],
      "source": [
        "launch.info()"
      ]
    },
    {
      "cell_type": "code",
      "execution_count": 58,
      "metadata": {
        "colab": {
          "base_uri": "https://localhost:8080/",
          "height": 299
        },
        "id": "w5fYH_VdyAvS",
        "outputId": "15ec1349-3be6-45fe-ba71-aa0c8f0501db"
      },
      "outputs": [
        {
          "output_type": "execute_result",
          "data": {
            "text/plain": [
              "<matplotlib.axes._subplots.AxesSubplot at 0x7f75f3e6d1c0>"
            ]
          },
          "metadata": {},
          "execution_count": 58
        },
        {
          "output_type": "display_data",
          "data": {
            "text/plain": [
              "<Figure size 432x288 with 1 Axes>"
            ],
            "image/png": "[encoded data removed]"
          },
          "metadata": {
            "needs_background": "light"
          }
        }
      ],
      "source": [
        "sns.countplot(x='launch_day',data=launch)"
      ]
    },
    {
      "cell_type": "code",
      "execution_count": 59,
      "metadata": {
        "colab": {
          "base_uri": "https://localhost:8080/"
        },
        "id": "HydHQoUUyAvS",
        "outputId": "38f11cf3-27be-4546-8e5a-20e1f32faba8"
      },
      "outputs": [
        {
          "output_type": "execute_result",
          "data": {
            "text/plain": [
              "1367044    30\n",
              "819809     30\n",
              "1111790    30\n",
              "1313815    30\n",
              "517425     30\n",
              "           ..\n",
              "1076720     1\n",
              "810680      1\n",
              "1257427     1\n",
              "36946       1\n",
              "741669      1\n",
              "Name: user_id, Length: 51709, dtype: int64"
            ]
          },
          "metadata": {},
          "execution_count": 59
        }
      ],
      "source": [
        "launch['user_id'].value_counts()"
      ]
    },
    {
      "cell_type": "markdown",
      "metadata": {
        "id": "UGrGKrUtyAvT"
      },
      "source": [
        "#### create表"
      ]
    },
    {
      "cell_type": "code",
      "execution_count": 60,
      "metadata": {
        "colab": {
          "base_uri": "https://localhost:8080/"
        },
        "id": "fWU_P-PbyAvT",
        "outputId": "b5171733-ef38-49e7-f2b4-3981d5075bd9"
      },
      "outputs": [
        {
          "output_type": "stream",
          "name": "stdout",
          "text": [
            "<class 'pandas.core.frame.DataFrame'>\n",
            "RangeIndex: 35151 entries, 0 to 35150\n",
            "Data columns (total 2 columns):\n",
            " #   Column      Non-Null Count  Dtype\n",
            "---  ------      --------------  -----\n",
            " 0   user_id     35151 non-null  int64\n",
            " 1   create_day  35151 non-null  int64\n",
            "dtypes: int64(2)\n",
            "memory usage: 549.4 KB\n"
          ]
        }
      ],
      "source": [
        "create.info()"
      ]
    },
    {
      "cell_type": "code",
      "execution_count": 61,
      "metadata": {
        "colab": {
          "base_uri": "https://localhost:8080/",
          "height": 297
        },
        "id": "iv2R74BQyAvT",
        "outputId": "86bad1a5-d9fc-4ef3-aea1-7f0a9e9b0054"
      },
      "outputs": [
        {
          "output_type": "execute_result",
          "data": {
            "text/plain": [
              "<matplotlib.axes._subplots.AxesSubplot at 0x7f75f3dad070>"
            ]
          },
          "metadata": {},
          "execution_count": 61
        },
        {
          "output_type": "display_data",
          "data": {
            "text/plain": [
              "<Figure size 432x288 with 1 Axes>"
            ],
            "image/png": "[encoded data removed]"
          },
          "metadata": {
            "needs_background": "light"
          }
        }
      ],
      "source": [
        "sns.countplot(x='create_day',data=create)"
      ]
    },
    {
      "cell_type": "markdown",
      "metadata": {
        "id": "mhmcVb7_yAvT"
      },
      "source": [
        "#### activity表"
      ]
    },
    {
      "cell_type": "code",
      "execution_count": 62,
      "metadata": {
        "colab": {
          "base_uri": "https://localhost:8080/"
        },
        "id": "Xys7_ITQyAvT",
        "outputId": "fab52c2e-6376-4f8e-e76e-69b5e4bfe81c"
      },
      "outputs": [
        {
          "output_type": "stream",
          "name": "stdout",
          "text": [
            "<class 'pandas.core.frame.DataFrame'>\n",
            "RangeIndex: 20607228 entries, 0 to 20607227\n",
            "Data columns (total 6 columns):\n",
            " #   Column     Dtype\n",
            "---  ------     -----\n",
            " 0   user_id    int64\n",
            " 1   act_day    int64\n",
            " 2   page       int64\n",
            " 3   video_id   int64\n",
            " 4   author_id  int64\n",
            " 5   act_type   int64\n",
            "dtypes: int64(6)\n",
            "memory usage: 943.3 MB\n"
          ]
        }
      ],
      "source": [
        "activity.info()"
      ]
    },
    {
      "cell_type": "code",
      "execution_count": 63,
      "metadata": {
        "colab": {
          "base_uri": "https://localhost:8080/",
          "height": 308
        },
        "id": "_bM8huXDyAvU",
        "outputId": "4489baff-4450-4bac-db60-8a35a6588eb0"
      },
      "outputs": [
        {
          "output_type": "execute_result",
          "data": {
            "text/plain": [
              "<matplotlib.axes._subplots.AxesSubplot at 0x7f75f3ccaee0>"
            ]
          },
          "metadata": {},
          "execution_count": 63
        },
        {
          "output_type": "display_data",
          "data": {
            "text/plain": [
              "<Figure size 432x288 with 1 Axes>"
            ],
            "image/png": "[encoded data removed]"
          },
          "metadata": {
            "needs_background": "light"
          }
        }
      ],
      "source": [
        "sns.countplot(x='act_day',data=activity)"
      ]
    },
    {
      "cell_type": "markdown",
      "metadata": {
        "id": "SlOuWsu3yAvU"
      },
      "source": [
        "# 滑窗法扩充训练集数据"
      ]
    },
    {
      "cell_type": "code",
      "execution_count": 64,
      "metadata": {
        "id": "4hyNdgwjyAvU"
      },
      "outputs": [],
      "source": [
        "def split_data(data, columns, start_day, end_day):\n",
        "    data = data[(data[columns] >= start_day) & (data[columns] <= end_day)]\n",
        "    return data \n",
        "\n",
        "'''\n",
        "下面返回的list说明下：\n",
        "以1-18天为起始特征区间，用于返回需要划多少天\n",
        "例如划1-18，就返回18-18=0，\n",
        "划测试集1-30，就返回30-18=12\n",
        "需要少划几个对应修改就好\n",
        "... 要修改起始特征区间，修改下面的 ups 和 downs 函数\n",
        "''' \n",
        "def features_addday_list():\n",
        "    return [0, 1, 2, 3, 4, 5,12]\n",
        "\n",
        "def ups():\n",
        "    return 1\n",
        "\n",
        "def downs():\n",
        "    return 18"
      ]
    },
    {
      "cell_type": "code",
      "execution_count": 65,
      "metadata": {
        "colab": {
          "base_uri": "https://localhost:8080/"
        },
        "id": "yAcWfn6C7AMk",
        "outputId": "05905096-3fae-4975-8fa7-964cc7532827"
      },
      "outputs": [
        {
          "output_type": "stream",
          "name": "stdout",
          "text": [
            "0 19 25\n",
            "1 20 26\n",
            "2 21 27\n",
            "3 22 28\n",
            "4 23 29\n",
            "5 24 30\n"
          ]
        }
      ],
      "source": [
        "def get_label_list(start_day, end_day):\n",
        "    result = split_data(launch, 'launch_day', start_day, end_day)['user_id'].drop_duplicates()\n",
        "    return pd.Series(result)\n",
        "\n",
        "up = downs()+1\n",
        "down = downs()+7\n",
        "data = register.loc[:, ['user_id']]\n",
        "for label_num in range(len(features_addday_list())-1):\n",
        "    print(label_num, up + label_num, down + label_num)\n",
        "    label_list = get_label_list(up + label_num, down + label_num)\n",
        "    label_name = 'label_' + str(label_num)\n",
        "    data[label_name] = data['user_id'].isin(label_list).replace({True: 1, False: 0})\n",
        "data.to_csv('./feature/data_label.csv', index=None)"
      ]
    },
    {
      "cell_type": "markdown",
      "metadata": {
        "id": "vq-ZXIfp7Adk"
      },
      "source": [
        "# 特征工程"
      ]
    },
    {
      "cell_type": "markdown",
      "metadata": {
        "id": "5gFsKihP-J8d"
      },
      "source": [
        "## register相关特征"
      ]
    },
    {
      "cell_type": "code",
      "execution_count": 66,
      "metadata": {
        "colab": {
          "base_uri": "https://localhost:8080/"
        },
        "id": "FPXddzKj-Mm-",
        "outputId": "5d34e482-f15c-489d-e115-ea6813b3f08a"
      },
      "outputs": [
        {
          "output_type": "stream",
          "name": "stderr",
          "text": [
            " 14%|█▍        | 1/7 [00:00<00:00,  8.85it/s]"
          ]
        },
        {
          "output_type": "stream",
          "name": "stdout",
          "text": [
            "0 1 18\n",
            "1 1 19\n"
          ]
        },
        {
          "output_type": "stream",
          "name": "stderr",
          "text": [
            "\r 43%|████▎     | 3/7 [00:00<00:00, 10.55it/s]"
          ]
        },
        {
          "output_type": "stream",
          "name": "stdout",
          "text": [
            "2 1 20\n",
            "3 1 21\n",
            "4 1 22\n"
          ]
        },
        {
          "output_type": "stream",
          "name": "stderr",
          "text": [
            "\r 71%|███████▏  | 5/7 [00:00<00:00, 11.09it/s]"
          ]
        },
        {
          "output_type": "stream",
          "name": "stdout",
          "text": [
            "5 1 23\n",
            "12 1 30\n"
          ]
        },
        {
          "output_type": "stream",
          "name": "stderr",
          "text": [
            "100%|██████████| 7/7 [00:00<00:00, 10.27it/s]\n"
          ]
        }
      ],
      "source": [
        "up = ups()\n",
        "down = downs()\n",
        "for feature_num in tqdm(features_addday_list()):\n",
        "\n",
        "    # 基础变量定义\n",
        "    feature_start = up + 0\n",
        "    feature_end = down + feature_num\n",
        "    print(feature_num, feature_start, feature_end)\n",
        "\n",
        "    '''\n",
        "    result_data 是存放特征的结果文件\n",
        "    feature_data 用于存放被提取的原文件\n",
        "    *****_tmp  存放临时特征文件\n",
        "    '''\n",
        "    result_data = split_data(register, 'register_day', 1, feature_end)\n",
        "    feature_data = split_data(register, 'register_day', feature_start, feature_end)\n",
        "\n",
        "    # 提特征(已经包含设备类型、设备类型)\n",
        "    # 特征区间最大天数减去注册日期\n",
        "    result_data['maxday_red_registerday'] = max(feature_data['register_day']) - feature_data['register_day']\n",
        "    result_data = result_data.fillna(max(feature_data['register_day']))\n",
        "    del result_data['register_day']\n",
        "\n",
        "    # 保存结果\n",
        "    result_file_name = 'register_feature_'+str(feature_num)+'.csv'\n",
        "    result_data.to_csv('./feature/'+result_file_name, index=None)"
      ]
    },
    {
      "cell_type": "markdown",
      "metadata": {
        "id": "YErCj6df-Paa"
      },
      "source": [
        "## create相关特征"
      ]
    },
    {
      "cell_type": "code",
      "execution_count": 67,
      "metadata": {
        "colab": {
          "base_uri": "https://localhost:8080/"
        },
        "id": "rw_C6QOf-XPX",
        "outputId": "cc79813b-3d62-44b3-dc0c-9d9e95463900"
      },
      "outputs": [
        {
          "output_type": "stream",
          "name": "stderr",
          "text": [
            "\r  0%|          | 0/7 [00:00<?, ?it/s]"
          ]
        },
        {
          "output_type": "stream",
          "name": "stdout",
          "text": [
            "0 1 18\n"
          ]
        },
        {
          "output_type": "stream",
          "name": "stderr",
          "text": [
            "\r 14%|█▍        | 1/7 [00:02<00:13,  2.23s/it]"
          ]
        },
        {
          "output_type": "stream",
          "name": "stdout",
          "text": [
            "1 1 19\n"
          ]
        },
        {
          "output_type": "stream",
          "name": "stderr",
          "text": [
            "\r 29%|██▊       | 2/7 [00:04<00:11,  2.35s/it]"
          ]
        },
        {
          "output_type": "stream",
          "name": "stdout",
          "text": [
            "2 1 20\n"
          ]
        },
        {
          "output_type": "stream",
          "name": "stderr",
          "text": [
            "\r 43%|████▎     | 3/7 [00:07<00:09,  2.40s/it]"
          ]
        },
        {
          "output_type": "stream",
          "name": "stdout",
          "text": [
            "3 1 21\n"
          ]
        },
        {
          "output_type": "stream",
          "name": "stderr",
          "text": [
            "\r 57%|█████▋    | 4/7 [00:10<00:07,  2.61s/it]"
          ]
        },
        {
          "output_type": "stream",
          "name": "stdout",
          "text": [
            "4 1 22\n"
          ]
        },
        {
          "output_type": "stream",
          "name": "stderr",
          "text": [
            "\r 71%|███████▏  | 5/7 [00:13<00:05,  2.82s/it]"
          ]
        },
        {
          "output_type": "stream",
          "name": "stdout",
          "text": [
            "5 1 23\n"
          ]
        },
        {
          "output_type": "stream",
          "name": "stderr",
          "text": [
            "\r 86%|████████▌ | 6/7 [00:16<00:02,  2.95s/it]"
          ]
        },
        {
          "output_type": "stream",
          "name": "stdout",
          "text": [
            "12 1 30\n"
          ]
        },
        {
          "output_type": "stream",
          "name": "stderr",
          "text": [
            "100%|██████████| 7/7 [00:21<00:00,  3.02s/it]\n"
          ]
        }
      ],
      "source": [
        "up = ups()\n",
        "down = downs()\n",
        "\n",
        "for feature_num in tqdm(features_addday_list()):\n",
        "    \n",
        "    # 基础变量定义\n",
        "    feature_start = up\n",
        "    feature_end = down + feature_num\n",
        "    print(feature_num, feature_start, feature_end)\n",
        "    \n",
        "    result_data = split_data(register, 'register_day', 1, feature_end).loc[:, ['user_id', 'register_day']]\n",
        "    feature_data = split_data(create, 'create_day', feature_start, feature_end)\n",
        "\n",
        "    # 提特征\n",
        "    # 用户创建视频计数\n",
        "    feature_tmp = pd.pivot_table(feature_data, index='user_id', values='create_day',\n",
        "                                 aggfunc='count').reset_index().rename(columns={\"create_day\": 'create_count'})\n",
        "    result_data = pd.merge(result_data, feature_tmp, on='user_id', how='left')\n",
        "    result_data = result_data.fillna(0)\n",
        "\n",
        "    # 用户创建视频的 平均/最大/最小日期 与 注册日期/最大时间 的时间差\n",
        "    feature_tmp = pd.pivot_table(feature_data, index='user_id', values='create_day',\n",
        "                                 aggfunc='mean').reset_index().rename(columns={\"create_day\": 'create_mean'})\n",
        "    result_data = pd.merge(result_data, feature_tmp, on='user_id', how='left')\n",
        "    result_data['createmean_red_register'] = result_data['create_mean'] - result_data['register_day']\n",
        "    result_data['maxday_red_createmean'] = max(result_data['register_day']) - result_data['create_mean']\n",
        "\n",
        "    feature_tmp = pd.pivot_table(feature_data, index='user_id', values='create_day',\n",
        "                                 aggfunc=np.max).reset_index().rename(columns={\"create_day\": 'create_max'})\n",
        "    result_data = pd.merge(result_data, feature_tmp, on='user_id', how='left')\n",
        "    result_data['createmax_red_register'] = result_data['create_max'] - result_data['register_day']\n",
        "    result_data['maxday_red_createmax'] = max(result_data['register_day']) - result_data['create_max']\n",
        "\n",
        "    feature_tmp = pd.pivot_table(feature_data, index='user_id', values='create_day',\n",
        "                                 aggfunc=np.min).reset_index().rename(columns={\"create_day\": 'create_min'})\n",
        "    result_data = pd.merge(result_data, feature_tmp, on='user_id', how='left')\n",
        "    result_data['createmin_red_register'] = result_data['create_min'] - result_data['register_day']\n",
        "    result_data['maxday_red_createmin'] = max(result_data['register_day']) - result_data['create_min']\n",
        "    result_data = result_data.fillna(-1)\n",
        "\n",
        "    # 创建最大间隔\n",
        "    result_data['max_red_min_create'] = result_data['create_max'] - result_data['create_min']\n",
        "\n",
        "    # 最后一天是否有活动\n",
        "    result_data['create_at_lastday'] = pd.Series(\n",
        "        result_data['create_max'] == max(feature_data['create_day'])).replace({True: 1, False: 0})\n",
        "\n",
        "    # 均值/最大/最小 天数处理\n",
        "    result_data['create_mean'] = max(feature_data['create_day']) - result_data['create_mean']\n",
        "    result_data['create_max'] = max(feature_data['create_day']) - result_data['create_max']\n",
        "    result_data['create_min'] = max(feature_data['create_day']) - result_data['create_min']\n",
        "\n",
        "    # 间隔的 方差/均值\n",
        "    feature_data_tmp = feature_data.drop_duplicates(['user_id', 'create_day']).sort_values(\n",
        "        by=['user_id', 'create_day'])\n",
        "    feature_data_tmp['create_gap'] = np.array(feature_data_tmp['create_day']) - np.array(\n",
        "        feature_data_tmp.tail(1).append(feature_data_tmp.head(len(feature_data_tmp) - 1))['create_day'])\n",
        "\n",
        "    feature_tmp = pd.pivot_table(feature_data_tmp, index='user_id', values='create_gap',\n",
        "                                 aggfunc=(lambda a: np.average(a[1:]))).reset_index().rename(\n",
        "        columns={\"create_gap\": 'create_gap_mean'})\n",
        "    result_data = pd.merge(result_data, feature_tmp, on='user_id', how='left')\n",
        "    feature_tmp = pd.pivot_table(feature_data_tmp, index='user_id', values='create_gap',\n",
        "                                 aggfunc=(lambda a: np.var(a[1:]))).reset_index().rename(\n",
        "        columns={\"create_gap\": 'create_gap_var'})\n",
        "    result_data = pd.merge(result_data, feature_tmp, on='user_id', how='left')\n",
        "    result_data = result_data.fillna(0)\n",
        "\n",
        "    # 是否一直连续/连续到结束\n",
        "    result_data['always_create'] = [1 if i == 1 else 0 for i in result_data['create_gap_mean']]\n",
        "    tmp = (result_data['create_at_lastday'] == 1).replace({True: 1, False: 0})\n",
        "    result_data['always_create_atlast'] = tmp * result_data['always_create']\n",
        "    del tmp\n",
        "\n",
        "    # 创建日期的 方差/峰度/偏度\n",
        "    feature_tmp = pd.pivot_table(feature_data, index='user_id', values='create_day',\n",
        "                                 aggfunc=np.var).reset_index().rename(columns={\"create_day\": 'create_var'})\n",
        "    result_data = pd.merge(result_data, feature_tmp, on='user_id', how='left')\n",
        "    feature_tmp = pd.pivot_table(feature_data, index='user_id', values='create_day',\n",
        "                                 aggfunc=pd.Series.kurt).reset_index().rename(columns={\"create_day\": 'create_kurt'})\n",
        "    result_data = pd.merge(result_data, feature_tmp, on='user_id', how='left')\n",
        "    feature_tmp = pd.pivot_table(feature_data, index='user_id', values='create_day',\n",
        "                                 aggfunc=pd.Series.skew).reset_index().rename(columns={\"create_day\": 'create_skew'})\n",
        "    result_data = pd.merge(result_data, feature_tmp, on='user_id', how='left')\n",
        "    result_data = result_data.fillna(0)\n",
        "\n",
        "    # 求一天最大创建数\n",
        "    feature_data['max_create_in_oneday'] = 0\n",
        "    feature_tmp = pd.pivot_table(feature_data, index=['user_id', 'create_day'], values='max_create_in_oneday',\n",
        "                                 aggfunc='count').reset_index()\n",
        "    feature_tmp = pd.DataFrame(feature_tmp.groupby(['user_id'])['max_create_in_oneday'].max()).reset_index()\n",
        "    result_data = pd.merge(result_data, feature_tmp, on='user_id', how='left')\n",
        "    result_data.fillna(0, inplace=True)\n",
        "    del result_data['register_day']\n",
        "\n",
        "    # 保存结果\n",
        "    result_file_name = 'create_feature_' + str(feature_num) + '.csv'\n",
        "    result_data.to_csv('./feature/' + result_file_name, index=None)"
      ]
    },
    {
      "cell_type": "markdown",
      "metadata": {
        "id": "BzAhb0TN_EMA"
      },
      "source": [
        "## launch相关特征"
      ]
    },
    {
      "cell_type": "code",
      "execution_count": 68,
      "metadata": {
        "colab": {
          "base_uri": "https://localhost:8080/"
        },
        "id": "bSk79iFE_LfK",
        "outputId": "41ed0586-04d3-4fbc-9d97-a0e317955208"
      },
      "outputs": [
        {
          "output_type": "stream",
          "name": "stderr",
          "text": [
            "\r  0%|          | 0/7 [00:00<?, ?it/s]"
          ]
        },
        {
          "output_type": "stream",
          "name": "stdout",
          "text": [
            "0 1 18\n"
          ]
        },
        {
          "output_type": "stream",
          "name": "stderr",
          "text": [
            "\r 14%|█▍        | 1/7 [00:16<01:38, 16.35s/it]"
          ]
        },
        {
          "output_type": "stream",
          "name": "stdout",
          "text": [
            "1 1 19\n"
          ]
        },
        {
          "output_type": "stream",
          "name": "stderr",
          "text": [
            "\r 29%|██▊       | 2/7 [00:37<01:34, 18.98s/it]"
          ]
        },
        {
          "output_type": "stream",
          "name": "stdout",
          "text": [
            "2 1 20\n"
          ]
        },
        {
          "output_type": "stream",
          "name": "stderr",
          "text": [
            "\r 43%|████▎     | 3/7 [01:00<01:24, 21.16s/it]"
          ]
        },
        {
          "output_type": "stream",
          "name": "stdout",
          "text": [
            "3 1 21\n"
          ]
        },
        {
          "output_type": "stream",
          "name": "stderr",
          "text": [
            "\r 57%|█████▋    | 4/7 [01:22<01:04, 21.49s/it]"
          ]
        },
        {
          "output_type": "stream",
          "name": "stdout",
          "text": [
            "4 1 22\n"
          ]
        },
        {
          "output_type": "stream",
          "name": "stderr",
          "text": [
            "\r 71%|███████▏  | 5/7 [01:45<00:43, 21.77s/it]"
          ]
        },
        {
          "output_type": "stream",
          "name": "stdout",
          "text": [
            "5 1 23\n"
          ]
        },
        {
          "output_type": "stream",
          "name": "stderr",
          "text": [
            "\r 86%|████████▌ | 6/7 [02:08<00:22, 22.19s/it]"
          ]
        },
        {
          "output_type": "stream",
          "name": "stdout",
          "text": [
            "12 1 30\n"
          ]
        },
        {
          "output_type": "stream",
          "name": "stderr",
          "text": [
            "100%|██████████| 7/7 [02:41<00:00, 23.07s/it]\n"
          ]
        }
      ],
      "source": [
        "up = ups()\n",
        "down = downs()\n",
        "\n",
        "for feature_num in tqdm(features_addday_list()):\n",
        "\n",
        "    # 基础变量定义\n",
        "    feature_start = up\n",
        "    feature_end = down + feature_num\n",
        "    print(feature_num, feature_start, feature_end)\n",
        "    \n",
        "    result_data = split_data(register, 'register_day', 1, feature_end).loc[:, ['user_id', 'register_day']]\n",
        "    feature_data = split_data(launch, 'launch_day', feature_start, feature_end)\n",
        "\n",
        "    # 提特征\n",
        "    # 登录计数/登录率\n",
        "    feature_tmp = pd.pivot_table(feature_data, index='user_id', values='launch_day', \n",
        "                                 aggfunc='count').reset_index().rename(columns={\"launch_day\": 'launch_count'})\n",
        "    result_data = pd.merge(result_data, feature_tmp, on='user_id', how='left')\n",
        "    distance = (max(feature_data['launch_day']) - min(feature_data['launch_day']))\n",
        "    result_data['launch_ratio'] = result_data['launch_count'] * 1.0 / distance\n",
        "    result_data = result_data.fillna(0)\n",
        "\n",
        "    # 登录的 平均/最大/最小日期 与 注册日期/最大时间 的时间差\n",
        "    feature_tmp = pd.pivot_table(feature_data, index='user_id', values='launch_day', \n",
        "                                 aggfunc='mean').reset_index().rename(columns={\"launch_day\": 'launch_mean'})\n",
        "    result_data = pd.merge(result_data, feature_tmp, on='user_id', how='left')\n",
        "    result_data['launchmean_red_register'] = result_data['launch_mean'] - result_data['register_day']\n",
        "    result_data['maxday_red_launchmean'] = max(result_data['register_day']) - result_data['launch_mean']\n",
        "\n",
        "    feature_tmp = pd.pivot_table(feature_data, index='user_id', values='launch_day', \n",
        "                                 aggfunc=np.max).reset_index().rename(columns={\"launch_day\": 'launch_max'})\n",
        "    result_data = pd.merge(result_data, feature_tmp, on='user_id', how='left')\n",
        "    result_data['launchmax_red_register'] = result_data['launch_max'] - result_data['register_day']\n",
        "    result_data['maxday_red_launchmax'] = max(result_data['register_day']) - result_data['launch_max']\n",
        "\n",
        "    feature_tmp = pd.pivot_table(feature_data, index='user_id', values='launch_day',\n",
        "                                 aggfunc=np.min).reset_index().rename(columns={\"launch_day\": 'launch_min'})\n",
        "    result_data = pd.merge(result_data, feature_tmp, on='user_id', how='left')\n",
        "    result_data['maxday_red_launchmin'] = max(result_data['register_day']) - result_data['launch_min']\n",
        "    result_data = result_data.fillna(-1)\n",
        "\n",
        "    # 登录最大与最小差\n",
        "    result_data['max_red_min_launch'] = result_data['launch_max'] - result_data['launch_min']\n",
        "\n",
        "    # 最后一天是否有活动\n",
        "    result_data['launch_at_lastday'] = pd.Series(result_data['launch_max'] == max(feature_data['launch_day'])).replace({True: 1, False: 0})\n",
        "\n",
        "    # 均值/最大/最小 天数处理\n",
        "    result_data['launch_mean'] = max(feature_data['launch_day']) - result_data['launch_mean']\n",
        "    result_data['launch_max'] = max(feature_data['launch_day']) - result_data['launch_max']\n",
        "    result_data['launch_min'] = max(feature_data['launch_day']) - result_data['launch_min']\n",
        "\n",
        "    # 间隔的 方差/均值/最大\n",
        "    feature_data_tmp = feature_data.drop_duplicates(['user_id', 'launch_day']).sort_values(by=['user_id', 'launch_day'])\n",
        "    feature_data_tmp['launch_gap'] = np.array(feature_data_tmp['launch_day']) - np.array(\n",
        "        feature_data_tmp.tail(1).append(feature_data_tmp.head(len(feature_data_tmp) - 1))['launch_day'])\n",
        "\n",
        "    feature_tmp = pd.pivot_table(feature_data_tmp, index='user_id', values='launch_gap',\n",
        "                                 aggfunc=(lambda a: np.average(a[1:]))).reset_index().rename(columns={\"launch_gap\": 'launch_gap_mean'})\n",
        "    result_data = pd.merge(result_data, feature_tmp, on='user_id', how='left')\n",
        "    feature_tmp = pd.pivot_table(feature_data_tmp, index='user_id', values='launch_gap',\n",
        "                                 aggfunc=(lambda a: np.var(a[1:]))).reset_index().rename(columns={\"launch_gap\": 'launch_gap_var'})\n",
        "    result_data = pd.merge(result_data, feature_tmp, on='user_id', how='left')\n",
        "    feature_tmp = pd.pivot_table(feature_data_tmp, index='user_id', values='launch_gap',\n",
        "                                 aggfunc=(lambda a: np.max(a[1:]))).reset_index().rename(columns={\"launch_gap\": 'launch_gap_max'})\n",
        "    result_data = pd.merge(result_data, feature_tmp, on='user_id', how='left')\n",
        "    result_data = result_data.fillna(0)\n",
        "\n",
        "    # 是否一直连续/连续到结束\n",
        "    result_data['always_launch'] = [1 if i == 1 else 0 for i in result_data['launch_gap_mean']]\n",
        "    tmp = (result_data['launch_at_lastday'] == 1).replace({True: 1, False: 0})\n",
        "    result_data['always_launch_atlast'] = tmp * result_data['always_launch']\n",
        "    del tmp\n",
        "\n",
        "    # 登录日期的 方差/峰度/偏度\n",
        "    feature_tmp = pd.pivot_table(feature_data, index='user_id', values='launch_day',\n",
        "                                 aggfunc=np.var).reset_index().rename(columns={\"launch_day\": 'launch_var'})\n",
        "    result_data = pd.merge(result_data, feature_tmp, on='user_id', how='left')\n",
        "    feature_tmp = pd.pivot_table(feature_data, index='user_id', values='launch_day',\n",
        "                                 aggfunc=pd.Series.kurt).reset_index().rename(columns={\"launch_day\": 'launch_kurt'})\n",
        "    result_data = pd.merge(result_data, feature_tmp, on='user_id', how='left')\n",
        "    feature_tmp = pd.pivot_table(feature_data, index='user_id', values='launch_day',\n",
        "                                 aggfunc=pd.Series.skew).reset_index().rename(columns={\"launch_day\": 'launch_skew'})\n",
        "    result_data = pd.merge(result_data, feature_tmp, on='user_id', how='left')\n",
        "    result_data = result_data.fillna(0)\n",
        "    del result_data['register_day']\n",
        "\n",
        "    # 保存结果\n",
        "    result_file_name = 'launch_feature_' + str(feature_num) + '.csv'\n",
        "    result_data.to_csv('./feature/' + result_file_name, index=None)"
      ]
    },
    {
      "cell_type": "markdown",
      "metadata": {
        "id": "w3fN7nye_N2F"
      },
      "source": [
        "## activity相关特征\n"
      ]
    },
    {
      "cell_type": "code",
      "execution_count": 69,
      "metadata": {
        "colab": {
          "base_uri": "https://localhost:8080/"
        },
        "id": "Kv54vbsm_R1l",
        "outputId": "773f9089-b7b3-4d89-b7c2-53e6522d2c84"
      },
      "outputs": [
        {
          "output_type": "stream",
          "name": "stderr",
          "text": [
            "\r  0%|          | 0/7 [00:00<?, ?it/s]"
          ]
        },
        {
          "output_type": "stream",
          "name": "stdout",
          "text": [
            "0 1 18\n"
          ]
        },
        {
          "output_type": "stream",
          "name": "stderr",
          "text": [
            "\r 14%|█▍        | 1/7 [00:13<01:23, 13.89s/it]"
          ]
        },
        {
          "output_type": "stream",
          "name": "stdout",
          "text": [
            "1 1 19\n"
          ]
        },
        {
          "output_type": "stream",
          "name": "stderr",
          "text": [
            "\r 29%|██▊       | 2/7 [00:32<01:24, 16.87s/it]"
          ]
        },
        {
          "output_type": "stream",
          "name": "stdout",
          "text": [
            "2 1 20\n"
          ]
        },
        {
          "output_type": "stream",
          "name": "stderr",
          "text": [
            "\r 43%|████▎     | 3/7 [00:49<01:07, 16.96s/it]"
          ]
        },
        {
          "output_type": "stream",
          "name": "stdout",
          "text": [
            "3 1 21\n"
          ]
        },
        {
          "output_type": "stream",
          "name": "stderr",
          "text": [
            "\r 57%|█████▋    | 4/7 [01:07<00:51, 17.10s/it]"
          ]
        },
        {
          "output_type": "stream",
          "name": "stdout",
          "text": [
            "4 1 22\n"
          ]
        },
        {
          "output_type": "stream",
          "name": "stderr",
          "text": [
            "\r 71%|███████▏  | 5/7 [01:28<00:36, 18.47s/it]"
          ]
        },
        {
          "output_type": "stream",
          "name": "stdout",
          "text": [
            "5 1 23\n"
          ]
        },
        {
          "output_type": "stream",
          "name": "stderr",
          "text": [
            "\r 86%|████████▌ | 6/7 [01:53<00:20, 20.69s/it]"
          ]
        },
        {
          "output_type": "stream",
          "name": "stdout",
          "text": [
            "12 1 30\n"
          ]
        },
        {
          "output_type": "stream",
          "name": "stderr",
          "text": [
            "100%|██████████| 7/7 [02:28<00:00, 21.23s/it]\n"
          ]
        }
      ],
      "source": [
        "up = ups()\n",
        "down = downs()\n",
        "\n",
        "for feature_num in tqdm(features_addday_list()):\n",
        "    \n",
        "    # 基础变量定义\n",
        "    feature_start = up\n",
        "    feature_end = down + feature_num\n",
        "    print(feature_num, feature_start, feature_end)\n",
        "    \n",
        "    result_data = split_data(register, 'register_day', 1, feature_end).loc[:, ['user_id', 'register_day']]\n",
        "    feature_data = split_data(activity, 'act_day', feature_start, feature_end)\n",
        "    \n",
        "    # 提特征\n",
        "    # 活动计数\n",
        "    feature_tmp = pd.pivot_table(feature_data, index='user_id', values='act_day',\n",
        "                                 aggfunc='count').reset_index().rename(columns={\"act_day\": 'act_count'})\n",
        "    result_data = pd.merge(result_data, feature_tmp, on='user_id', how='left')\n",
        "    result_data = result_data.fillna(0)\n",
        "\n",
        "    # 活动的 平均/最大/最小日期 与 注册日期/最大时间 的时间差\n",
        "    feature_tmp = pd.pivot_table(feature_data, index='user_id', values='act_day',\n",
        "                                 aggfunc='mean').reset_index().rename(columns={\"act_day\": 'act_mean'})\n",
        "    result_data = pd.merge(result_data, feature_tmp, on='user_id', how='left')\n",
        "    result_data['actmean_red_register'] = result_data['act_mean'] - result_data['register_day']\n",
        "    result_data['maxday_red_actmean'] = max(result_data['register_day']) - result_data['act_mean']\n",
        "\n",
        "    feature_tmp = pd.pivot_table(feature_data, index='user_id', values='act_day',\n",
        "                                 aggfunc=np.max).reset_index().rename(columns={\"act_day\": 'act_max'})\n",
        "    result_data = pd.merge(result_data, feature_tmp, on='user_id', how='left')\n",
        "    result_data['actmax_red_register'] = result_data['act_max'] - result_data['register_day']\n",
        "    result_data['maxday_red_actmax'] = max(result_data['register_day']) - result_data['act_max']\n",
        "\n",
        "    feature_tmp = pd.pivot_table(feature_data, index='user_id', values='act_day',\n",
        "                                 aggfunc=np.min).reset_index().rename(columns={\"act_day\": 'act_min'})\n",
        "    result_data = pd.merge(result_data, feature_tmp, on='user_id', how='left')\n",
        "    result_data['actmin_red_register'] = result_data['act_min'] - result_data['register_day']\n",
        "    result_data['maxday_red_actmin'] = max(result_data['register_day']) - result_data['act_min']\n",
        "    result_data = result_data.fillna(-1)\n",
        "\n",
        "    # 最后一天是否有活动\n",
        "    result_data['act_at_lastday'] = pd.Series(result_data['act_max'] == max(feature_data['act_day'])).replace({True: 1, False: 0})\n",
        "\n",
        "    # 均值/最大/最小 天数处理\n",
        "    result_data['act_mean'] = max(feature_data['act_day']) - result_data['act_mean']\n",
        "    result_data['act_max'] = max(feature_data['act_day']) - result_data['act_max']\n",
        "    result_data['act_min'] = max(feature_data['act_day']) - result_data['act_min']\n",
        "\n",
        "    # 观看自己计数\n",
        "    feature_tmp = pd.pivot_table(feature_data[feature_data['user_id'] == feature_data['author_id']],\n",
        "                                 index='user_id', values='author_id', aggfunc='count').reset_index().rename(columns={\"author_id\": 'act_self_count'})\n",
        "    result_data = pd.merge(result_data, feature_tmp, on='user_id', how='left')\n",
        "    result_data = result_data.fillna(0)\n",
        "\n",
        "    # 活动日期的 方差/峰度/偏度\n",
        "    feature_tmp = pd.pivot_table(feature_data, index='user_id', values='act_day',\n",
        "                                 aggfunc=np.var).reset_index().rename(columns={\"act_day\": 'act_var'})\n",
        "    result_data = pd.merge(result_data, feature_tmp, on='user_id', how='left')\n",
        "    feature_tmp = pd.pivot_table(feature_data, index='user_id', values='act_day',\n",
        "                                 aggfunc=pd.Series.kurt).reset_index().rename(columns={\"act_day\": 'act_kurt'})\n",
        "    result_data = pd.merge(result_data, feature_tmp, on='user_id', how='left')\n",
        "    feature_tmp = pd.pivot_table(feature_data, index='user_id', values='act_day',\n",
        "                                 aggfunc=pd.Series.skew).reset_index().rename(columns={\"act_day\": 'act_skew'})\n",
        "    result_data = pd.merge(result_data, feature_tmp, on='user_id', how='left')\n",
        "    result_data = result_data.fillna(0)\n",
        "\n",
        "    # action 的 计数/率\n",
        "    feature_tmp = feature_data.loc[:, ['user_id', 'act_type', 'act_day']].groupby(['user_id', 'act_type']).count().reset_index().rename(columns={\"act_day\": 'action_count'})\n",
        "    for i in range(6):\n",
        "        fea_name = 'action_' + str(i) + '_count'\n",
        "        action_tmp = feature_tmp[feature_tmp['act_type'] == i].loc[:, ['user_id', 'action_count']].rename(columns={\"action_count\": fea_name})\n",
        "        result_data = pd.merge(result_data, action_tmp, how='left', on='user_id')\n",
        "    result_data = result_data.fillna(0)\n",
        "    result_data['action_all'] = (result_data['action_0_count']+result_data['action_1_count']+\n",
        "                                 result_data['action_2_count']+result_data['action_3_count']+\n",
        "                                 result_data['action_4_count']+result_data['action_5_count']).replace(0, 1)\n",
        "    for i in range(6):\n",
        "        fea_name = 'action_' + str(i) + '_ratio'\n",
        "        fea_name_2 = 'action_' + str(i) + '_count'\n",
        "        result_data[fea_name] = result_data[fea_name_2] / result_data['action_all']\n",
        "\n",
        "    # page 的 计数/率\n",
        "    feature_tmp = feature_data.loc[:, ['user_id', 'page', 'act_day']].groupby(['user_id', 'page']).count().reset_index().rename(columns={\"act_day\": 'page_count'})\n",
        "    for i in range(5):\n",
        "        fea_name = 'page_' + str(i) + '_count'\n",
        "        page_tmp = feature_tmp[feature_tmp['page'] == i].loc[:, ['user_id', 'page_count']].rename(columns={\"page_count\": fea_name})\n",
        "        result_data = pd.merge(result_data, page_tmp, how='left', on='user_id')\n",
        "    result_data = result_data.fillna(0)\n",
        "    result_data['page_all'] = (result_data['page_0_count']+result_data['page_1_count']+\n",
        "                               result_data['page_2_count']+result_data['page_3_count']+\n",
        "                               result_data['page_4_count']).replace(0, 1)\n",
        "    for i in range(5):\n",
        "        fea_name = 'page_' + str(i) + '_ratio'\n",
        "        fea_name_2 = 'page_' + str(i) + '_count'\n",
        "        result_data[fea_name] = result_data[fea_name_2] / result_data['page_all']\n",
        "\n",
        "    del result_data['page_all']\n",
        "    del result_data['action_all']\n",
        "    del result_data['register_day']\n",
        "\n",
        "    # 保存结果\n",
        "    result_file_name = 'activity_feature_' + str(feature_num) + '.csv'\n",
        "    result_data.to_csv('./feature/' + result_file_name, index=None)"
      ]
    },
    {
      "cell_type": "markdown",
      "metadata": {
        "id": "VFUvlqMP_UxU"
      },
      "source": [
        "# 模型构建"
      ]
    },
    {
      "cell_type": "code",
      "execution_count": 70,
      "metadata": {
        "colab": {
          "base_uri": "https://localhost:8080/"
        },
        "id": "vNBAtDxFC06j",
        "outputId": "2c24917c-1db4-495a-89af-719cbf05e43d"
      },
      "outputs": [
        {
          "output_type": "stream",
          "name": "stdout",
          "text": [
            "Looking in indexes: https://pypi.org/simple, https://us-python.pkg.dev/colab-wheels/public/simple/\n",
            "Requirement already satisfied: catboost in /usr/local/lib/python3.8/dist-packages (1.1.1)\n",
            "Requirement already satisfied: scipy in /usr/local/lib/python3.8/dist-packages (from catboost) (1.7.3)\n",
            "Requirement already satisfied: graphviz in /usr/local/lib/python3.8/dist-packages (from catboost) (0.10.1)\n",
            "Requirement already satisfied: six in /usr/local/lib/python3.8/dist-packages (from catboost) (1.15.0)\n",
            "Requirement already satisfied: plotly in /usr/local/lib/python3.8/dist-packages (from catboost) (5.5.0)\n",
            "Requirement already satisfied: numpy>=1.16.0 in /usr/local/lib/python3.8/dist-packages (from catboost) (1.21.6)\n",
            "Requirement already satisfied: matplotlib in /usr/local/lib/python3.8/dist-packages (from catboost) (3.2.2)\n",
            "Requirement already satisfied: pandas>=0.24.0 in /usr/local/lib/python3.8/dist-packages (from catboost) (1.3.5)\n",
            "Requirement already satisfied: python-dateutil>=2.7.3 in /usr/local/lib/python3.8/dist-packages (from pandas>=0.24.0->catboost) (2.8.2)\n",
            "Requirement already satisfied: pytz>=2017.3 in /usr/local/lib/python3.8/dist-packages (from pandas>=0.24.0->catboost) (2022.6)\n",
            "Requirement already satisfied: kiwisolver>=1.0.1 in /usr/local/lib/python3.8/dist-packages (from matplotlib->catboost) (1.4.4)\n",
            "Requirement already satisfied: cycler>=0.10 in /usr/local/lib/python3.8/dist-packages (from matplotlib->catboost) (0.11.0)\n",
            "Requirement already satisfied: pyparsing!=2.0.4,!=2.1.2,!=2.1.6,>=2.0.1 in /usr/local/lib/python3.8/dist-packages (from matplotlib->catboost) (3.0.9)\n",
            "Requirement already satisfied: tenacity>=6.2.0 in /usr/local/lib/python3.8/dist-packages (from plotly->catboost) (8.1.0)\n"
          ]
        }
      ],
      "source": [
        "!pip install catboost\n",
        "import lightgbm as lgb\n",
        "import xgboost as xgb\n",
        "from catboost import CatBoostRegressor\n",
        "import numpy as np\n",
        "from tqdm import tqdm\n",
        "from sklearn.model_selection import StratifiedKFold, KFold\n",
        "from sklearn.metrics import accuracy_score, f1_score, roc_auc_score, log_loss\n",
        "import time\n",
        "import warnings\n",
        "warnings.filterwarnings('ignore')"
      ]
    },
    {
      "cell_type": "markdown",
      "metadata": {
        "id": "K0VP2920C42l"
      },
      "source": [
        "## 读取训练集、测试集"
      ]
    },
    {
      "cell_type": "code",
      "execution_count": 71,
      "metadata": {
        "id": "7iHtdE8BDGo-"
      },
      "outputs": [],
      "source": [
        "def get_feature(num, data_label=None):\n",
        "    path = './feature/'\n",
        "    \n",
        "    register = pd.read_csv(path + 'register_feature_'+str(num)+'.csv')\n",
        "    create = pd.read_csv(path + 'create_feature_'+str(num)+'.csv')\n",
        "    launch = pd.read_csv(path + 'launch_feature_'+str(num)+'.csv')\n",
        "    activity = pd.read_csv(path + 'activity_feature_'+str(num)+'.csv')\n",
        "    \n",
        "    feature = pd.merge(register, launch, on='user_id', how='left')\n",
        "    feature = pd.merge(feature, activity, on='user_id', how='left')\n",
        "    feature = pd.merge(feature, create, on='user_id', how='left')\n",
        "    del register\n",
        "    del create\n",
        "    del launch\n",
        "\n",
        "    if data_label is not None:\n",
        "        label_name = 'label_' + str(num)\n",
        "        data_label_tmp = data_label[data_label['user_id'].isin(feature['user_id'])]\n",
        "        data_label_tmp = data_label.loc[:, ['user_id', label_name]]\n",
        "        data_label_tmp.columns = ['user_id', 'label']\n",
        "        feature = pd.merge(feature, data_label_tmp, on='user_id', how='left')\n",
        "        \n",
        "    return feature"
      ]
    },
    {
      "cell_type": "code",
      "execution_count": 72,
      "metadata": {
        "id": "DXLLoM9aDItH"
      },
      "outputs": [],
      "source": [
        "# 读标签数据\n",
        "data_label = pd.read_csv('./feature/data_label.csv')\n",
        "\n",
        "# 读特征数据\n",
        "test_x = get_feature('12')\n",
        "train_x = get_feature('0', data_label).append(get_feature('1', data_label)).append(\n",
        "          get_feature('2', data_label)).append(get_feature('3', data_label)).append(\n",
        "          get_feature('4', data_label)).append(get_feature('5', data_label))\n",
        "train_x = train_x.reset_index(drop=True)\n",
        "\n",
        "train_y = train_x['label']\n",
        "test_user = test_x['user_id']"
      ]
    },
    {
      "cell_type": "code",
      "execution_count": 73,
      "metadata": {
        "colab": {
          "base_uri": "https://localhost:8080/",
          "height": 300
        },
        "id": "9zE2xMEHDKy2",
        "outputId": "7765637f-19d1-42f7-fed3-86468c58359b"
      },
      "outputs": [
        {
          "output_type": "execute_result",
          "data": {
            "text/plain": [
              "   user_id  register_type  device_type  maxday_red_registerday  launch_count  \\\n",
              "0   744025              1          283                      17             3   \n",
              "1  1270299              1          259                      17             2   \n",
              "2   571220              1            2                      17             3   \n",
              "3  1308501              0           23                      17             9   \n",
              "4   745554              2            0                      17             9   \n",
              "\n",
              "   launch_ratio  launch_mean  launchmean_red_register  maxday_red_launchmean  \\\n",
              "0      0.176471    12.666667                 4.333333              12.666667   \n",
              "1      0.117647    16.500000                 0.500000              16.500000   \n",
              "2      0.176471    11.000000                 6.000000              11.000000   \n",
              "3      0.529412     8.000000                 9.000000               8.000000   \n",
              "4      0.529412    10.777778                 6.222222              10.777778   \n",
              "\n",
              "   launch_max  ...  create_at_lastday  create_gap_mean  create_gap_var  \\\n",
              "0          10  ...                  0              0.0             0.0   \n",
              "1          16  ...                  0              0.0             0.0   \n",
              "2           0  ...                  0              0.0             0.0   \n",
              "3           0  ...                  0              0.0             0.0   \n",
              "4           3  ...                  0              0.0             0.0   \n",
              "\n",
              "   always_create  always_create_atlast  create_var  create_kurt  create_skew  \\\n",
              "0              0                     0         0.0          0.0          0.0   \n",
              "1              0                     0         0.0          0.0          0.0   \n",
              "2              0                     0         0.0          0.0          0.0   \n",
              "3              0                     0         0.0          0.0          0.0   \n",
              "4              0                     0         0.0          0.0          0.0   \n",
              "\n",
              "   max_create_in_oneday  label  \n",
              "0                   0.0      0  \n",
              "1                   0.0      0  \n",
              "2                   0.0      1  \n",
              "3                   0.0      1  \n",
              "4                   0.0      1  \n",
              "\n",
              "[5 rows x 82 columns]"
            ],
            "text/html": [
              "\n",
              "  <div id=\"df-add89656-54cc-4f9e-a82e-997a87240def\">\n",
              "    <div class=\"colab-df-container\">\n",
              "      <div>\n",
              "<style scoped>\n",
              "    .dataframe tbody tr th:only-of-type {\n",
              "        vertical-align: middle;\n",
              "    }\n",
              "\n",
              "    .dataframe tbody tr th {\n",
              "        vertical-align: top;\n",
              "    }\n",
              "\n",
              "    .dataframe thead th {\n",
              "        text-align: right;\n",
              "    }\n",
              "</style>\n",
              "<table border=\"1\" class=\"dataframe\">\n",
              "  <thead>\n",
              "    <tr style=\"text-align: right;\">\n",
              "      <th></th>\n",
              "      <th>user_id</th>\n",
              "      <th>register_type</th>\n",
              "      <th>device_type</th>\n",
              "      <th>maxday_red_registerday</th>\n",
              "      <th>launch_count</th>\n",
              "      <th>launch_ratio</th>\n",
              "      <th>launch_mean</th>\n",
              "      <th>launchmean_red_register</th>\n",
              "      <th>maxday_red_launchmean</th>\n",
              "      <th>launch_max</th>\n",
              "      <th>...</th>\n",
              "      <th>create_at_lastday</th>\n",
              "      <th>create_gap_mean</th>\n",
              "      <th>create_gap_var</th>\n",
              "      <th>always_create</th>\n",
              "      <th>always_create_atlast</th>\n",
              "      <th>create_var</th>\n",
              "      <th>create_kurt</th>\n",
              "      <th>create_skew</th>\n",
              "      <th>max_create_in_oneday</th>\n",
              "      <th>label</th>\n",
              "    </tr>\n",
              "  </thead>\n",
              "  <tbody>\n",
              "    <tr>\n",
              "      <th>0</th>\n",
              "      <td>744025</td>\n",
              "      <td>1</td>\n",
              "      <td>283</td>\n",
              "      <td>17</td>\n",
              "      <td>3</td>\n",
              "      <td>0.176471</td>\n",
              "      <td>12.666667</td>\n",
              "      <td>4.333333</td>\n",
              "      <td>12.666667</td>\n",
              "      <td>10</td>\n",
              "      <td>...</td>\n",
              "      <td>0</td>\n",
              "      <td>0.0</td>\n",
              "      <td>0.0</td>\n",
              "      <td>0</td>\n",
              "      <td>0</td>\n",
              "      <td>0.0</td>\n",
              "      <td>0.0</td>\n",
              "      <td>0.0</td>\n",
              "      <td>0.0</td>\n",
              "      <td>0</td>\n",
              "    </tr>\n",
              "    <tr>\n",
              "      <th>1</th>\n",
              "      <td>1270299</td>\n",
              "      <td>1</td>\n",
              "      <td>259</td>\n",
              "      <td>17</td>\n",
              "      <td>2</td>\n",
              "      <td>0.117647</td>\n",
              "      <td>16.500000</td>\n",
              "      <td>0.500000</td>\n",
              "      <td>16.500000</td>\n",
              "      <td>16</td>\n",
              "      <td>...</td>\n",
              "      <td>0</td>\n",
              "      <td>0.0</td>\n",
              "      <td>0.0</td>\n",
              "      <td>0</td>\n",
              "      <td>0</td>\n",
              "      <td>0.0</td>\n",
              "      <td>0.0</td>\n",
              "      <td>0.0</td>\n",
              "      <td>0.0</td>\n",
              "      <td>0</td>\n",
              "    </tr>\n",
              "    <tr>\n",
              "      <th>2</th>\n",
              "      <td>571220</td>\n",
              "      <td>1</td>\n",
              "      <td>2</td>\n",
              "      <td>17</td>\n",
              "      <td>3</td>\n",
              "      <td>0.176471</td>\n",
              "      <td>11.000000</td>\n",
              "      <td>6.000000</td>\n",
              "      <td>11.000000</td>\n",
              "      <td>0</td>\n",
              "      <td>...</td>\n",
              "      <td>0</td>\n",
              "      <td>0.0</td>\n",
              "      <td>0.0</td>\n",
              "      <td>0</td>\n",
              "      <td>0</td>\n",
              "      <td>0.0</td>\n",
              "      <td>0.0</td>\n",
              "      <td>0.0</td>\n",
              "      <td>0.0</td>\n",
              "      <td>1</td>\n",
              "    </tr>\n",
              "    <tr>\n",
              "      <th>3</th>\n",
              "      <td>1308501</td>\n",
              "      <td>0</td>\n",
              "      <td>23</td>\n",
              "      <td>17</td>\n",
              "      <td>9</td>\n",
              "      <td>0.529412</td>\n",
              "      <td>8.000000</td>\n",
              "      <td>9.000000</td>\n",
              "      <td>8.000000</td>\n",
              "      <td>0</td>\n",
              "      <td>...</td>\n",
              "      <td>0</td>\n",
              "      <td>0.0</td>\n",
              "      <td>0.0</td>\n",
              "      <td>0</td>\n",
              "      <td>0</td>\n",
              "      <td>0.0</td>\n",
              "      <td>0.0</td>\n",
              "      <td>0.0</td>\n",
              "      <td>0.0</td>\n",
              "      <td>1</td>\n",
              "    </tr>\n",
              "    <tr>\n",
              "      <th>4</th>\n",
              "      <td>745554</td>\n",
              "      <td>2</td>\n",
              "      <td>0</td>\n",
              "      <td>17</td>\n",
              "      <td>9</td>\n",
              "      <td>0.529412</td>\n",
              "      <td>10.777778</td>\n",
              "      <td>6.222222</td>\n",
              "      <td>10.777778</td>\n",
              "      <td>3</td>\n",
              "      <td>...</td>\n",
              "      <td>0</td>\n",
              "      <td>0.0</td>\n",
              "      <td>0.0</td>\n",
              "      <td>0</td>\n",
              "      <td>0</td>\n",
              "      <td>0.0</td>\n",
              "      <td>0.0</td>\n",
              "      <td>0.0</td>\n",
              "      <td>0.0</td>\n",
              "      <td>1</td>\n",
              "    </tr>\n",
              "  </tbody>\n",
              "</table>\n",
              "<p>5 rows × 82 columns</p>\n",
              "</div>\n",
              "      <button class=\"colab-df-convert\" onclick=\"convertToInteractive('df-add89656-54cc-4f9e-a82e-997a87240def')\"\n",
              "              title=\"Convert this dataframe to an interactive table.\"\n",
              "              style=\"display:none;\">\n",
              "        \n",
              "  <svg xmlns=\"http://www.w3.org/2000/svg\" height=\"24px\"viewBox=\"0 0 24 24\"\n",
              "       width=\"24px\">\n",
              "    <path d=\"M0 0h24v24H0V0z\" fill=\"none\"/>\n",
              "    <path d=\"M18.56 5.44l.94 2.06.94-2.06 2.06-.94-2.06-.94-.94-2.06-.94 2.06-2.06.94zm-11 1L8.5 8.5l.94-2.06 2.06-.94-2.06-.94L8.5 2.5l-.94 2.06-2.06.94zm10 10l.94 2.06.94-2.06 2.06-.94-2.06-.94-.94-2.06-.94 2.06-2.06.94z\"/><path d=\"M17.41 7.96l-1.37-1.37c-.4-.4-.92-.59-1.43-.59-.52 0-1.04.2-1.43.59L10.3 9.45l-7.72 7.72c-.78.78-.78 2.05 0 2.83L4 21.41c.39.39.9.59 1.41.59.51 0 1.02-.2 1.41-.59l7.78-7.78 2.81-2.81c.8-.78.8-2.07 0-2.86zM5.41 20L4 18.59l7.72-7.72 1.47 1.35L5.41 20z\"/>\n",
              "  </svg>\n",
              "      </button>\n",
              "      \n",
              "  <style>\n",
              "    .colab-df-container {\n",
              "      display:flex;\n",
              "      flex-wrap:wrap;\n",
              "      gap: 12px;\n",
              "    }\n",
              "\n",
              "    .colab-df-convert {\n",
              "      background-color: #E8F0FE;\n",
              "      border: none;\n",
              "      border-radius: 50%;\n",
              "      cursor: pointer;\n",
              "      display: none;\n",
              "      fill: #1967D2;\n",
              "      height: 32px;\n",
              "      padding: 0 0 0 0;\n",
              "      width: 32px;\n",
              "    }\n",
              "\n",
              "    .colab-df-convert:hover {\n",
              "      background-color: #E2EBFA;\n",
              "      box-shadow: 0px 1px 2px rgba(60, 64, 67, 0.3), 0px 1px 3px 1px rgba(60, 64, 67, 0.15);\n",
              "      fill: #174EA6;\n",
              "    }\n",
              "\n",
              "    [theme=dark] .colab-df-convert {\n",
              "      background-color: #3B4455;\n",
              "      fill: #D2E3FC;\n",
              "    }\n",
              "\n",
              "    [theme=dark] .colab-df-convert:hover {\n",
              "      background-color: #434B5C;\n",
              "      box-shadow: 0px 1px 3px 1px rgba(0, 0, 0, 0.15);\n",
              "      filter: drop-shadow(0px 1px 2px rgba(0, 0, 0, 0.3));\n",
              "      fill: #FFFFFF;\n",
              "    }\n",
              "  </style>\n",
              "\n",
              "      <script>\n",
              "        const buttonEl =\n",
              "          document.querySelector('#df-add89656-54cc-4f9e-a82e-997a87240def button.colab-df-convert');\n",
              "        buttonEl.style.display =\n",
              "          google.colab.kernel.accessAllowed ? 'block' : 'none';\n",
              "\n",
              "        async function convertToInteractive(key) {\n",
              "          const element = document.querySelector('#df-add89656-54cc-4f9e-a82e-997a87240def');\n",
              "          const dataTable =\n",
              "            await google.colab.kernel.invokeFunction('convertToInteractive',\n",
              "                                                     [key], {});\n",
              "          if (!dataTable) return;\n",
              "\n",
              "          const docLinkHtml = 'Like what you see? Visit the ' +\n",
              "            '<a target=\"_blank\" href=https://colab.research.google.com/notebooks/data_table.ipynb>data table notebook</a>'\n",
              "            + ' to learn more about interactive tables.';\n",
              "          element.innerHTML = '';\n",
              "          dataTable['output_type'] = 'display_data';\n",
              "          await google.colab.output.renderOutput(dataTable, element);\n",
              "          const docLink = document.createElement('div');\n",
              "          docLink.innerHTML = docLinkHtml;\n",
              "          element.appendChild(docLink);\n",
              "        }\n",
              "      </script>\n",
              "    </div>\n",
              "  </div>\n",
              "  "
            ]
          },
          "metadata": {},
          "execution_count": 73
        }
      ],
      "source": [
        "train_x.head()"
      ]
    },
    {
      "cell_type": "markdown",
      "metadata": {
        "id": "GY7uOjdVDMTX"
      },
      "source": [
        "## 特征选择"
      ]
    },
    {
      "cell_type": "code",
      "execution_count": 74,
      "metadata": {
        "colab": {
          "base_uri": "https://localhost:8080/",
          "height": 943
        },
        "id": "2UetZl0jDOzF",
        "outputId": "fe430ab8-6e47-44ec-cfbf-1e7068de2ee9"
      },
      "outputs": [
        {
          "output_type": "display_data",
          "data": {
            "text/plain": [
              "<Figure size 1008x1008 with 2 Axes>"
            ],
            "image/png": "[encoded data removed]"
          },
          "metadata": {
            "needs_background": "light"
          }
        }
      ],
      "source": [
        "import matplotlib\n",
        "import matplotlib.pyplot as plt\n",
        "import seaborn as sns\n",
        "%matplotlib inline \n",
        "\n",
        "plt.figure(figsize = (14,14))\n",
        "plt.title('features correlation plot (Pearson)')\n",
        "corr = train_x.corr()\n",
        "sns.heatmap(corr,xticklabels=corr.columns,yticklabels=corr.columns,linewidths=.1,cmap=\"Reds\")\n",
        "plt.show()"
      ]
    },
    {
      "cell_type": "code",
      "execution_count": 75,
      "metadata": {
        "colab": {
          "base_uri": "https://localhost:8080/",
          "height": 488
        },
        "id": "4QOLybhoDRAC",
        "outputId": "1c64b462-c2b8-49e2-b766-a1b867078c39"
      },
      "outputs": [
        {
          "output_type": "execute_result",
          "data": {
            "text/plain": [
              "                       user_id  register_type  device_type  \\\n",
              "label                -0.002352      -0.089521    -0.050273   \n",
              "launch_at_lastday     0.000424      -0.045200    -0.035228   \n",
              "act_at_lastday       -0.001195      -0.071005    -0.043188   \n",
              "launch_ratio          0.005829      -0.078934    -0.040049   \n",
              "launch_count          0.005733      -0.078281    -0.039959   \n",
              "...                        ...            ...          ...   \n",
              "launch_mean           0.005342      -0.005255     0.018186   \n",
              "act_mean              0.002567       0.046258     0.069597   \n",
              "act_max              -0.001880       0.079441     0.081498   \n",
              "launch_max           -0.000289       0.038677     0.036847   \n",
              "maxday_red_launchmax -0.000289       0.038677     0.036847   \n",
              "\n",
              "                      maxday_red_registerday  launch_count  launch_ratio  \\\n",
              "label                              -0.103068      0.452403      0.454985   \n",
              "launch_at_lastday                  -0.229329      0.426936      0.427217   \n",
              "act_at_lastday                     -0.199311      0.407625      0.407570   \n",
              "launch_ratio                        0.420469      0.992678      1.000000   \n",
              "launch_count                        0.431753      1.000000      0.992678   \n",
              "...                                      ...           ...           ...   \n",
              "launch_mean                         0.887608      0.043227      0.034959   \n",
              "act_mean                            0.516243     -0.119250     -0.126287   \n",
              "act_max                             0.269891     -0.422452     -0.425731   \n",
              "launch_max                          0.529120     -0.400316     -0.403145   \n",
              "maxday_red_launchmax                0.529120     -0.400316     -0.403145   \n",
              "\n",
              "                      launch_mean  launchmean_red_register  \\\n",
              "label                   -0.352544                 0.420653   \n",
              "launch_at_lastday       -0.471225                 0.364342   \n",
              "act_at_lastday          -0.418935                 0.333792   \n",
              "launch_ratio             0.034959                 0.845070   \n",
              "launch_count             0.043227                 0.854371   \n",
              "...                           ...                      ...   \n",
              "launch_mean              1.000000                 0.093488   \n",
              "act_mean                 0.659160                -0.087164   \n",
              "act_max                  0.547063                -0.415080   \n",
              "launch_max               0.851738                -0.410811   \n",
              "maxday_red_launchmax     0.851738                -0.410811   \n",
              "\n",
              "                      maxday_red_launchmean  launch_max  ...  \\\n",
              "label                             -0.352544   -0.539027  ...   \n",
              "launch_at_lastday                 -0.471225   -0.613680  ...   \n",
              "act_at_lastday                    -0.418935   -0.551240  ...   \n",
              "launch_ratio                       0.034959   -0.403145  ...   \n",
              "launch_count                       0.043227   -0.400316  ...   \n",
              "...                                     ...         ...  ...   \n",
              "launch_mean                        1.000000    0.851738  ...   \n",
              "act_mean                           0.659160    0.636104  ...   \n",
              "act_max                            0.547063    0.719277  ...   \n",
              "launch_max                         0.851738    1.000000  ...   \n",
              "maxday_red_launchmax               0.851738    1.000000  ...   \n",
              "\n",
              "                      create_at_lastday  create_gap_mean  create_gap_var  \\\n",
              "label                          0.124030         0.112983        0.049987   \n",
              "launch_at_lastday              0.209922         0.110491        0.055660   \n",
              "act_at_lastday                 0.218998         0.113763        0.058815   \n",
              "launch_ratio                   0.081348         0.243743        0.141149   \n",
              "launch_count                   0.082576         0.246600        0.144974   \n",
              "...                                 ...              ...             ...   \n",
              "launch_mean                   -0.111413         0.016948        0.024928   \n",
              "act_mean                      -0.119252        -0.027596        0.002279   \n",
              "act_max                       -0.123866        -0.113825       -0.053483   \n",
              "launch_max                    -0.129210        -0.103293       -0.050009   \n",
              "maxday_red_launchmax          -0.129210        -0.103293       -0.050009   \n",
              "\n",
              "                      always_create  always_create_atlast  create_var  \\\n",
              "label                      0.063626              0.058508    0.094674   \n",
              "launch_at_lastday          0.066199              0.087977    0.099763   \n",
              "act_at_lastday             0.068581              0.093820    0.103606   \n",
              "launch_ratio               0.075215              0.020540    0.243558   \n",
              "launch_count               0.074304              0.020355    0.249332   \n",
              "...                             ...                   ...         ...   \n",
              "launch_mean               -0.032807             -0.058981    0.033467   \n",
              "act_mean                  -0.056174             -0.063430   -0.006106   \n",
              "act_max                   -0.070147             -0.055734   -0.093032   \n",
              "launch_max                -0.054410             -0.054080   -0.087585   \n",
              "maxday_red_launchmax      -0.054410             -0.054080   -0.087585   \n",
              "\n",
              "                      create_kurt  create_skew  max_create_in_oneday     label  \n",
              "label                    0.014773     0.023221              0.114459  1.000000  \n",
              "launch_at_lastday        0.010884     0.024976              0.116596  0.529378  \n",
              "act_at_lastday           0.010129     0.023522              0.121815  0.509457  \n",
              "launch_ratio             0.027315     0.075299              0.202315  0.454985  \n",
              "launch_count             0.026859     0.075276              0.202471  0.452403  \n",
              "...                           ...          ...                   ...       ...  \n",
              "launch_mean              0.001174     0.010083             -0.023607 -0.352544  \n",
              "act_mean                -0.004805     0.002181             -0.071126 -0.426976  \n",
              "act_max                 -0.017781    -0.031435             -0.128435 -0.538072  \n",
              "launch_max              -0.013546    -0.026582             -0.104331 -0.539027  \n",
              "maxday_red_launchmax    -0.013546    -0.026582             -0.104331 -0.539027  \n",
              "\n",
              "[82 rows x 82 columns]"
            ],
            "text/html": [
              "\n",
              "  <div id=\"df-6c2de233-00c2-410a-9c52-4d674ede6b8d\">\n",
              "    <div class=\"colab-df-container\">\n",
              "      <div>\n",
              "<style scoped>\n",
              "    .dataframe tbody tr th:only-of-type {\n",
              "        vertical-align: middle;\n",
              "    }\n",
              "\n",
              "    .dataframe tbody tr th {\n",
              "        vertical-align: top;\n",
              "    }\n",
              "\n",
              "    .dataframe thead th {\n",
              "        text-align: right;\n",
              "    }\n",
              "</style>\n",
              "<table border=\"1\" class=\"dataframe\">\n",
              "  <thead>\n",
              "    <tr style=\"text-align: right;\">\n",
              "      <th></th>\n",
              "      <th>user_id</th>\n",
              "      <th>register_type</th>\n",
              "      <th>device_type</th>\n",
              "      <th>maxday_red_registerday</th>\n",
              "      <th>launch_count</th>\n",
              "      <th>launch_ratio</th>\n",
              "      <th>launch_mean</th>\n",
              "      <th>launchmean_red_register</th>\n",
              "      <th>maxday_red_launchmean</th>\n",
              "      <th>launch_max</th>\n",
              "      <th>...</th>\n",
              "      <th>create_at_lastday</th>\n",
              "      <th>create_gap_mean</th>\n",
              "      <th>create_gap_var</th>\n",
              "      <th>always_create</th>\n",
              "      <th>always_create_atlast</th>\n",
              "      <th>create_var</th>\n",
              "      <th>create_kurt</th>\n",
              "      <th>create_skew</th>\n",
              "      <th>max_create_in_oneday</th>\n",
              "      <th>label</th>\n",
              "    </tr>\n",
              "  </thead>\n",
              "  <tbody>\n",
              "    <tr>\n",
              "      <th>label</th>\n",
              "      <td>-0.002352</td>\n",
              "      <td>-0.089521</td>\n",
              "      <td>-0.050273</td>\n",
              "      <td>-0.103068</td>\n",
              "      <td>0.452403</td>\n",
              "      <td>0.454985</td>\n",
              "      <td>-0.352544</td>\n",
              "      <td>0.420653</td>\n",
              "      <td>-0.352544</td>\n",
              "      <td>-0.539027</td>\n",
              "      <td>...</td>\n",
              "      <td>0.124030</td>\n",
              "      <td>0.112983</td>\n",
              "      <td>0.049987</td>\n",
              "      <td>0.063626</td>\n",
              "      <td>0.058508</td>\n",
              "      <td>0.094674</td>\n",
              "      <td>0.014773</td>\n",
              "      <td>0.023221</td>\n",
              "      <td>0.114459</td>\n",
              "      <td>1.000000</td>\n",
              "    </tr>\n",
              "    <tr>\n",
              "      <th>launch_at_lastday</th>\n",
              "      <td>0.000424</td>\n",
              "      <td>-0.045200</td>\n",
              "      <td>-0.035228</td>\n",
              "      <td>-0.229329</td>\n",
              "      <td>0.426936</td>\n",
              "      <td>0.427217</td>\n",
              "      <td>-0.471225</td>\n",
              "      <td>0.364342</td>\n",
              "      <td>-0.471225</td>\n",
              "      <td>-0.613680</td>\n",
              "      <td>...</td>\n",
              "      <td>0.209922</td>\n",
              "      <td>0.110491</td>\n",
              "      <td>0.055660</td>\n",
              "      <td>0.066199</td>\n",
              "      <td>0.087977</td>\n",
              "      <td>0.099763</td>\n",
              "      <td>0.010884</td>\n",
              "      <td>0.024976</td>\n",
              "      <td>0.116596</td>\n",
              "      <td>0.529378</td>\n",
              "    </tr>\n",
              "    <tr>\n",
              "      <th>act_at_lastday</th>\n",
              "      <td>-0.001195</td>\n",
              "      <td>-0.071005</td>\n",
              "      <td>-0.043188</td>\n",
              "      <td>-0.199311</td>\n",
              "      <td>0.407625</td>\n",
              "      <td>0.407570</td>\n",
              "      <td>-0.418935</td>\n",
              "      <td>0.333792</td>\n",
              "      <td>-0.418935</td>\n",
              "      <td>-0.551240</td>\n",
              "      <td>...</td>\n",
              "      <td>0.218998</td>\n",
              "      <td>0.113763</td>\n",
              "      <td>0.058815</td>\n",
              "      <td>0.068581</td>\n",
              "      <td>0.093820</td>\n",
              "      <td>0.103606</td>\n",
              "      <td>0.010129</td>\n",
              "      <td>0.023522</td>\n",
              "      <td>0.121815</td>\n",
              "      <td>0.509457</td>\n",
              "    </tr>\n",
              "    <tr>\n",
              "      <th>launch_ratio</th>\n",
              "      <td>0.005829</td>\n",
              "      <td>-0.078934</td>\n",
              "      <td>-0.040049</td>\n",
              "      <td>0.420469</td>\n",
              "      <td>0.992678</td>\n",
              "      <td>1.000000</td>\n",
              "      <td>0.034959</td>\n",
              "      <td>0.845070</td>\n",
              "      <td>0.034959</td>\n",
              "      <td>-0.403145</td>\n",
              "      <td>...</td>\n",
              "      <td>0.081348</td>\n",
              "      <td>0.243743</td>\n",
              "      <td>0.141149</td>\n",
              "      <td>0.075215</td>\n",
              "      <td>0.020540</td>\n",
              "      <td>0.243558</td>\n",
              "      <td>0.027315</td>\n",
              "      <td>0.075299</td>\n",
              "      <td>0.202315</td>\n",
              "      <td>0.454985</td>\n",
              "    </tr>\n",
              "    <tr>\n",
              "      <th>launch_count</th>\n",
              "      <td>0.005733</td>\n",
              "      <td>-0.078281</td>\n",
              "      <td>-0.039959</td>\n",
              "      <td>0.431753</td>\n",
              "      <td>1.000000</td>\n",
              "      <td>0.992678</td>\n",
              "      <td>0.043227</td>\n",
              "      <td>0.854371</td>\n",
              "      <td>0.043227</td>\n",
              "      <td>-0.400316</td>\n",
              "      <td>...</td>\n",
              "      <td>0.082576</td>\n",
              "      <td>0.246600</td>\n",
              "      <td>0.144974</td>\n",
              "      <td>0.074304</td>\n",
              "      <td>0.020355</td>\n",
              "      <td>0.249332</td>\n",
              "      <td>0.026859</td>\n",
              "      <td>0.075276</td>\n",
              "      <td>0.202471</td>\n",
              "      <td>0.452403</td>\n",
              "    </tr>\n",
              "    <tr>\n",
              "      <th>...</th>\n",
              "      <td>...</td>\n",
              "      <td>...</td>\n",
              "      <td>...</td>\n",
              "      <td>...</td>\n",
              "      <td>...</td>\n",
              "      <td>...</td>\n",
              "      <td>...</td>\n",
              "      <td>...</td>\n",
              "      <td>...</td>\n",
              "      <td>...</td>\n",
              "      <td>...</td>\n",
              "      <td>...</td>\n",
              "      <td>...</td>\n",
              "      <td>...</td>\n",
              "      <td>...</td>\n",
              "      <td>...</td>\n",
              "      <td>...</td>\n",
              "      <td>...</td>\n",
              "      <td>...</td>\n",
              "      <td>...</td>\n",
              "      <td>...</td>\n",
              "    </tr>\n",
              "    <tr>\n",
              "      <th>launch_mean</th>\n",
              "      <td>0.005342</td>\n",
              "      <td>-0.005255</td>\n",
              "      <td>0.018186</td>\n",
              "      <td>0.887608</td>\n",
              "      <td>0.043227</td>\n",
              "      <td>0.034959</td>\n",
              "      <td>1.000000</td>\n",
              "      <td>0.093488</td>\n",
              "      <td>1.000000</td>\n",
              "      <td>0.851738</td>\n",
              "      <td>...</td>\n",
              "      <td>-0.111413</td>\n",
              "      <td>0.016948</td>\n",
              "      <td>0.024928</td>\n",
              "      <td>-0.032807</td>\n",
              "      <td>-0.058981</td>\n",
              "      <td>0.033467</td>\n",
              "      <td>0.001174</td>\n",
              "      <td>0.010083</td>\n",
              "      <td>-0.023607</td>\n",
              "      <td>-0.352544</td>\n",
              "    </tr>\n",
              "    <tr>\n",
              "      <th>act_mean</th>\n",
              "      <td>0.002567</td>\n",
              "      <td>0.046258</td>\n",
              "      <td>0.069597</td>\n",
              "      <td>0.516243</td>\n",
              "      <td>-0.119250</td>\n",
              "      <td>-0.126287</td>\n",
              "      <td>0.659160</td>\n",
              "      <td>-0.087164</td>\n",
              "      <td>0.659160</td>\n",
              "      <td>0.636104</td>\n",
              "      <td>...</td>\n",
              "      <td>-0.119252</td>\n",
              "      <td>-0.027596</td>\n",
              "      <td>0.002279</td>\n",
              "      <td>-0.056174</td>\n",
              "      <td>-0.063430</td>\n",
              "      <td>-0.006106</td>\n",
              "      <td>-0.004805</td>\n",
              "      <td>0.002181</td>\n",
              "      <td>-0.071126</td>\n",
              "      <td>-0.426976</td>\n",
              "    </tr>\n",
              "    <tr>\n",
              "      <th>act_max</th>\n",
              "      <td>-0.001880</td>\n",
              "      <td>0.079441</td>\n",
              "      <td>0.081498</td>\n",
              "      <td>0.269891</td>\n",
              "      <td>-0.422452</td>\n",
              "      <td>-0.425731</td>\n",
              "      <td>0.547063</td>\n",
              "      <td>-0.415080</td>\n",
              "      <td>0.547063</td>\n",
              "      <td>0.719277</td>\n",
              "      <td>...</td>\n",
              "      <td>-0.123866</td>\n",
              "      <td>-0.113825</td>\n",
              "      <td>-0.053483</td>\n",
              "      <td>-0.070147</td>\n",
              "      <td>-0.055734</td>\n",
              "      <td>-0.093032</td>\n",
              "      <td>-0.017781</td>\n",
              "      <td>-0.031435</td>\n",
              "      <td>-0.128435</td>\n",
              "      <td>-0.538072</td>\n",
              "    </tr>\n",
              "    <tr>\n",
              "      <th>launch_max</th>\n",
              "      <td>-0.000289</td>\n",
              "      <td>0.038677</td>\n",
              "      <td>0.036847</td>\n",
              "      <td>0.529120</td>\n",
              "      <td>-0.400316</td>\n",
              "      <td>-0.403145</td>\n",
              "      <td>0.851738</td>\n",
              "      <td>-0.410811</td>\n",
              "      <td>0.851738</td>\n",
              "      <td>1.000000</td>\n",
              "      <td>...</td>\n",
              "      <td>-0.129210</td>\n",
              "      <td>-0.103293</td>\n",
              "      <td>-0.050009</td>\n",
              "      <td>-0.054410</td>\n",
              "      <td>-0.054080</td>\n",
              "      <td>-0.087585</td>\n",
              "      <td>-0.013546</td>\n",
              "      <td>-0.026582</td>\n",
              "      <td>-0.104331</td>\n",
              "      <td>-0.539027</td>\n",
              "    </tr>\n",
              "    <tr>\n",
              "      <th>maxday_red_launchmax</th>\n",
              "      <td>-0.000289</td>\n",
              "      <td>0.038677</td>\n",
              "      <td>0.036847</td>\n",
              "      <td>0.529120</td>\n",
              "      <td>-0.400316</td>\n",
              "      <td>-0.403145</td>\n",
              "      <td>0.851738</td>\n",
              "      <td>-0.410811</td>\n",
              "      <td>0.851738</td>\n",
              "      <td>1.000000</td>\n",
              "      <td>...</td>\n",
              "      <td>-0.129210</td>\n",
              "      <td>-0.103293</td>\n",
              "      <td>-0.050009</td>\n",
              "      <td>-0.054410</td>\n",
              "      <td>-0.054080</td>\n",
              "      <td>-0.087585</td>\n",
              "      <td>-0.013546</td>\n",
              "      <td>-0.026582</td>\n",
              "      <td>-0.104331</td>\n",
              "      <td>-0.539027</td>\n",
              "    </tr>\n",
              "  </tbody>\n",
              "</table>\n",
              "<p>82 rows × 82 columns</p>\n",
              "</div>\n",
              "      <button class=\"colab-df-convert\" onclick=\"convertToInteractive('df-6c2de233-00c2-410a-9c52-4d674ede6b8d')\"\n",
              "              title=\"Convert this dataframe to an interactive table.\"\n",
              "              style=\"display:none;\">\n",
              "        \n",
              "  <svg xmlns=\"http://www.w3.org/2000/svg\" height=\"24px\"viewBox=\"0 0 24 24\"\n",
              "       width=\"24px\">\n",
              "    <path d=\"M0 0h24v24H0V0z\" fill=\"none\"/>\n",
              "    <path d=\"M18.56 5.44l.94 2.06.94-2.06 2.06-.94-2.06-.94-.94-2.06-.94 2.06-2.06.94zm-11 1L8.5 8.5l.94-2.06 2.06-.94-2.06-.94L8.5 2.5l-.94 2.06-2.06.94zm10 10l.94 2.06.94-2.06 2.06-.94-2.06-.94-.94-2.06-.94 2.06-2.06.94z\"/><path d=\"M17.41 7.96l-1.37-1.37c-.4-.4-.92-.59-1.43-.59-.52 0-1.04.2-1.43.59L10.3 9.45l-7.72 7.72c-.78.78-.78 2.05 0 2.83L4 21.41c.39.39.9.59 1.41.59.51 0 1.02-.2 1.41-.59l7.78-7.78 2.81-2.81c.8-.78.8-2.07 0-2.86zM5.41 20L4 18.59l7.72-7.72 1.47 1.35L5.41 20z\"/>\n",
              "  </svg>\n",
              "      </button>\n",
              "      \n",
              "  <style>\n",
              "    .colab-df-container {\n",
              "      display:flex;\n",
              "      flex-wrap:wrap;\n",
              "      gap: 12px;\n",
              "    }\n",
              "\n",
              "    .colab-df-convert {\n",
              "      background-color: #E8F0FE;\n",
              "      border: none;\n",
              "      border-radius: 50%;\n",
              "      cursor: pointer;\n",
              "      display: none;\n",
              "      fill: #1967D2;\n",
              "      height: 32px;\n",
              "      padding: 0 0 0 0;\n",
              "      width: 32px;\n",
              "    }\n",
              "\n",
              "    .colab-df-convert:hover {\n",
              "      background-color: #E2EBFA;\n",
              "      box-shadow: 0px 1px 2px rgba(60, 64, 67, 0.3), 0px 1px 3px 1px rgba(60, 64, 67, 0.15);\n",
              "      fill: #174EA6;\n",
              "    }\n",
              "\n",
              "    [theme=dark] .colab-df-convert {\n",
              "      background-color: #3B4455;\n",
              "      fill: #D2E3FC;\n",
              "    }\n",
              "\n",
              "    [theme=dark] .colab-df-convert:hover {\n",
              "      background-color: #434B5C;\n",
              "      box-shadow: 0px 1px 3px 1px rgba(0, 0, 0, 0.15);\n",
              "      filter: drop-shadow(0px 1px 2px rgba(0, 0, 0, 0.3));\n",
              "      fill: #FFFFFF;\n",
              "    }\n",
              "  </style>\n",
              "\n",
              "      <script>\n",
              "        const buttonEl =\n",
              "          document.querySelector('#df-6c2de233-00c2-410a-9c52-4d674ede6b8d button.colab-df-convert');\n",
              "        buttonEl.style.display =\n",
              "          google.colab.kernel.accessAllowed ? 'block' : 'none';\n",
              "\n",
              "        async function convertToInteractive(key) {\n",
              "          const element = document.querySelector('#df-6c2de233-00c2-410a-9c52-4d674ede6b8d');\n",
              "          const dataTable =\n",
              "            await google.colab.kernel.invokeFunction('convertToInteractive',\n",
              "                                                     [key], {});\n",
              "          if (!dataTable) return;\n",
              "\n",
              "          const docLinkHtml = 'Like what you see? Visit the ' +\n",
              "            '<a target=\"_blank\" href=https://colab.research.google.com/notebooks/data_table.ipynb>data table notebook</a>'\n",
              "            + ' to learn more about interactive tables.';\n",
              "          element.innerHTML = '';\n",
              "          dataTable['output_type'] = 'display_data';\n",
              "          await google.colab.output.renderOutput(dataTable, element);\n",
              "          const docLink = document.createElement('div');\n",
              "          docLink.innerHTML = docLinkHtml;\n",
              "          element.appendChild(docLink);\n",
              "        }\n",
              "      </script>\n",
              "    </div>\n",
              "  </div>\n",
              "  "
            ]
          },
          "metadata": {},
          "execution_count": 75
        }
      ],
      "source": [
        "train_x.corr().sort_values('label', ascending=False)"
      ]
    },
    {
      "cell_type": "code",
      "execution_count": 76,
      "metadata": {
        "colab": {
          "base_uri": "https://localhost:8080/",
          "height": 300
        },
        "id": "_1FkavdXDTPz",
        "outputId": "5ca2568d-418a-4cac-dac4-7fe18728e750"
      },
      "outputs": [
        {
          "output_type": "execute_result",
          "data": {
            "text/plain": [
              "               label\n",
              "count  191121.000000\n",
              "mean        0.501860\n",
              "std         0.499998\n",
              "min         0.000000\n",
              "25%         0.000000\n",
              "50%         1.000000\n",
              "75%         1.000000\n",
              "max         1.000000"
            ],
            "text/html": [
              "\n",
              "  <div id=\"df-5f4a801c-dcfb-48aa-ac7b-4d8b31eeb908\">\n",
              "    <div class=\"colab-df-container\">\n",
              "      <div>\n",
              "<style scoped>\n",
              "    .dataframe tbody tr th:only-of-type {\n",
              "        vertical-align: middle;\n",
              "    }\n",
              "\n",
              "    .dataframe tbody tr th {\n",
              "        vertical-align: top;\n",
              "    }\n",
              "\n",
              "    .dataframe thead th {\n",
              "        text-align: right;\n",
              "    }\n",
              "</style>\n",
              "<table border=\"1\" class=\"dataframe\">\n",
              "  <thead>\n",
              "    <tr style=\"text-align: right;\">\n",
              "      <th></th>\n",
              "      <th>label</th>\n",
              "    </tr>\n",
              "  </thead>\n",
              "  <tbody>\n",
              "    <tr>\n",
              "      <th>count</th>\n",
              "      <td>191121.000000</td>\n",
              "    </tr>\n",
              "    <tr>\n",
              "      <th>mean</th>\n",
              "      <td>0.501860</td>\n",
              "    </tr>\n",
              "    <tr>\n",
              "      <th>std</th>\n",
              "      <td>0.499998</td>\n",
              "    </tr>\n",
              "    <tr>\n",
              "      <th>min</th>\n",
              "      <td>0.000000</td>\n",
              "    </tr>\n",
              "    <tr>\n",
              "      <th>25%</th>\n",
              "      <td>0.000000</td>\n",
              "    </tr>\n",
              "    <tr>\n",
              "      <th>50%</th>\n",
              "      <td>1.000000</td>\n",
              "    </tr>\n",
              "    <tr>\n",
              "      <th>75%</th>\n",
              "      <td>1.000000</td>\n",
              "    </tr>\n",
              "    <tr>\n",
              "      <th>max</th>\n",
              "      <td>1.000000</td>\n",
              "    </tr>\n",
              "  </tbody>\n",
              "</table>\n",
              "</div>\n",
              "      <button class=\"colab-df-convert\" onclick=\"convertToInteractive('df-5f4a801c-dcfb-48aa-ac7b-4d8b31eeb908')\"\n",
              "              title=\"Convert this dataframe to an interactive table.\"\n",
              "              style=\"display:none;\">\n",
              "        \n",
              "  <svg xmlns=\"http://www.w3.org/2000/svg\" height=\"24px\"viewBox=\"0 0 24 24\"\n",
              "       width=\"24px\">\n",
              "    <path d=\"M0 0h24v24H0V0z\" fill=\"none\"/>\n",
              "    <path d=\"M18.56 5.44l.94 2.06.94-2.06 2.06-.94-2.06-.94-.94-2.06-.94 2.06-2.06.94zm-11 1L8.5 8.5l.94-2.06 2.06-.94-2.06-.94L8.5 2.5l-.94 2.06-2.06.94zm10 10l.94 2.06.94-2.06 2.06-.94-2.06-.94-.94-2.06-.94 2.06-2.06.94z\"/><path d=\"M17.41 7.96l-1.37-1.37c-.4-.4-.92-.59-1.43-.59-.52 0-1.04.2-1.43.59L10.3 9.45l-7.72 7.72c-.78.78-.78 2.05 0 2.83L4 21.41c.39.39.9.59 1.41.59.51 0 1.02-.2 1.41-.59l7.78-7.78 2.81-2.81c.8-.78.8-2.07 0-2.86zM5.41 20L4 18.59l7.72-7.72 1.47 1.35L5.41 20z\"/>\n",
              "  </svg>\n",
              "      </button>\n",
              "      \n",
              "  <style>\n",
              "    .colab-df-container {\n",
              "      display:flex;\n",
              "      flex-wrap:wrap;\n",
              "      gap: 12px;\n",
              "    }\n",
              "\n",
              "    .colab-df-convert {\n",
              "      background-color: #E8F0FE;\n",
              "      border: none;\n",
              "      border-radius: 50%;\n",
              "      cursor: pointer;\n",
              "      display: none;\n",
              "      fill: #1967D2;\n",
              "      height: 32px;\n",
              "      padding: 0 0 0 0;\n",
              "      width: 32px;\n",
              "    }\n",
              "\n",
              "    .colab-df-convert:hover {\n",
              "      background-color: #E2EBFA;\n",
              "      box-shadow: 0px 1px 2px rgba(60, 64, 67, 0.3), 0px 1px 3px 1px rgba(60, 64, 67, 0.15);\n",
              "      fill: #174EA6;\n",
              "    }\n",
              "\n",
              "    [theme=dark] .colab-df-convert {\n",
              "      background-color: #3B4455;\n",
              "      fill: #D2E3FC;\n",
              "    }\n",
              "\n",
              "    [theme=dark] .colab-df-convert:hover {\n",
              "      background-color: #434B5C;\n",
              "      box-shadow: 0px 1px 3px 1px rgba(0, 0, 0, 0.15);\n",
              "      filter: drop-shadow(0px 1px 2px rgba(0, 0, 0, 0.3));\n",
              "      fill: #FFFFFF;\n",
              "    }\n",
              "  </style>\n",
              "\n",
              "      <script>\n",
              "        const buttonEl =\n",
              "          document.querySelector('#df-5f4a801c-dcfb-48aa-ac7b-4d8b31eeb908 button.colab-df-convert');\n",
              "        buttonEl.style.display =\n",
              "          google.colab.kernel.accessAllowed ? 'block' : 'none';\n",
              "\n",
              "        async function convertToInteractive(key) {\n",
              "          const element = document.querySelector('#df-5f4a801c-dcfb-48aa-ac7b-4d8b31eeb908');\n",
              "          const dataTable =\n",
              "            await google.colab.kernel.invokeFunction('convertToInteractive',\n",
              "                                                     [key], {});\n",
              "          if (!dataTable) return;\n",
              "\n",
              "          const docLinkHtml = 'Like what you see? Visit the ' +\n",
              "            '<a target=\"_blank\" href=https://colab.research.google.com/notebooks/data_table.ipynb>data table notebook</a>'\n",
              "            + ' to learn more about interactive tables.';\n",
              "          element.innerHTML = '';\n",
              "          dataTable['output_type'] = 'display_data';\n",
              "          await google.colab.output.renderOutput(dataTable, element);\n",
              "          const docLink = document.createElement('div');\n",
              "          docLink.innerHTML = docLinkHtml;\n",
              "          element.appendChild(docLink);\n",
              "        }\n",
              "      </script>\n",
              "    </div>\n",
              "  </div>\n",
              "  "
            ]
          },
          "metadata": {},
          "execution_count": 76
        }
      ],
      "source": [
        "train_x[['label']].describe()"
      ]
    },
    {
      "cell_type": "code",
      "execution_count": 77,
      "metadata": {
        "id": "UGJn78dnDUum"
      },
      "outputs": [],
      "source": [
        "from sklearn import feature_selection\n",
        "\n",
        "feature_df = train_x[[f for f in train_x.columns if f not in ['user_id','label']]]\n",
        "label = train_x['label']\n",
        "\n",
        "# Filter\n",
        "# 方差选择法，选择方差大于阈值的特征\n",
        "features_var = feature_selection.VarianceThreshold(threshold=0.7).fit_transform(feature_df)"
      ]
    },
    {
      "cell_type": "code",
      "execution_count": 78,
      "metadata": {
        "colab": {
          "base_uri": "https://localhost:8080/"
        },
        "id": "TDC_48OPDW53",
        "outputId": "34c1579a-606e-4fc8-dc64-893a8abd54a9"
      },
      "outputs": [
        {
          "output_type": "execute_result",
          "data": {
            "text/plain": [
              "(191121, 56)"
            ]
          },
          "metadata": {},
          "execution_count": 78
        }
      ],
      "source": [
        "features_var.shape"
      ]
    },
    {
      "cell_type": "code",
      "execution_count": 79,
      "metadata": {
        "id": "TUSqkSIPDYir"
      },
      "outputs": [],
      "source": [
        "# Wrapper\n",
        "# 递归特征消除法，这里选择逻辑回归作为基模型，n_features_to_select为选择的特征个数\n",
        "from sklearn.linear_model import LogisticRegression\n",
        "features_rfe = feature_selection.RFE(estimator=LogisticRegression(), n_features_to_select=30).fit_transform(feature_df, label)"
      ]
    },
    {
      "cell_type": "code",
      "execution_count": 80,
      "metadata": {
        "id": "ZoCmqaaXDZ4H"
      },
      "outputs": [],
      "source": [
        "# Embedded\n",
        "# 基于惩罚项的特征选择法,这里选择带L1惩罚项的逻辑回归作为基模型\n",
        "features_lr_embed = feature_selection.SelectFromModel(LogisticRegression(penalty=\"l2\", C=0.1)).fit_transform(feature_df, label)\n",
        "\n",
        "# 基于树模型的特征选择法,这里选择GBDT模型作为基模型\n",
        "from sklearn.ensemble import GradientBoostingClassifier\n",
        "features_gbdt_embed = feature_selection.SelectFromModel(GradientBoostingClassifier()).fit_transform(feature_df, label)"
      ]
    },
    {
      "cell_type": "markdown",
      "metadata": {
        "id": "bCv-d4soDblO"
      },
      "source": [
        "## 训练模型"
      ]
    },
    {
      "cell_type": "code",
      "execution_count": 81,
      "metadata": {
        "id": "at8gf2qIDeDW"
      },
      "outputs": [],
      "source": [
        "del train_x['user_id']\n",
        "del test_x['user_id']\n",
        "del train_x['label']"
      ]
    },
    {
      "cell_type": "code",
      "execution_count": 82,
      "metadata": {
        "id": "_Q6rHPcQDfeu"
      },
      "outputs": [],
      "source": [
        "features = train_x.columns.tolist()"
      ]
    },
    {
      "cell_type": "code",
      "execution_count": 83,
      "metadata": {
        "id": "2MFJVTKzDhkK"
      },
      "outputs": [],
      "source": [
        "def cv_model(clf, train_x, train_y, test_x, clf_name):\n",
        "    folds = 5\n",
        "    seed = 2022\n",
        "    kf = StratifiedKFold(n_splits=folds, shuffle=True, random_state=seed)\n",
        "\n",
        "    train = np.zeros(train_x.shape[0])\n",
        "    test = np.zeros(test_x.shape[0])\n",
        "\n",
        "    cv_scores = []\n",
        "\n",
        "    for i, (train_index, valid_index) in enumerate(kf.split(train_x, train_y)):\n",
        "        print('************************************ {} ************************************'.format(str(i+1)))\n",
        "        trn_x, trn_y, val_x, val_y = train_x.iloc[train_index], train_y[train_index], train_x.iloc[valid_index], train_y[valid_index]\n",
        "\n",
        "        if clf_name == \"lgb\":\n",
        "            train_matrix = clf.Dataset(trn_x, label=trn_y)\n",
        "            valid_matrix = clf.Dataset(val_x, label=val_y)\n",
        "\n",
        "            params = {\n",
        "                'boosting_type': 'gbdt',\n",
        "                'objective': 'binary',\n",
        "                'metric': 'auc',\n",
        "                'min_child_weight': 5,\n",
        "                'num_leaves': 2 ** 5,\n",
        "                'lambda_l2': 10,\n",
        "                'feature_fraction': 0.8,\n",
        "                'bagging_fraction': 0.8,\n",
        "                'bagging_freq': 4,\n",
        "                'learning_rate': 0.5,\n",
        "                'seed': 2022,\n",
        "                'n_jobs':-1,\n",
        "                'verbose': -1,\n",
        "            }\n",
        "\n",
        "            model = clf.train(params, train_matrix, 5000, valid_sets=[train_matrix, valid_matrix], \n",
        "                              categorical_feature=[], verbose_eval=2000, early_stopping_rounds=500)\n",
        "            val_pred = model.predict(val_x, num_iteration=model.best_iteration)\n",
        "            test_pred = model.predict(test_x, num_iteration=model.best_iteration)\n",
        "            \n",
        "            print(list(sorted(zip(features, model.feature_importance(\"gain\")), key=lambda x: x[1], reverse=True))[:20])\n",
        "                \n",
        "        if clf_name == \"xgb\":\n",
        "            train_matrix = clf.DMatrix(trn_x , label=trn_y)\n",
        "            valid_matrix = clf.DMatrix(val_x , label=val_y)\n",
        "            test_matrix = clf.DMatrix(test_x)\n",
        "            \n",
        "            params = {'booster': 'gbtree',\n",
        "                      'objective': 'binary:logistic',\n",
        "                      'eval_metric': 'auc',\n",
        "                      'gamma': 1,\n",
        "                      'min_child_weight': 1.5,\n",
        "                      'max_depth': 5,\n",
        "                      'lambda': 10,\n",
        "                      'subsample': 0.7,\n",
        "                      'colsample_bytree': 0.7,\n",
        "                      'colsample_bylevel': 0.7,\n",
        "                      'eta': 0.5,\n",
        "                      'tree_method': 'exact',\n",
        "                      'seed': 2022,\n",
        "                      'nthread': 36\n",
        "                      }\n",
        "            \n",
        "            watchlist = [(train_matrix, 'train'),(valid_matrix, 'eval')]\n",
        "            \n",
        "            model = clf.train(params, train_matrix, num_boost_round=50000, evals=watchlist, verbose_eval=2000, early_stopping_rounds=200)\n",
        "            val_pred  = model.predict(valid_matrix, ntree_limit=model.best_ntree_limit)\n",
        "            test_pred = model.predict(test_matrix , ntree_limit=model.best_ntree_limit)\n",
        "                 \n",
        "        if clf_name == \"cat\":\n",
        "            params = {'learning_rate': 0.5, 'depth': 5, 'l2_leaf_reg': 10, 'bootstrap_type': 'Bernoulli',\n",
        "                      'od_type': 'Iter', 'od_wait': 50, 'random_seed': 11, 'allow_writing_files': False}\n",
        "            \n",
        "            model = clf(iterations=2000, **params)\n",
        "            model.fit(trn_x, trn_y, eval_set=(val_x, val_y),\n",
        "                      cat_features=[], use_best_model=True, verbose=2000)\n",
        "            \n",
        "            val_pred  = model.predict(val_x)\n",
        "            test_pred = model.predict(test_x)\n",
        "            \n",
        "        train[valid_index] = val_pred\n",
        "        test += test_pred / kf.n_splits\n",
        "        cv_scores.append(roc_auc_score(val_y, val_pred))\n",
        "        \n",
        "        print(cv_scores)\n",
        "       \n",
        "    print(\"%s_scotrainre_list:\" % clf_name, cv_scores)\n",
        "    print(\"%s_score_mean:\" % clf_name, np.mean(cv_scores))\n",
        "    print(\"%s_score_std:\" % clf_name, np.std(cv_scores))\n",
        "    return train, test"
      ]
    },
    {
      "cell_type": "code",
      "execution_count": 84,
      "metadata": {
        "id": "5NE2mzCDDi4t"
      },
      "outputs": [],
      "source": [
        "def lgb_model(x_train, y_train, x_test):\n",
        "    lgb_train, lgb_test = cv_model(lgb, x_train, y_train, x_test, \"lgb\")\n",
        "    return lgb_train, lgb_test\n",
        "\n",
        "def xgb_model(x_train, y_train, x_test):\n",
        "    xgb_train, xgb_test = cv_model(xgb, x_train, y_train, x_test, \"xgb\")\n",
        "    return xgb_train, xgb_test\n",
        "\n",
        "def cat_model(x_train, y_train, x_test):\n",
        "    cat_train, cat_test = cv_model(CatBoostRegressor, x_train, y_train, x_test, \"cat\") \n",
        "    return cat_train, cat_test"
      ]
    },
    {
      "cell_type": "code",
      "execution_count": 85,
      "metadata": {
        "colab": {
          "base_uri": "https://localhost:8080/"
        },
        "id": "H7Gbtp1iDobW",
        "outputId": "02a877c0-7ac4-4bb3-ea21-1b1b0912ee13"
      },
      "outputs": [
        {
          "output_type": "stream",
          "name": "stdout",
          "text": [
            "************************************ 1 ************************************\n",
            "Training until validation scores don't improve for 500 rounds.\n",
            "[2000]\ttraining's auc: 0.998349\tvalid_1's auc: 0.968523\n",
            "Early stopping, best iteration is:\n",
            "[3101]\ttraining's auc: 0.999404\tvalid_1's auc: 0.969419\n",
            "[('act_max', 47614.20706118643), ('launch_max', 23098.36343408376), ('device_type', 22275.404711410403), ('action_0_count', 13059.41190624237), ('launch_ratio', 11758.740526929498), ('page_0_ratio', 6876.477000683546), ('act_count', 6614.204718142748), ('action_0_ratio', 6245.18352894485), ('page_0_count', 6036.210888579488), ('page_3_ratio', 6011.368439659476), ('action_1_ratio', 4900.528861135244), ('act_kurt', 4775.206439748406), ('page_3_count', 4754.852095246315), ('page_2_ratio', 4661.729741305113), ('act_skew', 4529.7787372767925), ('register_type', 4386.768460959196), ('page_1_ratio', 4239.829671002924), ('act_var', 4144.204306975007), ('launch_mean', 4008.0861397236586), ('action_2_ratio', 3933.423551633954)]\n",
            "[0.9694186002493456]\n",
            "************************************ 2 ************************************\n",
            "Training until validation scores don't improve for 500 rounds.\n",
            "[2000]\ttraining's auc: 0.998273\tvalid_1's auc: 0.970102\n",
            "Early stopping, best iteration is:\n",
            "[3488]\ttraining's auc: 0.999494\tvalid_1's auc: 0.971259\n",
            "[('launch_max', 46514.206611685455), ('act_max', 25464.625333711505), ('device_type', 23592.113557949662), ('action_0_count', 13994.082420796156), ('launch_ratio', 8585.222388416529), ('act_count', 7200.101540245116), ('page_0_ratio', 7083.582658812404), ('action_0_ratio', 6349.317914098501), ('page_3_ratio', 6169.622186817229), ('page_0_count', 5934.525255687535), ('act_var', 5369.787904441357), ('action_1_ratio', 5297.499212279916), ('act_kurt', 4997.046321421862), ('register_type', 4721.744056940079), ('page_3_count', 4654.870356187224), ('launch_mean', 4615.227122493088), ('act_skew', 4479.968538887799), ('page_2_ratio', 4443.452639207244), ('page_1_ratio', 4218.624125592411), ('act_mean', 4095.435817182064)]\n",
            "[0.9694186002493456, 0.9712587969677333]\n",
            "************************************ 3 ************************************\n",
            "Training until validation scores don't improve for 500 rounds.\n",
            "[2000]\ttraining's auc: 0.998336\tvalid_1's auc: 0.967914\n",
            "Early stopping, best iteration is:\n",
            "[2692]\ttraining's auc: 0.999183\tvalid_1's auc: 0.969067\n",
            "[('launch_max', 45740.009675860405), ('act_max', 25227.68787151575), ('device_type', 20558.17625258863), ('action_0_count', 11879.202300444245), ('launch_ratio', 8904.320854231715), ('act_count', 8032.488893002272), ('page_0_ratio', 6589.407720327377), ('page_0_count', 6031.596278116107), ('action_0_ratio', 6008.320117980242), ('page_3_ratio', 6004.698342874646), ('act_var', 5431.7701371610165), ('page_3_count', 4610.064051404595), ('action_1_ratio', 4562.18405598402), ('act_kurt', 4436.253446266055), ('page_1_ratio', 4391.488131821156), ('act_skew', 4345.622886046767), ('page_2_ratio', 4281.437601983547), ('register_type', 4200.535858601332), ('launch_mean', 3995.6796216368675), ('action_2_ratio', 3952.708740517497)]\n",
            "[0.9694186002493456, 0.9712587969677333, 0.969066801344234]\n",
            "************************************ 4 ************************************\n",
            "Training until validation scores don't improve for 500 rounds.\n",
            "[2000]\ttraining's auc: 0.99838\tvalid_1's auc: 0.967066\n",
            "Early stopping, best iteration is:\n",
            "[2883]\ttraining's auc: 0.999294\tvalid_1's auc: 0.967917\n",
            "[('launch_max', 46347.21285672486), ('act_max', 25733.678498759866), ('device_type', 21221.289537146688), ('action_0_count', 11911.785296201706), ('act_count', 7943.014717847109), ('page_0_ratio', 6911.305879727006), ('launch_ratio', 6871.4728064239025), ('page_3_ratio', 6179.2865856438875), ('page_0_count', 6167.196240186691), ('action_0_ratio', 5894.5157388448715), ('act_var', 5047.394980072975), ('act_kurt', 4837.089473083615), ('page_2_ratio', 4747.914392367005), ('page_3_count', 4688.735115453601), ('action_1_ratio', 4649.6802447885275), ('act_skew', 4600.014348655939), ('register_type', 4475.00147934258), ('page_1_ratio', 4206.720791712403), ('action_2_ratio', 3976.9370135217905), ('launch_mean', 3907.480726584792)]\n",
            "[0.9694186002493456, 0.9712587969677333, 0.969066801344234, 0.9679172504130532]\n",
            "************************************ 5 ************************************\n",
            "Training until validation scores don't improve for 500 rounds.\n",
            "[2000]\ttraining's auc: 0.99824\tvalid_1's auc: 0.968693\n",
            "Early stopping, best iteration is:\n",
            "[3134]\ttraining's auc: 0.999368\tvalid_1's auc: 0.969672\n",
            "[('act_max', 43634.55175948143), ('launch_max', 26841.581910848618), ('device_type', 21580.162265449762), ('act_count', 10872.081349402666), ('launch_ratio', 10757.13852019608), ('action_0_count', 10055.883205577731), ('page_0_ratio', 6934.135370492935), ('page_3_ratio', 6324.050376459956), ('action_0_ratio', 6165.225651934743), ('page_0_count', 6135.798458382487), ('act_kurt', 5011.892761364579), ('action_1_ratio', 4940.109674036503), ('register_type', 4677.768175080419), ('page_2_ratio', 4525.901177063584), ('page_3_count', 4498.991721332073), ('act_var', 4319.841090708971), ('launch_mean', 4290.1545317173), ('page_1_ratio', 4247.8420481309295), ('actmean_red_register', 4244.403073936701), ('act_skew', 4131.859512217343)]\n",
            "[0.9694186002493456, 0.9712587969677333, 0.969066801344234, 0.9679172504130532, 0.9696722204408142]\n",
            "lgb_scotrainre_list: [0.9694186002493456, 0.9712587969677333, 0.969066801344234, 0.9679172504130532, 0.9696722204408142]\n",
            "lgb_score_mean: 0.9694667338830361\n",
            "lgb_score_std: 0.001078598788335795\n"
          ]
        }
      ],
      "source": [
        "lgb_train, lgb_test = lgb_model(train_x, train_y, test_x)"
      ]
    },
    {
      "cell_type": "code",
      "execution_count": null,
      "metadata": {
        "colab": {
          "base_uri": "https://localhost:8080/"
        },
        "id": "SmY6v__mDozq",
        "outputId": "d8fd29c2-53c8-4e78-d31c-4814aba51ae4"
      },
      "outputs": [
        {
          "output_type": "stream",
          "name": "stdout",
          "text": [
            "************************************ 1 ************************************\n",
            "[0]\ttrain-auc:0.879988\teval-auc:0.877453\n",
            "Multiple eval metrics have been passed: 'eval-auc' will be used for early stopping.\n",
            "\n",
            "Will train until eval-auc hasn't improved in 200 rounds.\n",
            "[2000]\ttrain-auc:0.993511\teval-auc:0.960941\n",
            "[4000]\ttrain-auc:0.99711\teval-auc:0.963983\n",
            "Stopping. Best iteration:\n",
            "[4406]\ttrain-auc:0.997381\teval-auc:0.96442\n",
            "\n",
            "[0.9644195590140217]\n",
            "************************************ 2 ************************************\n",
            "[0]\ttrain-auc:0.879584\teval-auc:0.877219\n",
            "Multiple eval metrics have been passed: 'eval-auc' will be used for early stopping.\n",
            "\n",
            "Will train until eval-auc hasn't improved in 200 rounds.\n",
            "[2000]\ttrain-auc:0.993278\teval-auc:0.961632\n",
            "[4000]\ttrain-auc:0.997021\teval-auc:0.965122\n",
            "Stopping. Best iteration:\n",
            "[4654]\ttrain-auc:0.997423\teval-auc:0.965801\n",
            "\n",
            "[0.9644195590140217, 0.9658009385076722]\n",
            "************************************ 3 ************************************\n",
            "[0]\ttrain-auc:0.878703\teval-auc:0.882399\n",
            "Multiple eval metrics have been passed: 'eval-auc' will be used for early stopping.\n",
            "\n",
            "Will train until eval-auc hasn't improved in 200 rounds.\n",
            "[2000]\ttrain-auc:0.993649\teval-auc:0.960908\n",
            "[4000]\ttrain-auc:0.997176\teval-auc:0.96404\n",
            "Stopping. Best iteration:\n",
            "[3939]\ttrain-auc:0.997118\teval-auc:0.964152\n",
            "\n",
            "[0.9644195590140217, 0.9658009385076722, 0.9641520959733006]\n",
            "************************************ 4 ************************************\n",
            "[0]\ttrain-auc:0.879568\teval-auc:0.875982\n",
            "Multiple eval metrics have been passed: 'eval-auc' will be used for early stopping.\n",
            "\n",
            "Will train until eval-auc hasn't improved in 200 rounds.\n",
            "[2000]\ttrain-auc:0.993598\teval-auc:0.95981\n",
            "Stopping. Best iteration:\n",
            "[3153]\ttrain-auc:0.996353\teval-auc:0.962622\n",
            "\n",
            "[0.9644195590140217, 0.9658009385076722, 0.9641520959733006, 0.9626219458339915]\n",
            "************************************ 5 ************************************\n",
            "[0]\ttrain-auc:0.878887\teval-auc:0.879846\n",
            "Multiple eval metrics have been passed: 'eval-auc' will be used for early stopping.\n",
            "\n",
            "Will train until eval-auc hasn't improved in 200 rounds.\n"
          ]
        }
      ],
      "source": [
        "xgb_train, xgb_test = xgb_model(train_x, train_y, test_x)"
      ]
    },
    {
      "cell_type": "code",
      "execution_count": null,
      "metadata": {
        "id": "hHaaH7MJDrMQ"
      },
      "outputs": [],
      "source": [
        "cat_train, cat_test = cat_model(train_x, train_y, test_x)"
      ]
    },
    {
      "cell_type": "markdown",
      "metadata": {
        "id": "k2r7tnREDtY4"
      },
      "source": [
        "## 模型融合"
      ]
    },
    {
      "cell_type": "code",
      "execution_count": null,
      "metadata": {
        "id": "TlEv63PjDwBf"
      },
      "outputs": [],
      "source": [
        "def stack_model(oof_1, oof_2, oof_3, predictions_1, predictions_2, predictions_3, y):\n",
        "   \n",
        "    train_stack = np.vstack([oof_1, oof_2, oof_3]).transpose()\n",
        "    test_stack = np.vstack([predictions_1, predictions_2, predictions_3]).transpose()\n",
        "    \n",
        "    from sklearn.linear_model import BayesianRidge\n",
        "    from sklearn.model_selection import RepeatedKFold\n",
        "    folds = RepeatedKFold(n_splits=5, n_repeats=2, random_state=2022)\n",
        "    \n",
        "    oof = np.zeros(train_stack.shape[0])\n",
        "    predictions = np.zeros(test_stack.shape[0])\n",
        "    \n",
        "    for fold_, (trn_idx, val_idx) in enumerate(folds.split(train_stack, y)):\n",
        "        print(\"fold n°{}\".format(fold_+1))\n",
        "        trn_data, trn_y = train_stack[trn_idx], y[trn_idx]\n",
        "        val_data, val_y = train_stack[val_idx], y[val_idx]\n",
        "        print(\"-\" * 10 + \"Stacking \" + str(fold_) + \"-\" * 10)\n",
        "        clf = BayesianRidge()\n",
        "        clf.fit(trn_data, trn_y)\n",
        "\n",
        "        oof[val_idx] = clf.predict(val_data)\n",
        "        predictions += clf.predict(test_stack) / (5 * 2)\n",
        "    print('mean: ',roc_auc_score(y, oof))\n",
        "    \n",
        "    return oof, predictions\n",
        "\n",
        "stack_train, stack_test = stack_model(lgb_train, xgb_train, cat_train, lgb_test, xgb_test, cat_test, train_y)"
      ]
    },
    {
      "cell_type": "code",
      "execution_count": null,
      "metadata": {
        "id": "8sLaLF7fDy-J"
      },
      "outputs": [],
      "source": []
    }
  ],
  "metadata": {
    "colab": {
      "provenance": []
    },
    "kernelspec": {
      "display_name": "Python 3",
      "language": "python",
      "name": "python3"
    },
    "language_info": {
      "codemirror_mode": {
        "name": "ipython",
        "version": 3
      },
      "file_extension": ".py",
      "mimetype": "text/x-python",
      "name": "python",
      "nbconvert_exporter": "python",
      "pygments_lexer": "ipython3",
      "version": "3.8.8"
    }
  },
  "nbformat": 4,
  "nbformat_minor": 0
}