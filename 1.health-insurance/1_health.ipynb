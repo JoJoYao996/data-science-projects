{
  "nbformat": 4,
  "nbformat_minor": 0,
  "metadata": {
    "colab": {
      "name": "1.health.ipynb",
      "provenance": [],
      "collapsed_sections": []
    },
    "kernelspec": {
      "name": "python3",
      "display_name": "Python 3"
    },
    "language_info": {
      "name": "python"
    }
  },
  "cells": [
    {
      "cell_type": "code",
      "execution_count": 1,
      "metadata": {
        "id": "EjIeBG5XFtwZ"
      },
      "outputs": [],
      "source": [
        "! pip install -q kaggle"
      ]
    },
    {
      "cell_type": "code",
      "source": [
        "import json\n",
        "token = {\"username\":\"crownsss\",\"key\":\"1a9398b0f5266dda733f318786e96b8d\"}\n",
        "with open('/content/kaggle.json', 'w') as file:\n",
        "  json.dump(token, file)"
      ],
      "metadata": {
        "id": "Ui1XgXEMNiQd"
      },
      "execution_count": 2,
      "outputs": []
    },
    {
      "cell_type": "markdown",
      "source": [
        "# 首先下载kaggle数据集，大家可以搜一下具体的下载方式，这里我直接使用colab下载了"
      ],
      "metadata": {
        "id": "l5J7Uht4OYH7"
      }
    },
    {
      "cell_type": "code",
      "source": [
        "!mkdir -p ~/.kaggle\n",
        "!cp /content/kaggle.json ~/.kaggle/\n",
        "!chmod 600 ~/.kaggle/kaggle.json"
      ],
      "metadata": {
        "id": "ne8qFrBeJaaS"
      },
      "execution_count": 3,
      "outputs": []
    },
    {
      "cell_type": "code",
      "source": [
        "! kaggle datasets download -d mirichoi0218/insurance #(数据下载API)\n",
        "! unzip insurance.zip -d health-insurance"
      ],
      "metadata": {
        "colab": {
          "base_uri": "https://localhost:8080/"
        },
        "id": "SVByDQJ-JcWI",
        "outputId": "6fcf69b3-5e14-41ba-ced3-3f9483c0f1ad"
      },
      "execution_count": 4,
      "outputs": [
        {
          "output_type": "stream",
          "name": "stdout",
          "text": [
            "Downloading insurance.zip to /content\n",
            "\r  0% 0.00/16.0k [00:00<?, ?B/s]\n",
            "\r100% 16.0k/16.0k [00:00<00:00, 9.37MB/s]\n",
            "Archive:  insurance.zip\n",
            "  inflating: health-insurance/insurance.csv  \n"
          ]
        }
      ]
    },
    {
      "cell_type": "code",
      "source": [
        "import matplotlib.pyplot as plt\n",
        "import matplotlib as mpl\n",
        "import seaborn as sns\n",
        "!wget -O /usr/share/fonts/truetype/liberation/simhei.ttf \"https://www.wfonts.com/download/data/2014/06/01/simhei/chinese.simhei.ttf\"\n",
        "zhfont = mpl.font_manager.FontProperties(fname='/usr/share/fonts/truetype/liberation/simhei.ttf')\n",
        "plt.rcParams['font.sans-serif']=['SimHei']\n",
        "plt.rcParams['axes.unicode_minus'] = False\n",
        "sns.set(font=zhfont.get_name())\n",
        "plt.xticks(fontproperties=zhfont)"
      ],
      "metadata": {
        "id": "ARfY9rGYPP_-",
        "colab": {
          "base_uri": "https://localhost:8080/",
          "height": 513
        },
        "outputId": "0023e8dc-77c4-45ba-dff1-b2a29b10a796"
      },
      "execution_count": 5,
      "outputs": [
        {
          "output_type": "stream",
          "name": "stdout",
          "text": [
            "--2022-08-17 07:11:36--  https://www.wfonts.com/download/data/2014/06/01/simhei/chinese.simhei.ttf\n",
            "Resolving www.wfonts.com (www.wfonts.com)... 104.225.219.210\n",
            "Connecting to www.wfonts.com (www.wfonts.com)|104.225.219.210|:443... connected.\n",
            "HTTP request sent, awaiting response... 200 OK\n",
            "Length: 10050870 (9.6M) [application/octetstream]\n",
            "Saving to: ‘/usr/share/fonts/truetype/liberation/simhei.ttf’\n",
            "\n",
            "/usr/share/fonts/tr 100%[===================>]   9.58M  43.4MB/s    in 0.2s    \n",
            "\n",
            "2022-08-17 07:11:37 (43.4 MB/s) - ‘/usr/share/fonts/truetype/liberation/simhei.ttf’ saved [10050870/10050870]\n",
            "\n"
          ]
        },
        {
          "output_type": "execute_result",
          "data": {
            "text/plain": [
              "(array([0. , 0.2, 0.4, 0.6, 0.8, 1. ]),\n",
              " <a list of 6 Text major ticklabel objects>)"
            ]
          },
          "metadata": {},
          "execution_count": 5
        },
        {
          "output_type": "stream",
          "name": "stderr",
          "text": [
            "WARNING:matplotlib.font_manager:findfont: Font family ['SimHei'] not found. Falling back to DejaVu Sans.\n"
          ]
        },
        {
          "output_type": "display_data",
          "data": {
            "text/plain": [
              "<Figure size 432x288 with 1 Axes>"
            ],
            "image/png": "[encoded data removed]"
          },
          "metadata": {}
        }
      ]
    },
    {
      "cell_type": "markdown",
      "source": [
        "# 导入数据集"
      ],
      "metadata": {
        "id": "FmmLvMjcJio4"
      }
    },
    {
      "cell_type": "code",
      "source": [
        "# 导入基本库\n",
        "import pandas as pd\n",
        "import matplotlib.pyplot as plt\n",
        "import seaborn as sns\n",
        "from matplotlib.cbook import boxplot_stats  \n",
        "import statsmodels.api as sm\n",
        "from sklearn.model_selection import train_test_split,GridSearchCV, cross_val_score, cross_val_predict\n",
        "from statsmodels.stats.outliers_influence import variance_inflation_factor \n",
        "from sklearn.tree import DecisionTreeRegressor\n",
        "from sklearn import ensemble\n",
        "import numpy as np\n",
        "import pickle\n",
        "\n",
        "import matplotlib.pyplot as plt \n",
        " \n",
        "plt.rcParams['font.sans-serif']=['SimHei'] #用来正常显示中文标签\n",
        "plt.rcParams['axes.unicode_minus']=False #用来正常显示负号 #有中文出现的情况，需要u'内容'\n",
        "      \n",
        "sns.set_style({'font.sans-serif':['SimHei','Arial']})\n",
        "\n",
        "# 读取数据，并总览一下数据情况。\n",
        "health_ins_df = pd.read_csv(\"health-insurance/insurance.csv\")\n",
        "health_ins_df.head()"
      ],
      "metadata": {
        "colab": {
          "base_uri": "https://localhost:8080/",
          "height": 261
        },
        "id": "WPMJDRiQPoz8",
        "outputId": "50e84610-1a74-4db6-9369-2484572abd76"
      },
      "execution_count": 6,
      "outputs": [
        {
          "output_type": "stream",
          "name": "stderr",
          "text": [
            "/usr/local/lib/python3.7/dist-packages/statsmodels/tools/_testing.py:19: FutureWarning: pandas.util.testing is deprecated. Use the functions in the public API at pandas.testing instead.\n",
            "  import pandas.util.testing as tm\n"
          ]
        },
        {
          "output_type": "execute_result",
          "data": {
            "text/plain": [
              "   age     sex     bmi  children smoker     region      charges\n",
              "0   19  female  27.900         0    yes  southwest  16884.92400\n",
              "1   18    male  33.770         1     no  southeast   1725.55230\n",
              "2   28    male  33.000         3     no  southeast   4449.46200\n",
              "3   33    male  22.705         0     no  northwest  21984.47061\n",
              "4   32    male  28.880         0     no  northwest   3866.85520"
            ],
            "text/html": [
              "\n",
              "  <div id=\"df-0292e187-49fd-47d4-8e1b-869ea6bff441\">\n",
              "    <div class=\"colab-df-container\">\n",
              "      <div>\n",
              "<style scoped>\n",
              "    .dataframe tbody tr th:only-of-type {\n",
              "        vertical-align: middle;\n",
              "    }\n",
              "\n",
              "    .dataframe tbody tr th {\n",
              "        vertical-align: top;\n",
              "    }\n",
              "\n",
              "    .dataframe thead th {\n",
              "        text-align: right;\n",
              "    }\n",
              "</style>\n",
              "<table border=\"1\" class=\"dataframe\">\n",
              "  <thead>\n",
              "    <tr style=\"text-align: right;\">\n",
              "      <th></th>\n",
              "      <th>age</th>\n",
              "      <th>sex</th>\n",
              "      <th>bmi</th>\n",
              "      <th>children</th>\n",
              "      <th>smoker</th>\n",
              "      <th>region</th>\n",
              "      <th>charges</th>\n",
              "    </tr>\n",
              "  </thead>\n",
              "  <tbody>\n",
              "    <tr>\n",
              "      <th>0</th>\n",
              "      <td>19</td>\n",
              "      <td>female</td>\n",
              "      <td>27.900</td>\n",
              "      <td>0</td>\n",
              "      <td>yes</td>\n",
              "      <td>southwest</td>\n",
              "      <td>16884.92400</td>\n",
              "    </tr>\n",
              "    <tr>\n",
              "      <th>1</th>\n",
              "      <td>18</td>\n",
              "      <td>male</td>\n",
              "      <td>33.770</td>\n",
              "      <td>1</td>\n",
              "      <td>no</td>\n",
              "      <td>southeast</td>\n",
              "      <td>1725.55230</td>\n",
              "    </tr>\n",
              "    <tr>\n",
              "      <th>2</th>\n",
              "      <td>28</td>\n",
              "      <td>male</td>\n",
              "      <td>33.000</td>\n",
              "      <td>3</td>\n",
              "      <td>no</td>\n",
              "      <td>southeast</td>\n",
              "      <td>4449.46200</td>\n",
              "    </tr>\n",
              "    <tr>\n",
              "      <th>3</th>\n",
              "      <td>33</td>\n",
              "      <td>male</td>\n",
              "      <td>22.705</td>\n",
              "      <td>0</td>\n",
              "      <td>no</td>\n",
              "      <td>northwest</td>\n",
              "      <td>21984.47061</td>\n",
              "    </tr>\n",
              "    <tr>\n",
              "      <th>4</th>\n",
              "      <td>32</td>\n",
              "      <td>male</td>\n",
              "      <td>28.880</td>\n",
              "      <td>0</td>\n",
              "      <td>no</td>\n",
              "      <td>northwest</td>\n",
              "      <td>3866.85520</td>\n",
              "    </tr>\n",
              "  </tbody>\n",
              "</table>\n",
              "</div>\n",
              "      <button class=\"colab-df-convert\" onclick=\"convertToInteractive('df-0292e187-49fd-47d4-8e1b-869ea6bff441')\"\n",
              "              title=\"Convert this dataframe to an interactive table.\"\n",
              "              style=\"display:none;\">\n",
              "        \n",
              "  <svg xmlns=\"http://www.w3.org/2000/svg\" height=\"24px\"viewBox=\"0 0 24 24\"\n",
              "       width=\"24px\">\n",
              "    <path d=\"M0 0h24v24H0V0z\" fill=\"none\"/>\n",
              "    <path d=\"M18.56 5.44l.94 2.06.94-2.06 2.06-.94-2.06-.94-.94-2.06-.94 2.06-2.06.94zm-11 1L8.5 8.5l.94-2.06 2.06-.94-2.06-.94L8.5 2.5l-.94 2.06-2.06.94zm10 10l.94 2.06.94-2.06 2.06-.94-2.06-.94-.94-2.06-.94 2.06-2.06.94z\"/><path d=\"M17.41 7.96l-1.37-1.37c-.4-.4-.92-.59-1.43-.59-.52 0-1.04.2-1.43.59L10.3 9.45l-7.72 7.72c-.78.78-.78 2.05 0 2.83L4 21.41c.39.39.9.59 1.41.59.51 0 1.02-.2 1.41-.59l7.78-7.78 2.81-2.81c.8-.78.8-2.07 0-2.86zM5.41 20L4 18.59l7.72-7.72 1.47 1.35L5.41 20z\"/>\n",
              "  </svg>\n",
              "      </button>\n",
              "      \n",
              "  <style>\n",
              "    .colab-df-container {\n",
              "      display:flex;\n",
              "      flex-wrap:wrap;\n",
              "      gap: 12px;\n",
              "    }\n",
              "\n",
              "    .colab-df-convert {\n",
              "      background-color: #E8F0FE;\n",
              "      border: none;\n",
              "      border-radius: 50%;\n",
              "      cursor: pointer;\n",
              "      display: none;\n",
              "      fill: #1967D2;\n",
              "      height: 32px;\n",
              "      padding: 0 0 0 0;\n",
              "      width: 32px;\n",
              "    }\n",
              "\n",
              "    .colab-df-convert:hover {\n",
              "      background-color: #E2EBFA;\n",
              "      box-shadow: 0px 1px 2px rgba(60, 64, 67, 0.3), 0px 1px 3px 1px rgba(60, 64, 67, 0.15);\n",
              "      fill: #174EA6;\n",
              "    }\n",
              "\n",
              "    [theme=dark] .colab-df-convert {\n",
              "      background-color: #3B4455;\n",
              "      fill: #D2E3FC;\n",
              "    }\n",
              "\n",
              "    [theme=dark] .colab-df-convert:hover {\n",
              "      background-color: #434B5C;\n",
              "      box-shadow: 0px 1px 3px 1px rgba(0, 0, 0, 0.15);\n",
              "      filter: drop-shadow(0px 1px 2px rgba(0, 0, 0, 0.3));\n",
              "      fill: #FFFFFF;\n",
              "    }\n",
              "  </style>\n",
              "\n",
              "      <script>\n",
              "        const buttonEl =\n",
              "          document.querySelector('#df-0292e187-49fd-47d4-8e1b-869ea6bff441 button.colab-df-convert');\n",
              "        buttonEl.style.display =\n",
              "          google.colab.kernel.accessAllowed ? 'block' : 'none';\n",
              "\n",
              "        async function convertToInteractive(key) {\n",
              "          const element = document.querySelector('#df-0292e187-49fd-47d4-8e1b-869ea6bff441');\n",
              "          const dataTable =\n",
              "            await google.colab.kernel.invokeFunction('convertToInteractive',\n",
              "                                                     [key], {});\n",
              "          if (!dataTable) return;\n",
              "\n",
              "          const docLinkHtml = 'Like what you see? Visit the ' +\n",
              "            '<a target=\"_blank\" href=https://colab.research.google.com/notebooks/data_table.ipynb>data table notebook</a>'\n",
              "            + ' to learn more about interactive tables.';\n",
              "          element.innerHTML = '';\n",
              "          dataTable['output_type'] = 'display_data';\n",
              "          await google.colab.output.renderOutput(dataTable, element);\n",
              "          const docLink = document.createElement('div');\n",
              "          docLink.innerHTML = docLinkHtml;\n",
              "          element.appendChild(docLink);\n",
              "        }\n",
              "      </script>\n",
              "    </div>\n",
              "  </div>\n",
              "  "
            ]
          },
          "metadata": {},
          "execution_count": 6
        }
      ]
    },
    {
      "cell_type": "code",
      "source": [
        "# 查看列\n",
        "health_ins_df.columns"
      ],
      "metadata": {
        "colab": {
          "base_uri": "https://localhost:8080/"
        },
        "id": "vhKCmivKQRV3",
        "outputId": "29343355-3129-49d6-b682-12336988d2bf"
      },
      "execution_count": 7,
      "outputs": [
        {
          "output_type": "execute_result",
          "data": {
            "text/plain": [
              "Index(['age', 'sex', 'bmi', 'children', 'smoker', 'region', 'charges'], dtype='object')"
            ]
          },
          "metadata": {},
          "execution_count": 7
        }
      ]
    },
    {
      "cell_type": "code",
      "source": [
        "# 查看维度\n",
        "health_ins_df.shape"
      ],
      "metadata": {
        "colab": {
          "base_uri": "https://localhost:8080/"
        },
        "id": "rkap11j_Q35W",
        "outputId": "42900c9f-ddf7-4f2d-fdac-5faa2987827c"
      },
      "execution_count": 8,
      "outputs": [
        {
          "output_type": "execute_result",
          "data": {
            "text/plain": [
              "(1338, 7)"
            ]
          },
          "metadata": {},
          "execution_count": 8
        }
      ]
    },
    {
      "cell_type": "code",
      "source": [
        "# 查看基本信息\n",
        "health_ins_df.info()"
      ],
      "metadata": {
        "colab": {
          "base_uri": "https://localhost:8080/"
        },
        "id": "2ufvWEltQ8nO",
        "outputId": "cf590834-01b7-4e05-aca1-1992756821f4"
      },
      "execution_count": 9,
      "outputs": [
        {
          "output_type": "stream",
          "name": "stdout",
          "text": [
            "<class 'pandas.core.frame.DataFrame'>\n",
            "RangeIndex: 1338 entries, 0 to 1337\n",
            "Data columns (total 7 columns):\n",
            " #   Column    Non-Null Count  Dtype  \n",
            "---  ------    --------------  -----  \n",
            " 0   age       1338 non-null   int64  \n",
            " 1   sex       1338 non-null   object \n",
            " 2   bmi       1338 non-null   float64\n",
            " 3   children  1338 non-null   int64  \n",
            " 4   smoker    1338 non-null   object \n",
            " 5   region    1338 non-null   object \n",
            " 6   charges   1338 non-null   float64\n",
            "dtypes: float64(2), int64(2), object(3)\n",
            "memory usage: 73.3+ KB\n"
          ]
        }
      ]
    },
    {
      "cell_type": "code",
      "source": [
        "# 描述性统计\n",
        "health_ins_df.describe()"
      ],
      "metadata": {
        "colab": {
          "base_uri": "https://localhost:8080/",
          "height": 300
        },
        "id": "QfOwPiMpRCT7",
        "outputId": "32cb780e-1261-498c-b7ca-bce79beb30dc"
      },
      "execution_count": 10,
      "outputs": [
        {
          "output_type": "execute_result",
          "data": {
            "text/plain": [
              "               age          bmi     children       charges\n",
              "count  1338.000000  1338.000000  1338.000000   1338.000000\n",
              "mean     39.207025    30.663397     1.094918  13270.422265\n",
              "std      14.049960     6.098187     1.205493  12110.011237\n",
              "min      18.000000    15.960000     0.000000   1121.873900\n",
              "25%      27.000000    26.296250     0.000000   4740.287150\n",
              "50%      39.000000    30.400000     1.000000   9382.033000\n",
              "75%      51.000000    34.693750     2.000000  16639.912515\n",
              "max      64.000000    53.130000     5.000000  63770.428010"
            ],
            "text/html": [
              "\n",
              "  <div id=\"df-346bb86b-445d-4f97-b530-764946e5a0a9\">\n",
              "    <div class=\"colab-df-container\">\n",
              "      <div>\n",
              "<style scoped>\n",
              "    .dataframe tbody tr th:only-of-type {\n",
              "        vertical-align: middle;\n",
              "    }\n",
              "\n",
              "    .dataframe tbody tr th {\n",
              "        vertical-align: top;\n",
              "    }\n",
              "\n",
              "    .dataframe thead th {\n",
              "        text-align: right;\n",
              "    }\n",
              "</style>\n",
              "<table border=\"1\" class=\"dataframe\">\n",
              "  <thead>\n",
              "    <tr style=\"text-align: right;\">\n",
              "      <th></th>\n",
              "      <th>age</th>\n",
              "      <th>bmi</th>\n",
              "      <th>children</th>\n",
              "      <th>charges</th>\n",
              "    </tr>\n",
              "  </thead>\n",
              "  <tbody>\n",
              "    <tr>\n",
              "      <th>count</th>\n",
              "      <td>1338.000000</td>\n",
              "      <td>1338.000000</td>\n",
              "      <td>1338.000000</td>\n",
              "      <td>1338.000000</td>\n",
              "    </tr>\n",
              "    <tr>\n",
              "      <th>mean</th>\n",
              "      <td>39.207025</td>\n",
              "      <td>30.663397</td>\n",
              "      <td>1.094918</td>\n",
              "      <td>13270.422265</td>\n",
              "    </tr>\n",
              "    <tr>\n",
              "      <th>std</th>\n",
              "      <td>14.049960</td>\n",
              "      <td>6.098187</td>\n",
              "      <td>1.205493</td>\n",
              "      <td>12110.011237</td>\n",
              "    </tr>\n",
              "    <tr>\n",
              "      <th>min</th>\n",
              "      <td>18.000000</td>\n",
              "      <td>15.960000</td>\n",
              "      <td>0.000000</td>\n",
              "      <td>1121.873900</td>\n",
              "    </tr>\n",
              "    <tr>\n",
              "      <th>25%</th>\n",
              "      <td>27.000000</td>\n",
              "      <td>26.296250</td>\n",
              "      <td>0.000000</td>\n",
              "      <td>4740.287150</td>\n",
              "    </tr>\n",
              "    <tr>\n",
              "      <th>50%</th>\n",
              "      <td>39.000000</td>\n",
              "      <td>30.400000</td>\n",
              "      <td>1.000000</td>\n",
              "      <td>9382.033000</td>\n",
              "    </tr>\n",
              "    <tr>\n",
              "      <th>75%</th>\n",
              "      <td>51.000000</td>\n",
              "      <td>34.693750</td>\n",
              "      <td>2.000000</td>\n",
              "      <td>16639.912515</td>\n",
              "    </tr>\n",
              "    <tr>\n",
              "      <th>max</th>\n",
              "      <td>64.000000</td>\n",
              "      <td>53.130000</td>\n",
              "      <td>5.000000</td>\n",
              "      <td>63770.428010</td>\n",
              "    </tr>\n",
              "  </tbody>\n",
              "</table>\n",
              "</div>\n",
              "      <button class=\"colab-df-convert\" onclick=\"convertToInteractive('df-346bb86b-445d-4f97-b530-764946e5a0a9')\"\n",
              "              title=\"Convert this dataframe to an interactive table.\"\n",
              "              style=\"display:none;\">\n",
              "        \n",
              "  <svg xmlns=\"http://www.w3.org/2000/svg\" height=\"24px\"viewBox=\"0 0 24 24\"\n",
              "       width=\"24px\">\n",
              "    <path d=\"M0 0h24v24H0V0z\" fill=\"none\"/>\n",
              "    <path d=\"M18.56 5.44l.94 2.06.94-2.06 2.06-.94-2.06-.94-.94-2.06-.94 2.06-2.06.94zm-11 1L8.5 8.5l.94-2.06 2.06-.94-2.06-.94L8.5 2.5l-.94 2.06-2.06.94zm10 10l.94 2.06.94-2.06 2.06-.94-2.06-.94-.94-2.06-.94 2.06-2.06.94z\"/><path d=\"M17.41 7.96l-1.37-1.37c-.4-.4-.92-.59-1.43-.59-.52 0-1.04.2-1.43.59L10.3 9.45l-7.72 7.72c-.78.78-.78 2.05 0 2.83L4 21.41c.39.39.9.59 1.41.59.51 0 1.02-.2 1.41-.59l7.78-7.78 2.81-2.81c.8-.78.8-2.07 0-2.86zM5.41 20L4 18.59l7.72-7.72 1.47 1.35L5.41 20z\"/>\n",
              "  </svg>\n",
              "      </button>\n",
              "      \n",
              "  <style>\n",
              "    .colab-df-container {\n",
              "      display:flex;\n",
              "      flex-wrap:wrap;\n",
              "      gap: 12px;\n",
              "    }\n",
              "\n",
              "    .colab-df-convert {\n",
              "      background-color: #E8F0FE;\n",
              "      border: none;\n",
              "      border-radius: 50%;\n",
              "      cursor: pointer;\n",
              "      display: none;\n",
              "      fill: #1967D2;\n",
              "      height: 32px;\n",
              "      padding: 0 0 0 0;\n",
              "      width: 32px;\n",
              "    }\n",
              "\n",
              "    .colab-df-convert:hover {\n",
              "      background-color: #E2EBFA;\n",
              "      box-shadow: 0px 1px 2px rgba(60, 64, 67, 0.3), 0px 1px 3px 1px rgba(60, 64, 67, 0.15);\n",
              "      fill: #174EA6;\n",
              "    }\n",
              "\n",
              "    [theme=dark] .colab-df-convert {\n",
              "      background-color: #3B4455;\n",
              "      fill: #D2E3FC;\n",
              "    }\n",
              "\n",
              "    [theme=dark] .colab-df-convert:hover {\n",
              "      background-color: #434B5C;\n",
              "      box-shadow: 0px 1px 3px 1px rgba(0, 0, 0, 0.15);\n",
              "      filter: drop-shadow(0px 1px 2px rgba(0, 0, 0, 0.3));\n",
              "      fill: #FFFFFF;\n",
              "    }\n",
              "  </style>\n",
              "\n",
              "      <script>\n",
              "        const buttonEl =\n",
              "          document.querySelector('#df-346bb86b-445d-4f97-b530-764946e5a0a9 button.colab-df-convert');\n",
              "        buttonEl.style.display =\n",
              "          google.colab.kernel.accessAllowed ? 'block' : 'none';\n",
              "\n",
              "        async function convertToInteractive(key) {\n",
              "          const element = document.querySelector('#df-346bb86b-445d-4f97-b530-764946e5a0a9');\n",
              "          const dataTable =\n",
              "            await google.colab.kernel.invokeFunction('convertToInteractive',\n",
              "                                                     [key], {});\n",
              "          if (!dataTable) return;\n",
              "\n",
              "          const docLinkHtml = 'Like what you see? Visit the ' +\n",
              "            '<a target=\"_blank\" href=https://colab.research.google.com/notebooks/data_table.ipynb>data table notebook</a>'\n",
              "            + ' to learn more about interactive tables.';\n",
              "          element.innerHTML = '';\n",
              "          dataTable['output_type'] = 'display_data';\n",
              "          await google.colab.output.renderOutput(dataTable, element);\n",
              "          const docLink = document.createElement('div');\n",
              "          docLink.innerHTML = docLinkHtml;\n",
              "          element.appendChild(docLink);\n",
              "        }\n",
              "      </script>\n",
              "    </div>\n",
              "  </div>\n",
              "  "
            ]
          },
          "metadata": {},
          "execution_count": 10
        }
      ]
    },
    {
      "cell_type": "markdown",
      "source": [
        "# 数据清洗和EDA"
      ],
      "metadata": {
        "id": "MTFkLyklS0ZK"
      }
    },
    {
      "cell_type": "code",
      "source": [
        "# 查看缺失值\n",
        "health_ins_df.isnull().sum()\n",
        "# 可以看出数据集中没有缺失值"
      ],
      "metadata": {
        "colab": {
          "base_uri": "https://localhost:8080/"
        },
        "id": "NjKMWzwwS433",
        "outputId": "8842a6b4-f1a8-4020-d489-45d38ed61672"
      },
      "execution_count": 11,
      "outputs": [
        {
          "output_type": "execute_result",
          "data": {
            "text/plain": [
              "age         0\n",
              "sex         0\n",
              "bmi         0\n",
              "children    0\n",
              "smoker      0\n",
              "region      0\n",
              "charges     0\n",
              "dtype: int64"
            ]
          },
          "metadata": {},
          "execution_count": 11
        }
      ]
    },
    {
      "cell_type": "code",
      "source": [
        "# 数值型变量的可视化\n",
        "# 直方图绘制\n",
        "fig,axes = plt.subplots(1,2,figsize=(12,6))\n",
        "plt.style.use('ggplot')#使用ggplot主题，R语言的一个绘图包\n",
        "sns.histplot( health_ins_df['age'] , color=\"skyblue\",ax=axes[0])\n",
        "sns.histplot( health_ins_df['bmi'] , color=\"olive\",ax=axes[1])\n",
        "plt.show()"
      ],
      "metadata": {
        "colab": {
          "base_uri": "https://localhost:8080/",
          "height": 429
        },
        "id": "eeouGzKyS-ea",
        "outputId": "5d915ff2-b724-48a6-f120-7f0cad8c6058"
      },
      "execution_count": 12,
      "outputs": [
        {
          "output_type": "stream",
          "name": "stderr",
          "text": [
            "WARNING:matplotlib.font_manager:findfont: Font family ['SimHei'] not found. Falling back to DejaVu Sans.\n",
            "WARNING:matplotlib.font_manager:findfont: Font family ['SimHei'] not found. Falling back to DejaVu Sans.\n"
          ]
        },
        {
          "output_type": "display_data",
          "data": {
            "text/plain": [
              "<Figure size 864x432 with 2 Axes>"
            ],
            "image/png": "[encoded data removed]"
          },
          "metadata": {}
        }
      ]
    },
    {
      "cell_type": "markdown",
      "source": [
        "- 我们可以年龄进行分组转换为年龄段\n",
        "- BMI接近正态分布"
      ],
      "metadata": {
        "id": "cXmcfDjvUiwl"
      }
    },
    {
      "cell_type": "code",
      "source": [
        "\n",
        "outlier_list = boxplot_stats(health_ins_df.bmi).pop(0)['fliers'].tolist()\n",
        "print(outlier_list)\n",
        "\n",
        "#Finding the number of rows containing outliers\n",
        "outlier_bmi_rows = health_ins_df[health_ins_df.bmi.isin(outlier_list)].shape[0]\n",
        "print(\"Number of rows contaning outliers in bmi : \", outlier_bmi_rows)\n",
        "\n",
        "#Percentage of rows which are outliers\n",
        "percent_bmi_outlier = (outlier_bmi_rows/health_ins_df.shape[0])*100\n",
        "print(\"Percentage of outliers in bmi columns : \", percent_bmi_outlier)"
      ],
      "metadata": {
        "id": "m0qDuyNlVZYi",
        "colab": {
          "base_uri": "https://localhost:8080/"
        },
        "outputId": "dd772d8e-d055-4e0f-c350-c587bfd43cc3"
      },
      "execution_count": 13,
      "outputs": [
        {
          "output_type": "stream",
          "name": "stdout",
          "text": [
            "[49.06, 48.07, 47.52, 47.41, 50.38, 47.6, 52.58, 47.74, 53.13]\n",
            "Number of rows contaning outliers in bmi :  9\n",
            "Percentage of outliers in bmi columns :  0.672645739910314\n"
          ]
        }
      ]
    },
    {
      "cell_type": "code",
      "source": [
        "# 箱线图\n",
        "fig,axes=plt.subplots(1,2,figsize=(10,5))\n",
        "\n",
        "sns.boxplot(x = 'age', data = health_ins_df, ax=axes[0])\n",
        "sns.boxplot(x = 'bmi', data = health_ins_df, ax=axes[1])\n",
        "\n",
        "plt.show()"
      ],
      "metadata": {
        "colab": {
          "base_uri": "https://localhost:8080/",
          "height": 339
        },
        "id": "7SfsNS4LVT-e",
        "outputId": "b9e29dfd-51de-4d67-afea-b3de95172fbd"
      },
      "execution_count": 14,
      "outputs": [
        {
          "output_type": "display_data",
          "data": {
            "text/plain": [
              "<Figure size 720x360 with 2 Axes>"
            ],
            "image/png": "[encoded data removed]"
          },
          "metadata": {}
        }
      ]
    },
    {
      "cell_type": "markdown",
      "source": [
        "可以看出BMI存在一些离群值，现在我们来看一下这些点"
      ],
      "metadata": {
        "id": "iQq5PzslV_Us"
      }
    },
    {
      "cell_type": "code",
      "source": [
        "outlier_list = boxplot_stats(health_ins_df.bmi).pop(0)['fliers'].tolist()\n",
        "print(outlier_list)\n",
        "#查找包含异常值的行数\n",
        "outlier_bmi_rows = health_ins_df[health_ins_df.bmi.isin(outlier_list)].shape[0]\n",
        "print(\"bmi 中包含异常值的行数：\", outlier_bmi_rows)\n",
        "\n",
        "#离群值占比\n",
        "#Percentage of rows which are outliers\n",
        "percent_bmi_outlier = (outlier_bmi_rows/health_ins_df.shape[0])*100\n",
        "print(\"bmi离群值异常值的百分比 : \", percent_bmi_outlier)"
      ],
      "metadata": {
        "colab": {
          "base_uri": "https://localhost:8080/"
        },
        "id": "q_TAqtikVsES",
        "outputId": "0b93bdf2-992e-442a-a193-c8a6159d9ed4"
      },
      "execution_count": 15,
      "outputs": [
        {
          "output_type": "stream",
          "name": "stdout",
          "text": [
            "[49.06, 48.07, 47.52, 47.41, 50.38, 47.6, 52.58, 47.74, 53.13]\n",
            "bmi 中包含异常值的行数： 9\n",
            "bmi离群值异常值的百分比 :  0.672645739910314\n"
          ]
        }
      ]
    },
    {
      "cell_type": "markdown",
      "source": [
        "# 数值变量的数据转换"
      ],
      "metadata": {
        "id": "GHkwJzXfX0Vj"
      }
    },
    {
      "cell_type": "code",
      "source": [
        "# 将年龄转换为分桶的\n",
        "print(\"Minimum value for age : \", health_ins_df['age'].min(),\"\\nMaximum value for age : \", health_ins_df['age'].max())\n",
        "\n",
        "#18至40岁的年龄将属于青年\n",
        "#41至58岁的年龄将低于中年\n",
        "#58岁以上将落入老年\n",
        "\n",
        "health_ins_df.loc[(health_ins_df['age'] >=18) & (health_ins_df['age'] <= 40), 'age_group'] = 'young'\n",
        "health_ins_df.loc[(health_ins_df['age'] >= 41) & (health_ins_df['age'] <= 58), 'age_group'] = 'mid'\n",
        "health_ins_df.loc[health_ins_df['age'] > 58, 'age_group'] = 'old'"
      ],
      "metadata": {
        "colab": {
          "base_uri": "https://localhost:8080/"
        },
        "id": "AKnkMUmPX8ne",
        "outputId": "1ddfabd1-438b-4543-c0de-e87ab6ec5972"
      },
      "execution_count": 16,
      "outputs": [
        {
          "output_type": "stream",
          "name": "stdout",
          "text": [
            "Minimum value for age :  18 \n",
            "Maximum value for age :  64\n"
          ]
        }
      ]
    },
    {
      "cell_type": "code",
      "source": [
        "# 去除BMI中的异常值\n",
        "health_ins_df_clean = health_ins_df[~health_ins_df.bmi.isin(outlier_list)]\n",
        "sns.boxplot(x = 'bmi', data = health_ins_df_clean)"
      ],
      "metadata": {
        "colab": {
          "base_uri": "https://localhost:8080/",
          "height": 302
        },
        "id": "fvyIfZmMYS7h",
        "outputId": "a6043e2e-54f9-4a55-fa11-a37e737c2ba3"
      },
      "execution_count": 17,
      "outputs": [
        {
          "output_type": "execute_result",
          "data": {
            "text/plain": [
              "<matplotlib.axes._subplots.AxesSubplot at 0x7f2cb3925910>"
            ]
          },
          "metadata": {},
          "execution_count": 17
        },
        {
          "output_type": "display_data",
          "data": {
            "text/plain": [
              "<Figure size 432x288 with 1 Axes>"
            ],
            "image/png": "[encoded data removed]"
          },
          "metadata": {}
        }
      ]
    },
    {
      "cell_type": "markdown",
      "source": [
        "# 分类型变量的可视化分析 "
      ],
      "metadata": {
        "id": "diVqHT7eYXgD"
      }
    },
    {
      "cell_type": "code",
      "source": [
        "fig,axes=plt.subplots(1,5,figsize=(20,8))\n",
        "sns.countplot(x = 'sex', data = health_ins_df_clean, palette = 'magma',ax=axes[0])\n",
        "sns.countplot(x = 'children', data = health_ins_df_clean, palette = 'magma',ax=axes[1])\n",
        "sns.countplot(x = 'smoker', data = health_ins_df_clean, palette = 'magma',ax=axes[2])\n",
        "sns.countplot(x = 'region', data = health_ins_df_clean, palette = 'magma',ax=axes[3])\n",
        "sns.countplot(x = 'age_group', data = health_ins_df_clean, palette = 'magma',ax=axes[4])"
      ],
      "metadata": {
        "colab": {
          "base_uri": "https://localhost:8080/",
          "height": 383
        },
        "id": "YNXUdNjyY4IA",
        "outputId": "930ae503-3459-4cff-f0ca-092f451be29e"
      },
      "execution_count": 18,
      "outputs": [
        {
          "output_type": "execute_result",
          "data": {
            "text/plain": [
              "<matplotlib.axes._subplots.AxesSubplot at 0x7f2cb3b83b50>"
            ]
          },
          "metadata": {},
          "execution_count": 18
        },
        {
          "output_type": "display_data",
          "data": {
            "text/plain": [
              "<Figure size 1440x576 with 5 Axes>"
            ],
            "image/png": "[encoded data removed]"
          },
          "metadata": {}
        }
      ]
    },
    {
      "cell_type": "markdown",
      "source": [
        "相关性分析"
      ],
      "metadata": {
        "id": "tnIapCgcZLF-"
      }
    },
    {
      "cell_type": "code",
      "source": [
        "heatmap = sns.heatmap(health_ins_df_clean.corr(), vmin=-1, vmax=1, annot=True)"
      ],
      "metadata": {
        "colab": {
          "base_uri": "https://localhost:8080/",
          "height": 289
        },
        "id": "t1l45JIJY7Mv",
        "outputId": "e5dc7db0-f093-4575-9b22-6a8d63a2879e"
      },
      "execution_count": 19,
      "outputs": [
        {
          "output_type": "stream",
          "name": "stderr",
          "text": [
            "WARNING:matplotlib.font_manager:findfont: Font family ['SimHei'] not found. Falling back to DejaVu Sans.\n"
          ]
        },
        {
          "output_type": "display_data",
          "data": {
            "text/plain": [
              "<Figure size 432x288 with 2 Axes>"
            ],
            "image/png": "[encoded data removed]"
          },
          "metadata": {}
        }
      ]
    },
    {
      "cell_type": "markdown",
      "source": [
        "年龄和BMI与费用相关性较强"
      ],
      "metadata": {
        "id": "8ohI1_ajZS9a"
      }
    },
    {
      "cell_type": "markdown",
      "source": [
        "多元分析"
      ],
      "metadata": {
        "id": "n2-J50B1ZJsB"
      }
    },
    {
      "cell_type": "code",
      "source": [
        "sns.relplot(x=\"bmi\", y=\"charges\",hue=\"sex\", style = \"sex\", data=health_ins_df_clean);"
      ],
      "metadata": {
        "colab": {
          "base_uri": "https://localhost:8080/",
          "height": 369
        },
        "id": "uJBX4-SFgx65",
        "outputId": "75eb1866-f4b5-4458-f74e-3e3d21577e7a"
      },
      "execution_count": 20,
      "outputs": [
        {
          "output_type": "display_data",
          "data": {
            "text/plain": [
              "<Figure size 437.975x360 with 1 Axes>"
            ],
            "image/png": "[encoded data removed]"
          },
          "metadata": {}
        }
      ]
    },
    {
      "cell_type": "code",
      "source": [
        "\n",
        "sns.boxplot(x=\"smoker\", y=\"charges\", data=health_ins_df_clean)"
      ],
      "metadata": {
        "colab": {
          "base_uri": "https://localhost:8080/",
          "height": 302
        },
        "id": "lZrqu838pVnO",
        "outputId": "664302ee-bb81-4172-df37-048dfb2b2aca"
      },
      "execution_count": 21,
      "outputs": [
        {
          "output_type": "execute_result",
          "data": {
            "text/plain": [
              "<matplotlib.axes._subplots.AxesSubplot at 0x7f2cb0e440d0>"
            ]
          },
          "metadata": {},
          "execution_count": 21
        },
        {
          "output_type": "display_data",
          "data": {
            "text/plain": [
              "<Figure size 432x288 with 1 Axes>"
            ],
            "image/png": "[encoded data removed]"
          },
          "metadata": {}
        }
      ]
    },
    {
      "cell_type": "markdown",
      "source": [
        "从上图可以看出，吸烟与不吸烟的费用有明显的差异。不同性别对bmi与charge之间的关系没有明显的差异"
      ],
      "metadata": {
        "id": "eh5Cy8VKg5GZ"
      }
    },
    {
      "cell_type": "code",
      "source": [
        "#NUMBER类别中的类别变量\n",
        "categorical_var = ['sex','children','smoker','region','age_group']\n",
        "for cat_value in categorical_var:\n",
        "  print(cat_value,\" - \",health_ins_df_clean[cat_value].unique())"
      ],
      "metadata": {
        "colab": {
          "base_uri": "https://localhost:8080/"
        },
        "id": "aFLuYpCJg0fM",
        "outputId": "8570a59b-3571-4521-bfe3-d5cdb8f4ae10"
      },
      "execution_count": 22,
      "outputs": [
        {
          "output_type": "stream",
          "name": "stdout",
          "text": [
            "sex  -  ['female' 'male']\n",
            "children  -  [0 1 3 2 5 4]\n",
            "smoker  -  ['yes' 'no']\n",
            "region  -  ['southwest' 'southeast' 'northwest' 'northeast']\n",
            "age_group  -  ['young' 'mid' 'old']\n"
          ]
        }
      ]
    },
    {
      "cell_type": "code",
      "source": [
        "# 将分类型变量转换为one-hot编码\n",
        "health_ins_df_processed = pd.get_dummies(health_ins_df_clean, columns=['sex','children','smoker','region','age_group'], prefix=['sex','children','smoker','region','age_group'])\n",
        "health_ins_df_processed.drop(['age'],axis = 1,inplace=True)"
      ],
      "metadata": {
        "id": "7CEHu42spzqn"
      },
      "execution_count": 23,
      "outputs": []
    },
    {
      "cell_type": "code",
      "source": [
        "health_ins_df_processed.head(5)"
      ],
      "metadata": {
        "colab": {
          "base_uri": "https://localhost:8080/",
          "height": 270
        },
        "id": "yfJnvFSZqBMO",
        "outputId": "6112f16f-7c3f-4809-b6f0-a2208564f263"
      },
      "execution_count": 24,
      "outputs": [
        {
          "output_type": "execute_result",
          "data": {
            "text/plain": [
              "      bmi      charges  sex_female  sex_male  children_0  children_1  \\\n",
              "0  27.900  16884.92400           1         0           1           0   \n",
              "1  33.770   1725.55230           0         1           0           1   \n",
              "2  33.000   4449.46200           0         1           0           0   \n",
              "3  22.705  21984.47061           0         1           1           0   \n",
              "4  28.880   3866.85520           0         1           1           0   \n",
              "\n",
              "   children_2  children_3  children_4  children_5  smoker_no  smoker_yes  \\\n",
              "0           0           0           0           0          0           1   \n",
              "1           0           0           0           0          1           0   \n",
              "2           0           1           0           0          1           0   \n",
              "3           0           0           0           0          1           0   \n",
              "4           0           0           0           0          1           0   \n",
              "\n",
              "   region_northeast  region_northwest  region_southeast  region_southwest  \\\n",
              "0                 0                 0                 0                 1   \n",
              "1                 0                 0                 1                 0   \n",
              "2                 0                 0                 1                 0   \n",
              "3                 0                 1                 0                 0   \n",
              "4                 0                 1                 0                 0   \n",
              "\n",
              "   age_group_mid  age_group_old  age_group_young  \n",
              "0              0              0                1  \n",
              "1              0              0                1  \n",
              "2              0              0                1  \n",
              "3              0              0                1  \n",
              "4              0              0                1  "
            ],
            "text/html": [
              "\n",
              "  <div id=\"df-47bb1d4f-24dd-4840-85c3-f39e08323508\">\n",
              "    <div class=\"colab-df-container\">\n",
              "      <div>\n",
              "<style scoped>\n",
              "    .dataframe tbody tr th:only-of-type {\n",
              "        vertical-align: middle;\n",
              "    }\n",
              "\n",
              "    .dataframe tbody tr th {\n",
              "        vertical-align: top;\n",
              "    }\n",
              "\n",
              "    .dataframe thead th {\n",
              "        text-align: right;\n",
              "    }\n",
              "</style>\n",
              "<table border=\"1\" class=\"dataframe\">\n",
              "  <thead>\n",
              "    <tr style=\"text-align: right;\">\n",
              "      <th></th>\n",
              "      <th>bmi</th>\n",
              "      <th>charges</th>\n",
              "      <th>sex_female</th>\n",
              "      <th>sex_male</th>\n",
              "      <th>children_0</th>\n",
              "      <th>children_1</th>\n",
              "      <th>children_2</th>\n",
              "      <th>children_3</th>\n",
              "      <th>children_4</th>\n",
              "      <th>children_5</th>\n",
              "      <th>smoker_no</th>\n",
              "      <th>smoker_yes</th>\n",
              "      <th>region_northeast</th>\n",
              "      <th>region_northwest</th>\n",
              "      <th>region_southeast</th>\n",
              "      <th>region_southwest</th>\n",
              "      <th>age_group_mid</th>\n",
              "      <th>age_group_old</th>\n",
              "      <th>age_group_young</th>\n",
              "    </tr>\n",
              "  </thead>\n",
              "  <tbody>\n",
              "    <tr>\n",
              "      <th>0</th>\n",
              "      <td>27.900</td>\n",
              "      <td>16884.92400</td>\n",
              "      <td>1</td>\n",
              "      <td>0</td>\n",
              "      <td>1</td>\n",
              "      <td>0</td>\n",
              "      <td>0</td>\n",
              "      <td>0</td>\n",
              "      <td>0</td>\n",
              "      <td>0</td>\n",
              "      <td>0</td>\n",
              "      <td>1</td>\n",
              "      <td>0</td>\n",
              "      <td>0</td>\n",
              "      <td>0</td>\n",
              "      <td>1</td>\n",
              "      <td>0</td>\n",
              "      <td>0</td>\n",
              "      <td>1</td>\n",
              "    </tr>\n",
              "    <tr>\n",
              "      <th>1</th>\n",
              "      <td>33.770</td>\n",
              "      <td>1725.55230</td>\n",
              "      <td>0</td>\n",
              "      <td>1</td>\n",
              "      <td>0</td>\n",
              "      <td>1</td>\n",
              "      <td>0</td>\n",
              "      <td>0</td>\n",
              "      <td>0</td>\n",
              "      <td>0</td>\n",
              "      <td>1</td>\n",
              "      <td>0</td>\n",
              "      <td>0</td>\n",
              "      <td>0</td>\n",
              "      <td>1</td>\n",
              "      <td>0</td>\n",
              "      <td>0</td>\n",
              "      <td>0</td>\n",
              "      <td>1</td>\n",
              "    </tr>\n",
              "    <tr>\n",
              "      <th>2</th>\n",
              "      <td>33.000</td>\n",
              "      <td>4449.46200</td>\n",
              "      <td>0</td>\n",
              "      <td>1</td>\n",
              "      <td>0</td>\n",
              "      <td>0</td>\n",
              "      <td>0</td>\n",
              "      <td>1</td>\n",
              "      <td>0</td>\n",
              "      <td>0</td>\n",
              "      <td>1</td>\n",
              "      <td>0</td>\n",
              "      <td>0</td>\n",
              "      <td>0</td>\n",
              "      <td>1</td>\n",
              "      <td>0</td>\n",
              "      <td>0</td>\n",
              "      <td>0</td>\n",
              "      <td>1</td>\n",
              "    </tr>\n",
              "    <tr>\n",
              "      <th>3</th>\n",
              "      <td>22.705</td>\n",
              "      <td>21984.47061</td>\n",
              "      <td>0</td>\n",
              "      <td>1</td>\n",
              "      <td>1</td>\n",
              "      <td>0</td>\n",
              "      <td>0</td>\n",
              "      <td>0</td>\n",
              "      <td>0</td>\n",
              "      <td>0</td>\n",
              "      <td>1</td>\n",
              "      <td>0</td>\n",
              "      <td>0</td>\n",
              "      <td>1</td>\n",
              "      <td>0</td>\n",
              "      <td>0</td>\n",
              "      <td>0</td>\n",
              "      <td>0</td>\n",
              "      <td>1</td>\n",
              "    </tr>\n",
              "    <tr>\n",
              "      <th>4</th>\n",
              "      <td>28.880</td>\n",
              "      <td>3866.85520</td>\n",
              "      <td>0</td>\n",
              "      <td>1</td>\n",
              "      <td>1</td>\n",
              "      <td>0</td>\n",
              "      <td>0</td>\n",
              "      <td>0</td>\n",
              "      <td>0</td>\n",
              "      <td>0</td>\n",
              "      <td>1</td>\n",
              "      <td>0</td>\n",
              "      <td>0</td>\n",
              "      <td>1</td>\n",
              "      <td>0</td>\n",
              "      <td>0</td>\n",
              "      <td>0</td>\n",
              "      <td>0</td>\n",
              "      <td>1</td>\n",
              "    </tr>\n",
              "  </tbody>\n",
              "</table>\n",
              "</div>\n",
              "      <button class=\"colab-df-convert\" onclick=\"convertToInteractive('df-47bb1d4f-24dd-4840-85c3-f39e08323508')\"\n",
              "              title=\"Convert this dataframe to an interactive table.\"\n",
              "              style=\"display:none;\">\n",
              "        \n",
              "  <svg xmlns=\"http://www.w3.org/2000/svg\" height=\"24px\"viewBox=\"0 0 24 24\"\n",
              "       width=\"24px\">\n",
              "    <path d=\"M0 0h24v24H0V0z\" fill=\"none\"/>\n",
              "    <path d=\"M18.56 5.44l.94 2.06.94-2.06 2.06-.94-2.06-.94-.94-2.06-.94 2.06-2.06.94zm-11 1L8.5 8.5l.94-2.06 2.06-.94-2.06-.94L8.5 2.5l-.94 2.06-2.06.94zm10 10l.94 2.06.94-2.06 2.06-.94-2.06-.94-.94-2.06-.94 2.06-2.06.94z\"/><path d=\"M17.41 7.96l-1.37-1.37c-.4-.4-.92-.59-1.43-.59-.52 0-1.04.2-1.43.59L10.3 9.45l-7.72 7.72c-.78.78-.78 2.05 0 2.83L4 21.41c.39.39.9.59 1.41.59.51 0 1.02-.2 1.41-.59l7.78-7.78 2.81-2.81c.8-.78.8-2.07 0-2.86zM5.41 20L4 18.59l7.72-7.72 1.47 1.35L5.41 20z\"/>\n",
              "  </svg>\n",
              "      </button>\n",
              "      \n",
              "  <style>\n",
              "    .colab-df-container {\n",
              "      display:flex;\n",
              "      flex-wrap:wrap;\n",
              "      gap: 12px;\n",
              "    }\n",
              "\n",
              "    .colab-df-convert {\n",
              "      background-color: #E8F0FE;\n",
              "      border: none;\n",
              "      border-radius: 50%;\n",
              "      cursor: pointer;\n",
              "      display: none;\n",
              "      fill: #1967D2;\n",
              "      height: 32px;\n",
              "      padding: 0 0 0 0;\n",
              "      width: 32px;\n",
              "    }\n",
              "\n",
              "    .colab-df-convert:hover {\n",
              "      background-color: #E2EBFA;\n",
              "      box-shadow: 0px 1px 2px rgba(60, 64, 67, 0.3), 0px 1px 3px 1px rgba(60, 64, 67, 0.15);\n",
              "      fill: #174EA6;\n",
              "    }\n",
              "\n",
              "    [theme=dark] .colab-df-convert {\n",
              "      background-color: #3B4455;\n",
              "      fill: #D2E3FC;\n",
              "    }\n",
              "\n",
              "    [theme=dark] .colab-df-convert:hover {\n",
              "      background-color: #434B5C;\n",
              "      box-shadow: 0px 1px 3px 1px rgba(0, 0, 0, 0.15);\n",
              "      filter: drop-shadow(0px 1px 2px rgba(0, 0, 0, 0.3));\n",
              "      fill: #FFFFFF;\n",
              "    }\n",
              "  </style>\n",
              "\n",
              "      <script>\n",
              "        const buttonEl =\n",
              "          document.querySelector('#df-47bb1d4f-24dd-4840-85c3-f39e08323508 button.colab-df-convert');\n",
              "        buttonEl.style.display =\n",
              "          google.colab.kernel.accessAllowed ? 'block' : 'none';\n",
              "\n",
              "        async function convertToInteractive(key) {\n",
              "          const element = document.querySelector('#df-47bb1d4f-24dd-4840-85c3-f39e08323508');\n",
              "          const dataTable =\n",
              "            await google.colab.kernel.invokeFunction('convertToInteractive',\n",
              "                                                     [key], {});\n",
              "          if (!dataTable) return;\n",
              "\n",
              "          const docLinkHtml = 'Like what you see? Visit the ' +\n",
              "            '<a target=\"_blank\" href=https://colab.research.google.com/notebooks/data_table.ipynb>data table notebook</a>'\n",
              "            + ' to learn more about interactive tables.';\n",
              "          element.innerHTML = '';\n",
              "          dataTable['output_type'] = 'display_data';\n",
              "          await google.colab.output.renderOutput(dataTable, element);\n",
              "          const docLink = document.createElement('div');\n",
              "          docLink.innerHTML = docLinkHtml;\n",
              "          element.appendChild(docLink);\n",
              "        }\n",
              "      </script>\n",
              "    </div>\n",
              "  </div>\n",
              "  "
            ]
          },
          "metadata": {},
          "execution_count": 24
        }
      ]
    },
    {
      "cell_type": "markdown",
      "source": [
        "# 构建一个基础模型"
      ],
      "metadata": {
        "id": "m9a1X0YOqCHN"
      }
    },
    {
      "cell_type": "code",
      "source": [
        "from sklearn.linear_model import LinearRegression\n",
        "\n",
        "lm = LinearRegression()\n",
        "X = health_ins_df_processed.loc[:, health_ins_df_processed.columns != 'charges']\n",
        "y = health_ins_df_processed['charges']\n",
        "X_train, X_test, y_train, y_test = train_test_split(X, y, test_size=0.33)\n",
        "\n",
        "\n",
        "lm.fit(X_train,y_train)\n",
        "print(\"R-Squared on train dataset={}\".format(lm.score(X_train,y_train)))\n",
        "\n",
        "lm.fit(X_test,y_test)   \n",
        "print(\"R-Squaredon test dataset={}\".format(lm.score(X_test,y_test)))"
      ],
      "metadata": {
        "colab": {
          "base_uri": "https://localhost:8080/"
        },
        "id": "el7Jqxy1qGXp",
        "outputId": "0940af72-f45a-416d-af38-e4785635b66d"
      },
      "execution_count": 25,
      "outputs": [
        {
          "output_type": "stream",
          "name": "stdout",
          "text": [
            "R-Squared on train dataset=0.7494776882061486\n",
            "R-Squaredon test dataset=0.7372938495110573\n"
          ]
        }
      ]
    },
    {
      "cell_type": "markdown",
      "source": [
        "# 构建一个决策树回归模型"
      ],
      "metadata": {
        "id": "XM_00j80sHzp"
      }
    },
    {
      "cell_type": "code",
      "source": [
        "X = health_ins_df_processed.loc[:, health_ins_df_processed.columns != 'charges']\n",
        "y = health_ins_df_processed['charges']\n",
        "X_train, X_test, y_train, y_test = train_test_split(X, y, test_size=0.33)\n",
        "\n",
        "dtr = DecisionTreeRegressor(max_depth=4,min_samples_split=5,max_leaf_nodes=10)\n",
        "\n",
        "dtr.fit(X_train,y_train)\n",
        "print(\"R-Squared on train dataset={}\".format(dtr.score(X_train,y_train)))\n",
        "\n",
        "dtr.fit(X_test,y_test)   \n",
        "print(\"R-Squaredon test dataset={}\".format(dtr.score(X_test,y_test)))"
      ],
      "metadata": {
        "colab": {
          "base_uri": "https://localhost:8080/"
        },
        "id": "faie_Qsysvy8",
        "outputId": "5bb85445-4820-4c1a-90c6-8a4ff94aa561"
      },
      "execution_count": 26,
      "outputs": [
        {
          "output_type": "stream",
          "name": "stdout",
          "text": [
            "R-Squared on train dataset=0.8594291626976573\n",
            "R-Squaredon test dataset=0.8571718114547656\n"
          ]
        }
      ]
    },
    {
      "cell_type": "code",
      "source": [
        "# 使用网格搜索进行超参数调整\n",
        "param_grid = {\n",
        "\"min_samples_split\": [2, 5, 10, 15,20, 40],\n",
        "\"max_depth\": [2, 4, 6, 8],\n",
        "\"max_leaf_nodes\": [2, 5, 10, 20, 100],\n",
        "\"min_samples_leaf\": [2, 5, 10, 20, 100],\n",
        "}\n",
        "\n",
        "grid_cv_dtr = GridSearchCV(dtr, param_grid, cv=5)\n",
        "\n",
        "grid_cv_dtr.fit(X,y)\n",
        "\n",
        "print(\"R-Squared::{}\".format(grid_cv_dtr.best_score_))\n",
        "print(\"Best Hyperparameters::\\n{}\".format(grid_cv_dtr.best_params_))\n",
        "\n",
        "#R-Squared::0.8464037958681339\n",
        "#Best Hyperparameters::\n",
        "#{'max_depth': 4, 'max_leaf_nodes': 20, 'min_samples_leaf': 10, 'min_samples_split': 2}"
      ],
      "metadata": {
        "colab": {
          "base_uri": "https://localhost:8080/"
        },
        "id": "9G4VEurAs0Vz",
        "outputId": "eda0a2e0-5e91-4331-ac00-665125483e57"
      },
      "execution_count": 27,
      "outputs": [
        {
          "output_type": "stream",
          "name": "stdout",
          "text": [
            "R-Squared::0.8464037958681339\n",
            "Best Hyperparameters::\n",
            "{'max_depth': 4, 'max_leaf_nodes': 20, 'min_samples_leaf': 10, 'min_samples_split': 2}\n"
          ]
        }
      ]
    },
    {
      "cell_type": "markdown",
      "source": [
        "# 构建一个Gradient Boosting回归模型\n",
        "梯度提升回归模型的主要调整参数\n",
        "- learning_rate:学习率，默认为0.1\n",
        "- n_estimators:默认为100\n",
        "- max_depth:单个回归估计器的最大深度。最大深度限制了树中的节点数。调整此参数以获得最佳性能；最佳值取决于输入变量的相互作用。值必须在 [1, inf) 范围内。\n",
        "- min_samples_split:拆分内部节点所需的最小样本数：\n",
        "- min_samples_leaf:叶节点最小样本数，这个参数会影响模型的平滑效果，尤其是在回归中。\n",
        "\n",
        "下面使用gridsearch来分别对这些参数调整。考虑到运行速度，这里进行了两步来调参。\n"
      ],
      "metadata": {
        "id": "Vbb7DduMs-cQ"
      }
    },
    {
      "cell_type": "code",
      "source": [
        "X = health_ins_df_processed.loc[:, health_ins_df_processed.columns != 'charges']\n",
        "y = health_ins_df_processed['charges']\n",
        "# 数据集拆分\n",
        "X_train, X_test, y_train, y_test = train_test_split(X, y, test_size=0.33)\n",
        "# 第一轮超参数设置\n",
        "p_tuning_1 = {'learning_rate':[0.020,0.015,0.01], 'n_estimators':[250,500,750]}\n",
        "# 第一轮使用网格搜索\n",
        "tuning_1 = GridSearchCV(estimator =ensemble.GradientBoostingRegressor(max_depth=4, min_samples_split=2, min_samples_leaf=1, subsample=1,loss = 'ls'),\n",
        "                        param_grid = p_tuning_1, n_jobs=4,cv=5,verbose = True)\n",
        "tuning_1.fit(X_train,y_train)\n",
        "tuning_1.cv_results_, tuning_1.best_score_, tuning_1.best_params_\n",
        "\n",
        "#0.8543951767533278,\n",
        "#{'learning_rate': 0.015, 'n_estimators': 250}"
      ],
      "metadata": {
        "colab": {
          "base_uri": "https://localhost:8080/"
        },
        "id": "rBDZldBUtObd",
        "outputId": "e9cc7aba-cfda-43fe-c11b-0d00a541d0a4"
      },
      "execution_count": 28,
      "outputs": [
        {
          "output_type": "stream",
          "name": "stdout",
          "text": [
            "Fitting 5 folds for each of 9 candidates, totalling 45 fits\n"
          ]
        },
        {
          "output_type": "stream",
          "name": "stderr",
          "text": [
            "/usr/local/lib/python3.7/dist-packages/sklearn/ensemble/_gb.py:290: FutureWarning: The loss 'ls' was deprecated in v1.0 and will be removed in version 1.2. Use 'squared_error' which is equivalent.\n",
            "  FutureWarning,\n"
          ]
        },
        {
          "output_type": "execute_result",
          "data": {
            "text/plain": [
              "({'mean_fit_time': array([0.93033953, 2.17604942, 2.40582275, 0.75398693, 1.88998609,\n",
              "         3.04191098, 1.00034266, 2.64972916, 3.7665452 ]),\n",
              "  'std_fit_time': array([0.02198099, 0.14956736, 0.1401863 , 0.01044098, 0.11360786,\n",
              "         0.22889888, 0.11380432, 0.05127283, 0.56390293]),\n",
              "  'mean_score_time': array([0.01764259, 0.02601213, 0.0182991 , 0.01312881, 0.02345424,\n",
              "         0.02766876, 0.01379819, 0.02135038, 0.02560244]),\n",
              "  'std_score_time': array([0.00768666, 0.01011614, 0.00307461, 0.00068747, 0.00922022,\n",
              "         0.00899281, 0.0043838 , 0.00466125, 0.01048999]),\n",
              "  'param_learning_rate': masked_array(data=[0.02, 0.02, 0.02, 0.015, 0.015, 0.015, 0.01, 0.01,\n",
              "                     0.01],\n",
              "               mask=[False, False, False, False, False, False, False, False,\n",
              "                     False],\n",
              "         fill_value='?',\n",
              "              dtype=object),\n",
              "  'param_n_estimators': masked_array(data=[250, 500, 750, 250, 500, 750, 250, 500, 750],\n",
              "               mask=[False, False, False, False, False, False, False, False,\n",
              "                     False],\n",
              "         fill_value='?',\n",
              "              dtype=object),\n",
              "  'params': [{'learning_rate': 0.02, 'n_estimators': 250},\n",
              "   {'learning_rate': 0.02, 'n_estimators': 500},\n",
              "   {'learning_rate': 0.02, 'n_estimators': 750},\n",
              "   {'learning_rate': 0.015, 'n_estimators': 250},\n",
              "   {'learning_rate': 0.015, 'n_estimators': 500},\n",
              "   {'learning_rate': 0.015, 'n_estimators': 750},\n",
              "   {'learning_rate': 0.01, 'n_estimators': 250},\n",
              "   {'learning_rate': 0.01, 'n_estimators': 500},\n",
              "   {'learning_rate': 0.01, 'n_estimators': 750}],\n",
              "  'split0_test_score': array([0.79089798, 0.77666408, 0.7686252 , 0.79414608, 0.78252808,\n",
              "         0.7737637 , 0.7892996 , 0.79120128, 0.78459175]),\n",
              "  'split1_test_score': array([0.91127855, 0.89428955, 0.88028361, 0.9124599 , 0.9020243 ,\n",
              "         0.89049964, 0.91074325, 0.91101163, 0.90168094]),\n",
              "  'split2_test_score': array([0.89292085, 0.88970993, 0.87895447, 0.89192715, 0.89073904,\n",
              "         0.88534188, 0.88828576, 0.89274866, 0.89105356]),\n",
              "  'split3_test_score': array([0.80875978, 0.79571384, 0.78480643, 0.81018992, 0.80281854,\n",
              "         0.79122149, 0.81261966, 0.81019531, 0.8029557 ]),\n",
              "  'split4_test_score': array([0.8582542 , 0.84199931, 0.82889317, 0.86325284, 0.84932899,\n",
              "         0.83981712, 0.85852448, 0.85854144, 0.84905277]),\n",
              "  'mean_test_score': array([0.85242227, 0.83967534, 0.82831258, 0.85439518, 0.84548779,\n",
              "         0.83612876, 0.85189455, 0.85273967, 0.84586694]),\n",
              "  'std_test_score': array([0.04654   , 0.04773805, 0.04630614, 0.0457005 , 0.04699659,\n",
              "         0.04753481, 0.04536979, 0.04610205, 0.04639656]),\n",
              "  'rank_test_score': array([3, 7, 9, 1, 6, 8, 4, 2, 5], dtype=int32)},\n",
              " 0.8543951767533278,\n",
              " {'learning_rate': 0.015, 'n_estimators': 250})"
            ]
          },
          "metadata": {},
          "execution_count": 28
        }
      ]
    },
    {
      "cell_type": "code",
      "source": [
        "# 第二次调参\n",
        "p_tuning_2 = {'max_depth':[2,4,6,8], 'min_samples_split':[2,5,8,10],'min_samples_leaf':[1,2,5]}\n",
        "\n",
        "tuning_2 = GridSearchCV(estimator =ensemble.GradientBoostingRegressor(learning_rate=0.015, n_estimators=250, subsample=1,loss = 'ls'), \n",
        "            param_grid = p_tuning_2, n_jobs=4,cv=5,verbose = True)#这里使用了第一次调参的结果\n",
        "tuning_2.fit(X_train,y_train)\n",
        "tuning_2.cv_results_, tuning_2.best_score_, tuning_2.best_params_\n",
        "\n",
        "# 0.8614639096054806,\n",
        "# {'max_depth': 4, 'min_samples_leaf': 5, 'min_samples_split': 2})"
      ],
      "metadata": {
        "colab": {
          "base_uri": "https://localhost:8080/"
        },
        "id": "A-SUGaXitoWG",
        "outputId": "485bcab5-2310-4790-ca92-2496a1643a6f"
      },
      "execution_count": 29,
      "outputs": [
        {
          "output_type": "stream",
          "name": "stdout",
          "text": [
            "Fitting 5 folds for each of 48 candidates, totalling 240 fits\n"
          ]
        },
        {
          "output_type": "stream",
          "name": "stderr",
          "text": [
            "/usr/local/lib/python3.7/dist-packages/sklearn/ensemble/_gb.py:290: FutureWarning: The loss 'ls' was deprecated in v1.0 and will be removed in version 1.2. Use 'squared_error' which is equivalent.\n",
            "  FutureWarning,\n"
          ]
        },
        {
          "output_type": "execute_result",
          "data": {
            "text/plain": [
              "({'mean_fit_time': array([0.63631959, 0.62680583, 0.52735548, 0.50522704, 0.49523897,\n",
              "         0.50640383, 0.51098285, 0.49042706, 0.51463251, 0.50141368,\n",
              "         0.4953177 , 0.49713025, 0.72156553, 0.71434522, 0.7315094 ,\n",
              "         0.71747985, 0.72309833, 0.72742319, 0.76942863, 0.71605034,\n",
              "         0.73797874, 0.78718066, 0.72743568, 0.72464108, 0.99180121,\n",
              "         0.97025576, 0.95901732, 1.23043509, 1.77729821, 1.06093988,\n",
              "         0.95965571, 0.94590869, 0.91955638, 0.93192229, 0.93346577,\n",
              "         0.93660111, 1.28959103, 1.20589719, 1.17868004, 1.26609449,\n",
              "         1.20441046, 1.4600512 , 1.36594844, 1.12692838, 1.10502806,\n",
              "         1.08713503, 1.09216666, 1.05332561]),\n",
              "  'std_fit_time': array([0.02031276, 0.02917624, 0.05483483, 0.01172972, 0.00405064,\n",
              "         0.00844451, 0.01064526, 0.00632402, 0.01705367, 0.01788173,\n",
              "         0.01050163, 0.0163158 , 0.01104153, 0.01054067, 0.01874623,\n",
              "         0.0135183 , 0.00597545, 0.01370893, 0.10151672, 0.04706963,\n",
              "         0.02745759, 0.03038334, 0.03009107, 0.01588255, 0.01077184,\n",
              "         0.00780262, 0.02423627, 0.16260338, 0.20329166, 0.07290047,\n",
              "         0.01400135, 0.01095395, 0.01126797, 0.01157758, 0.00861925,\n",
              "         0.01219262, 0.01441332, 0.0194956 , 0.04966498, 0.04603388,\n",
              "         0.00929328, 0.32854517, 0.29076552, 0.01354599, 0.01953738,\n",
              "         0.0114361 , 0.00329634, 0.05457086]),\n",
              "  'mean_score_time': array([0.01745806, 0.01078477, 0.00735517, 0.01509771, 0.01025376,\n",
              "         0.00835285, 0.00816412, 0.00745602, 0.00807214, 0.00922832,\n",
              "         0.0087451 , 0.00889282, 0.01194172, 0.01363626, 0.01267018,\n",
              "         0.01271176, 0.01131401, 0.01336002, 0.00796695, 0.01291103,\n",
              "         0.01186485, 0.01250997, 0.01030803, 0.0117888 , 0.01434827,\n",
              "         0.01676908, 0.01463785, 0.02205143, 0.02926731, 0.01447611,\n",
              "         0.01312771, 0.01509042, 0.01581693, 0.01723599, 0.01745162,\n",
              "         0.01210818, 0.02173114, 0.01563101, 0.01942406, 0.02036581,\n",
              "         0.01573224, 0.01204262, 0.01551661, 0.01734166, 0.01716056,\n",
              "         0.01429925, 0.01664414, 0.01148949]),\n",
              "  'std_score_time': array([3.33586172e-03, 6.29638050e-03, 3.41340051e-03, 2.66661289e-03,\n",
              "         2.86334657e-03, 4.64403475e-03, 3.03880483e-03, 3.51963012e-03,\n",
              "         3.67532285e-03, 5.72504672e-03, 3.42312205e-03, 3.47460090e-03,\n",
              "         3.38252988e-03, 5.07962560e-03, 5.11528239e-04, 8.97436162e-05,\n",
              "         5.45461752e-03, 4.17975080e-03, 3.95240387e-03, 8.52911468e-05,\n",
              "         2.53933925e-03, 7.21903152e-04, 3.28330853e-03, 3.90626677e-03,\n",
              "         1.72314631e-03, 6.56665284e-03, 1.82386725e-03, 7.85770540e-03,\n",
              "         7.79354193e-03, 1.22299972e-03, 3.50636356e-03, 3.36104377e-03,\n",
              "         2.45425728e-03, 5.82177257e-03, 4.81402887e-03, 2.31155393e-03,\n",
              "         3.27670519e-03, 2.38500350e-03, 7.49848010e-03, 1.04266739e-02,\n",
              "         9.15004715e-04, 2.80119904e-03, 5.82817397e-03, 4.28841745e-03,\n",
              "         3.58676017e-03, 2.82463570e-03, 3.94817818e-03, 4.30003934e-03]),\n",
              "  'param_max_depth': masked_array(data=[2, 2, 2, 2, 2, 2, 2, 2, 2, 2, 2, 2, 4, 4, 4, 4, 4, 4,\n",
              "                     4, 4, 4, 4, 4, 4, 6, 6, 6, 6, 6, 6, 6, 6, 6, 6, 6, 6,\n",
              "                     8, 8, 8, 8, 8, 8, 8, 8, 8, 8, 8, 8],\n",
              "               mask=[False, False, False, False, False, False, False, False,\n",
              "                     False, False, False, False, False, False, False, False,\n",
              "                     False, False, False, False, False, False, False, False,\n",
              "                     False, False, False, False, False, False, False, False,\n",
              "                     False, False, False, False, False, False, False, False,\n",
              "                     False, False, False, False, False, False, False, False],\n",
              "         fill_value='?',\n",
              "              dtype=object),\n",
              "  'param_min_samples_leaf': masked_array(data=[1, 1, 1, 1, 2, 2, 2, 2, 5, 5, 5, 5, 1, 1, 1, 1, 2, 2,\n",
              "                     2, 2, 5, 5, 5, 5, 1, 1, 1, 1, 2, 2, 2, 2, 5, 5, 5, 5,\n",
              "                     1, 1, 1, 1, 2, 2, 2, 2, 5, 5, 5, 5],\n",
              "               mask=[False, False, False, False, False, False, False, False,\n",
              "                     False, False, False, False, False, False, False, False,\n",
              "                     False, False, False, False, False, False, False, False,\n",
              "                     False, False, False, False, False, False, False, False,\n",
              "                     False, False, False, False, False, False, False, False,\n",
              "                     False, False, False, False, False, False, False, False],\n",
              "         fill_value='?',\n",
              "              dtype=object),\n",
              "  'param_min_samples_split': masked_array(data=[2, 5, 8, 10, 2, 5, 8, 10, 2, 5, 8, 10, 2, 5, 8, 10, 2,\n",
              "                     5, 8, 10, 2, 5, 8, 10, 2, 5, 8, 10, 2, 5, 8, 10, 2, 5,\n",
              "                     8, 10, 2, 5, 8, 10, 2, 5, 8, 10, 2, 5, 8, 10],\n",
              "               mask=[False, False, False, False, False, False, False, False,\n",
              "                     False, False, False, False, False, False, False, False,\n",
              "                     False, False, False, False, False, False, False, False,\n",
              "                     False, False, False, False, False, False, False, False,\n",
              "                     False, False, False, False, False, False, False, False,\n",
              "                     False, False, False, False, False, False, False, False],\n",
              "         fill_value='?',\n",
              "              dtype=object),\n",
              "  'params': [{'max_depth': 2, 'min_samples_leaf': 1, 'min_samples_split': 2},\n",
              "   {'max_depth': 2, 'min_samples_leaf': 1, 'min_samples_split': 5},\n",
              "   {'max_depth': 2, 'min_samples_leaf': 1, 'min_samples_split': 8},\n",
              "   {'max_depth': 2, 'min_samples_leaf': 1, 'min_samples_split': 10},\n",
              "   {'max_depth': 2, 'min_samples_leaf': 2, 'min_samples_split': 2},\n",
              "   {'max_depth': 2, 'min_samples_leaf': 2, 'min_samples_split': 5},\n",
              "   {'max_depth': 2, 'min_samples_leaf': 2, 'min_samples_split': 8},\n",
              "   {'max_depth': 2, 'min_samples_leaf': 2, 'min_samples_split': 10},\n",
              "   {'max_depth': 2, 'min_samples_leaf': 5, 'min_samples_split': 2},\n",
              "   {'max_depth': 2, 'min_samples_leaf': 5, 'min_samples_split': 5},\n",
              "   {'max_depth': 2, 'min_samples_leaf': 5, 'min_samples_split': 8},\n",
              "   {'max_depth': 2, 'min_samples_leaf': 5, 'min_samples_split': 10},\n",
              "   {'max_depth': 4, 'min_samples_leaf': 1, 'min_samples_split': 2},\n",
              "   {'max_depth': 4, 'min_samples_leaf': 1, 'min_samples_split': 5},\n",
              "   {'max_depth': 4, 'min_samples_leaf': 1, 'min_samples_split': 8},\n",
              "   {'max_depth': 4, 'min_samples_leaf': 1, 'min_samples_split': 10},\n",
              "   {'max_depth': 4, 'min_samples_leaf': 2, 'min_samples_split': 2},\n",
              "   {'max_depth': 4, 'min_samples_leaf': 2, 'min_samples_split': 5},\n",
              "   {'max_depth': 4, 'min_samples_leaf': 2, 'min_samples_split': 8},\n",
              "   {'max_depth': 4, 'min_samples_leaf': 2, 'min_samples_split': 10},\n",
              "   {'max_depth': 4, 'min_samples_leaf': 5, 'min_samples_split': 2},\n",
              "   {'max_depth': 4, 'min_samples_leaf': 5, 'min_samples_split': 5},\n",
              "   {'max_depth': 4, 'min_samples_leaf': 5, 'min_samples_split': 8},\n",
              "   {'max_depth': 4, 'min_samples_leaf': 5, 'min_samples_split': 10},\n",
              "   {'max_depth': 6, 'min_samples_leaf': 1, 'min_samples_split': 2},\n",
              "   {'max_depth': 6, 'min_samples_leaf': 1, 'min_samples_split': 5},\n",
              "   {'max_depth': 6, 'min_samples_leaf': 1, 'min_samples_split': 8},\n",
              "   {'max_depth': 6, 'min_samples_leaf': 1, 'min_samples_split': 10},\n",
              "   {'max_depth': 6, 'min_samples_leaf': 2, 'min_samples_split': 2},\n",
              "   {'max_depth': 6, 'min_samples_leaf': 2, 'min_samples_split': 5},\n",
              "   {'max_depth': 6, 'min_samples_leaf': 2, 'min_samples_split': 8},\n",
              "   {'max_depth': 6, 'min_samples_leaf': 2, 'min_samples_split': 10},\n",
              "   {'max_depth': 6, 'min_samples_leaf': 5, 'min_samples_split': 2},\n",
              "   {'max_depth': 6, 'min_samples_leaf': 5, 'min_samples_split': 5},\n",
              "   {'max_depth': 6, 'min_samples_leaf': 5, 'min_samples_split': 8},\n",
              "   {'max_depth': 6, 'min_samples_leaf': 5, 'min_samples_split': 10},\n",
              "   {'max_depth': 8, 'min_samples_leaf': 1, 'min_samples_split': 2},\n",
              "   {'max_depth': 8, 'min_samples_leaf': 1, 'min_samples_split': 5},\n",
              "   {'max_depth': 8, 'min_samples_leaf': 1, 'min_samples_split': 8},\n",
              "   {'max_depth': 8, 'min_samples_leaf': 1, 'min_samples_split': 10},\n",
              "   {'max_depth': 8, 'min_samples_leaf': 2, 'min_samples_split': 2},\n",
              "   {'max_depth': 8, 'min_samples_leaf': 2, 'min_samples_split': 5},\n",
              "   {'max_depth': 8, 'min_samples_leaf': 2, 'min_samples_split': 8},\n",
              "   {'max_depth': 8, 'min_samples_leaf': 2, 'min_samples_split': 10},\n",
              "   {'max_depth': 8, 'min_samples_leaf': 5, 'min_samples_split': 2},\n",
              "   {'max_depth': 8, 'min_samples_leaf': 5, 'min_samples_split': 5},\n",
              "   {'max_depth': 8, 'min_samples_leaf': 5, 'min_samples_split': 8},\n",
              "   {'max_depth': 8, 'min_samples_leaf': 5, 'min_samples_split': 10}],\n",
              "  'split0_test_score': array([0.78845886, 0.78845886, 0.78845886, 0.78845886, 0.79038741,\n",
              "         0.79038741, 0.79038741, 0.79038741, 0.79038741, 0.79038741,\n",
              "         0.79038741, 0.79038741, 0.79413197, 0.79402579, 0.79530731,\n",
              "         0.79530702, 0.79778018, 0.79778081, 0.79920592, 0.79904196,\n",
              "         0.80111103, 0.80111103, 0.80111103, 0.80111103, 0.76709286,\n",
              "         0.77955189, 0.78482092, 0.78094724, 0.7900906 , 0.79273715,\n",
              "         0.79665362, 0.79316386, 0.79625161, 0.79625161, 0.79625161,\n",
              "         0.79625161, 0.76096788, 0.76352274, 0.76665505, 0.76625423,\n",
              "         0.78609978, 0.79077179, 0.79382756, 0.79311686, 0.78771816,\n",
              "         0.78771861, 0.78773521, 0.78772055]),\n",
              "  'split1_test_score': array([0.92480329, 0.92480329, 0.92480329, 0.92480329, 0.92600441,\n",
              "         0.92600441, 0.92600441, 0.92600441, 0.9259129 , 0.9259129 ,\n",
              "         0.9259129 , 0.9259129 , 0.91240312, 0.91274269, 0.91324119,\n",
              "         0.9129157 , 0.92155054, 0.92152048, 0.92146498, 0.92091421,\n",
              "         0.9282033 , 0.9282033 , 0.9282033 , 0.9282033 , 0.86897367,\n",
              "         0.86897068, 0.87307155, 0.87655735, 0.88084284, 0.88374437,\n",
              "         0.88250157, 0.88832493, 0.91032374, 0.91032374, 0.91032374,\n",
              "         0.91032374, 0.85518382, 0.83823653, 0.85401559, 0.85710509,\n",
              "         0.85410127, 0.85994095, 0.86840063, 0.87472225, 0.89713488,\n",
              "         0.89718818, 0.89713843, 0.89718402]),\n",
              "  'split2_test_score': array([0.87890569, 0.87890569, 0.87890569, 0.87890569, 0.88002001,\n",
              "         0.88002001, 0.88002001, 0.88002001, 0.88002001, 0.88002001,\n",
              "         0.88002001, 0.88002001, 0.89198871, 0.89183623, 0.89386219,\n",
              "         0.89386548, 0.89497946, 0.89662997, 0.89729142, 0.89620175,\n",
              "         0.89623428, 0.89623428, 0.89623428, 0.89623428, 0.88027772,\n",
              "         0.8852099 , 0.88812734, 0.89316147, 0.891377  , 0.89124937,\n",
              "         0.89254793, 0.89133648, 0.89914045, 0.89914045, 0.89914045,\n",
              "         0.89914045, 0.88499815, 0.88763773, 0.8903592 , 0.88451775,\n",
              "         0.89088309, 0.88898508, 0.89800337, 0.89273922, 0.89982918,\n",
              "         0.89982918, 0.89982918, 0.89982918]),\n",
              "  'split3_test_score': array([0.82435012, 0.82435012, 0.82435012, 0.82435012, 0.82254245,\n",
              "         0.82254245, 0.82254245, 0.82254245, 0.82254245, 0.82254245,\n",
              "         0.82254245, 0.82254245, 0.81019695, 0.81009394, 0.8159059 ,\n",
              "         0.81697024, 0.81091788, 0.81088787, 0.81728535, 0.81849843,\n",
              "         0.81881925, 0.81881911, 0.81881925, 0.81881911, 0.80230706,\n",
              "         0.80473366, 0.80596104, 0.80559119, 0.80573221, 0.8037726 ,\n",
              "         0.80613065, 0.80701039, 0.81097081, 0.81097081, 0.81097081,\n",
              "         0.81097081, 0.77701592, 0.77386494, 0.78653829, 0.79129021,\n",
              "         0.79373925, 0.78906755, 0.79470117, 0.79564111, 0.80467888,\n",
              "         0.80467897, 0.80467872, 0.80467977]),\n",
              "  'split4_test_score': array([0.86150076, 0.86150076, 0.86150076, 0.86150076, 0.86150076,\n",
              "         0.86150076, 0.86150076, 0.86150076, 0.86150076, 0.86150076,\n",
              "         0.86150076, 0.86150076, 0.8630198 , 0.86322515, 0.86334719,\n",
              "         0.86294765, 0.86330539, 0.86308175, 0.86335802, 0.86170023,\n",
              "         0.86295169, 0.86295169, 0.86295169, 0.86295169, 0.84072727,\n",
              "         0.84026135, 0.84578927, 0.8458606 , 0.84241108, 0.84220085,\n",
              "         0.8399691 , 0.83950918, 0.84597444, 0.84597444, 0.84597444,\n",
              "         0.84597444, 0.80211656, 0.80766491, 0.81726473, 0.83091438,\n",
              "         0.81563457, 0.81658886, 0.82722302, 0.83026782, 0.83948898,\n",
              "         0.83949   , 0.83949008, 0.83948575]),\n",
              "  'mean_test_score': array([0.85560374, 0.85560374, 0.85560374, 0.85560374, 0.85609101,\n",
              "         0.85609101, 0.85609101, 0.85609101, 0.85607271, 0.85607271,\n",
              "         0.85607271, 0.85607271, 0.85434811, 0.85438476, 0.85633276,\n",
              "         0.85640122, 0.85770669, 0.85798017, 0.85972114, 0.85927132,\n",
              "         0.86146391, 0.86146388, 0.86146391, 0.86146388, 0.83187571,\n",
              "         0.8357455 , 0.83955402, 0.84042357, 0.84209075, 0.84274087,\n",
              "         0.84356057, 0.84386897, 0.85253221, 0.85253221, 0.85253221,\n",
              "         0.85253221, 0.81605647, 0.81418537, 0.82296657, 0.82601633,\n",
              "         0.82809159, 0.82907085, 0.83643115, 0.83729745, 0.84577002,\n",
              "         0.84578099, 0.84577432, 0.84577985]),\n",
              "  'std_test_score': array([0.0465866 , 0.0465866 , 0.0465866 , 0.0465866 , 0.04675942,\n",
              "         0.04675942, 0.04675942, 0.04675942, 0.04673206, 0.04673206,\n",
              "         0.04673206, 0.04673206, 0.04568962, 0.04580676, 0.04484343,\n",
              "         0.04455921, 0.0474911 , 0.04774694, 0.04626001, 0.04573753,\n",
              "         0.04717282, 0.04717285, 0.04717282, 0.04717285, 0.04211529,\n",
              "         0.03921859, 0.03910466, 0.0421123 , 0.03989216, 0.04013366,\n",
              "         0.03880804, 0.04044272, 0.04571663, 0.04571663, 0.04571663,\n",
              "         0.04571663, 0.04698328, 0.04518554, 0.04480251, 0.04287267,\n",
              "         0.03928829, 0.03940954, 0.04112039, 0.04052406, 0.04617076,\n",
              "         0.04618246, 0.04616726, 0.04618102]),\n",
              "  'rank_test_score': array([19, 19, 19, 19, 11, 11, 11, 11, 15, 15, 15, 15, 24, 23, 10,  9,  8,\n",
              "          7,  5,  6,  1,  4,  1,  3, 42, 41, 38, 37, 36, 35, 34, 33, 25, 25,\n",
              "         25, 25, 47, 48, 46, 45, 44, 43, 40, 39, 32, 29, 31, 30],\n",
              "        dtype=int32)},\n",
              " 0.8614639096054806,\n",
              " {'max_depth': 4, 'min_samples_leaf': 5, 'min_samples_split': 2})"
            ]
          },
          "metadata": {},
          "execution_count": 29
        }
      ]
    },
    {
      "cell_type": "markdown",
      "source": [
        "经过上述调参结果后，我们得到了最终模型如下：\n",
        "- {'max_depth': 2, 'min_samples_leaf': 5, 'min_samples_split': 2})\n",
        "- {'learning_rate': 0.015, 'n_estimators': 250})"
      ],
      "metadata": {
        "id": "SjG3sytHuIgd"
      }
    },
    {
      "cell_type": "code",
      "source": [
        "#最终的模型\n",
        "f_model = ensemble.GradientBoostingRegressor(learning_rate=0.015,n_estimators=250,max_depth=2,min_samples_leaf=5,\n",
        "                                             min_samples_split=2,subsample=1,loss = 'squared_error')\n",
        "f_model.fit(X_train, y_train)\n",
        "print(\"Accuracy score (training): {0:.3f}\".format(f_model.score(X_train, y_train)))\n",
        "\n",
        "f_model.fit(X_test, y_test)\n",
        "print(\"Accuracy score (test): {0:.3f}\".format(f_model.score(X_test, y_test)))"
      ],
      "metadata": {
        "colab": {
          "base_uri": "https://localhost:8080/"
        },
        "id": "ZRO6aATFvaSi",
        "outputId": "19af0653-5292-4158-820d-32277f8c3457"
      },
      "execution_count": 30,
      "outputs": [
        {
          "output_type": "stream",
          "name": "stdout",
          "text": [
            "Accuracy score (training): 0.866\n",
            "Accuracy score (test): 0.818\n"
          ]
        }
      ]
    },
    {
      "cell_type": "code",
      "source": [
        "#查看变量的重要性\n",
        "feature_importance = f_model.feature_importances_\n",
        "sorted_idx = np.argsort(feature_importance)#得到重要性的排序索引\n",
        "fig = plt.figure(figsize=(12, 6))\n",
        "pos = np.arange(sorted_idx.shape[0]) + .5\n",
        "plt.barh(pos, feature_importance[sorted_idx], align='center')\n",
        "plt.yticks(pos, np.array(health_ins_df_processed.columns)[sorted_idx])\n",
        "plt.show()"
      ],
      "metadata": {
        "colab": {
          "base_uri": "https://localhost:8080/",
          "height": 377
        },
        "id": "jBIVprkzv0v1",
        "outputId": "091860eb-d21e-4827-820f-558a9bb1f647"
      },
      "execution_count": 31,
      "outputs": [
        {
          "output_type": "display_data",
          "data": {
            "text/plain": [
              "<Figure size 864x432 with 1 Axes>"
            ],
            "image/png": "[encoded data removed]"
          },
          "metadata": {}
        }
      ]
    },
    {
      "cell_type": "markdown",
      "source": [
        "# 保存模型"
      ],
      "metadata": {
        "id": "T_h0hIyFxgP1"
      }
    },
    {
      "cell_type": "code",
      "source": [
        "# 保存模型\n",
        "filename = 'health_insurance_data_model.sav'\n",
        "pickle.dump(f_model, open(filename, 'wb'))"
      ],
      "metadata": {
        "id": "IPD4o9wvyU_5"
      },
      "execution_count": 32,
      "outputs": []
    },
    {
      "cell_type": "code",
      "source": [
        "# 加载模型\n",
        "filename = 'health_insurance_data_model.sav'\n",
        "loaded_model = pickle.load(open(filename, 'rb'))\n",
        "result = loaded_model.score(X_test, y_test)\n",
        "print(result) #测试集精度"
      ],
      "metadata": {
        "colab": {
          "base_uri": "https://localhost:8080/"
        },
        "id": "BDJJJUA6ymPr",
        "outputId": "bcfa2c74-14bb-49a8-a460-b956cce63c35"
      },
      "execution_count": 33,
      "outputs": [
        {
          "output_type": "stream",
          "name": "stdout",
          "text": [
            "0.8180114370687565\n"
          ]
        }
      ]
    },
    {
      "cell_type": "code",
      "source": [
        ""
      ],
      "metadata": {
        "id": "e2V2Sh1RzHMY"
      },
      "execution_count": null,
      "outputs": []
    }
  ]
}